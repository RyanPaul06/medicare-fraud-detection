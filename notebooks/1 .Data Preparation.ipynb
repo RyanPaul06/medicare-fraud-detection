{
 "cells": [
  {
   "cell_type": "markdown",
   "id": "a92ff598",
   "metadata": {},
   "source": [
    "# Health Insurance fraud detection using Medicare Providers dataset : _'Medicare Provider Utilization and Payment Data: Physician and Other Supplier'_\n",
    "\n",
    "https://data.cms.gov/provider-summary-by-type-of-service/medicare-physician-other-practitioners/medicare-physician-other-practitioners-by-provider"
   ]
  },
  {
   "cell_type": "code",
   "execution_count": 1,
   "id": "0e56f762",
   "metadata": {},
   "outputs": [],
   "source": [
    "import pandas as pd\n",
    "pd.set_option('display.max_columns', None)\n",
    "import numpy as np\n",
    "import seaborn as sns\n",
    "import matplotlib.pyplot as plt\n",
    "import os\n",
    "import gdown\n",
    "from pathlib import Path"
   ]
  },
  {
   "cell_type": "code",
   "execution_count": 2,
   "id": "e70ae327",
   "metadata": {},
   "outputs": [],
   "source": [
    "#Change directory to root\n",
    "path = Path(os.getcwd())\n",
    "root_dir = path.parent.absolute()\n",
    "os.chdir(str(root_dir))"
   ]
  },
  {
   "cell_type": "code",
   "execution_count": 3,
   "id": "6e2d556b",
   "metadata": {},
   "outputs": [
    {
     "name": "stderr",
     "output_type": "stream",
     "text": [
      "Downloading...\n",
      "From: https://drive.google.com/uc?id=10C_X5E5CFsMmbv2PHGzLyLMgkCEoJMPy\n",
      "To: D:\\Workspace\\Projects\\Medicare_Fraud_Detection\\data\\raw\\CMS_2016.csv\n",
      "100%|███████████████████████████████████████████████████████████████████████████████| 430M/430M [00:37<00:00, 11.4MB/s]\n",
      "Downloading...\n",
      "From: https://drive.google.com/uc?id=1CuQFIlTo1yDNsofJegD9O-M7YWTscBex\n",
      "To: D:\\Workspace\\Projects\\Medicare_Fraud_Detection\\data\\raw\\CMS_2017.csv\n",
      "100%|███████████████████████████████████████████████████████████████████████████████| 443M/443M [00:39<00:00, 11.2MB/s]\n",
      "Downloading...\n",
      "From: https://drive.google.com/uc?id=1CCPCiLPBYlxgE2sH9cwvhhN2esKe1N9w\n",
      "To: D:\\Workspace\\Projects\\Medicare_Fraud_Detection\\data\\raw\\CMS_2018.csv\n",
      "100%|███████████████████████████████████████████████████████████████████████████████| 456M/456M [00:39<00:00, 11.5MB/s]\n",
      "Downloading...\n",
      "From: https://drive.google.com/uc?id=1qE9rAZrbqNxQ2dEXm7WdFXf5UJ743BRP\n",
      "To: D:\\Workspace\\Projects\\Medicare_Fraud_Detection\\data\\raw\\CMS_2019.csv\n",
      "100%|███████████████████████████████████████████████████████████████████████████████| 470M/470M [00:41<00:00, 11.4MB/s]\n"
     ]
    }
   ],
   "source": [
    "#Download raw data (not necessary if raw data is already downloaded)\n",
    "data_2016 = gdown.download(id='10C_X5E5CFsMmbv2PHGzLyLMgkCEoJMPy',output='data/raw/CMS_2016.csv',quiet=False)\n",
    "data_2017 = gdown.download(id=\"1CuQFIlTo1yDNsofJegD9O-M7YWTscBex\",output='data/raw/CMS_2017.csv',quiet=False)\n",
    "data_2018 = gdown.download(id=\"1CCPCiLPBYlxgE2sH9cwvhhN2esKe1N9w\",output='data/raw/CMS_2018.csv',quiet=False)\n",
    "data_2019 = gdown.download(id=\"1qE9rAZrbqNxQ2dEXm7WdFXf5UJ743BRP\",output='data/raw/CMS_2019.csv',quiet=False)"
   ]
  },
  {
   "cell_type": "markdown",
   "id": "dad4c98c",
   "metadata": {},
   "source": [
    "## 1. Data Preparation"
   ]
  },
  {
   "cell_type": "code",
   "execution_count": 4,
   "id": "8c871d8b",
   "metadata": {},
   "outputs": [],
   "source": [
    "#Read raw data\n",
    "df_cms_2016 = pd.read_csv('data/raw/CMS_2016.csv',low_memory=False)\n",
    "df_cms_2017 = pd.read_csv('data/raw/CMS_2017.csv',low_memory=False)\n",
    "df_cms_2018 = pd.read_csv('data/raw/CMS_2018.csv',low_memory=False)\n",
    "df_cms_2019 = pd.read_csv('data/raw/CMS_2019.csv',encoding = \"ISO-8859-1\",low_memory=False) "
   ]
  },
  {
   "cell_type": "markdown",
   "id": "de2afbbc",
   "metadata": {},
   "source": [
    "### 1.1 Medicare Part B data"
   ]
  },
  {
   "cell_type": "markdown",
   "id": "66629893",
   "metadata": {},
   "source": [
    "The database describes the services and procedures that health care professionals provide to Medicare beneficiaries. The records in the dataset contain various provider-level attributes, such as National Provider Identifier (NPI), first and last name, gender, address, etc.\n",
    "In addition, the records contain information that describes a provider's Medicare activity in a given year. Examples include: the procedure performed, the average fee submitted to Medicare, the average amount paid by Medicare, and the location of service.\n"
   ]
  },
  {
   "cell_type": "code",
   "execution_count": 5,
   "id": "edaafa7f",
   "metadata": {},
   "outputs": [
    {
     "name": "stdout",
     "output_type": "stream",
     "text": [
      "2016 shape : (1053958, 73)\n",
      "2017 shape : (1088687, 73)\n",
      "2018 shape : (1121462, 73)\n",
      "2019 shape : (1155870, 73)\n"
     ]
    }
   ],
   "source": [
    "print('2016 shape :' ,df_cms_2016.shape)\n",
    "print('2017 shape :' ,df_cms_2017.shape)\n",
    "print('2018 shape :' ,df_cms_2018.shape)\n",
    "print('2019 shape :' ,df_cms_2019.shape)"
   ]
  },
  {
   "cell_type": "code",
   "execution_count": 6,
   "id": "a318fc06",
   "metadata": {},
   "outputs": [],
   "source": [
    "#Add year column\n",
    "df_cms_2016['year']=2016\n",
    "df_cms_2017['year']=2017\n",
    "df_cms_2018['year']=2018\n",
    "df_cms_2019['year']=2019"
   ]
  },
  {
   "cell_type": "markdown",
   "id": "6689fb4a",
   "metadata": {},
   "source": [
    "This database is aggregated at the NPI level, the identifier of a provider, and contains information for the years 2016 through 2019 with over one million records and 73 variables for each year, which makes this database an excellent candidate for data analysis and machine learning."
   ]
  },
  {
   "cell_type": "code",
   "execution_count": 7,
   "id": "8f471f49",
   "metadata": {},
   "outputs": [],
   "source": [
    "df_cms = pd.concat([df_cms_2016, df_cms_2017,df_cms_2018,df_cms_2019])"
   ]
  },
  {
   "cell_type": "code",
   "execution_count": 8,
   "id": "070a2719",
   "metadata": {},
   "outputs": [
    {
     "data": {
      "text/plain": [
       "(4419977, 74)"
      ]
     },
     "execution_count": 8,
     "metadata": {},
     "output_type": "execute_result"
    }
   ],
   "source": [
    "df_cms.shape"
   ]
  },
  {
   "cell_type": "markdown",
   "id": "5ffa3b68",
   "metadata": {},
   "source": [
    "The final database contains approximately 4.4 million records and 73 attributes."
   ]
  },
  {
   "cell_type": "markdown",
   "id": "9bbfa41f",
   "metadata": {},
   "source": [
    "As we're intrested in fraud detection, we kept only the most relevant columns/features in order to build our predective models, the feature selection was based mainly on state of the art results using the Medicare data."
   ]
  },
  {
   "cell_type": "code",
   "execution_count": 9,
   "id": "46175993",
   "metadata": {},
   "outputs": [],
   "source": [
    "#keep only relevant columns:\n",
    "cols =  ['Rndrng_NPI','Rndrng_Prvdr_Type', 'Rndrng_Prvdr_State_Abrvtn'\n",
    "         ,'Rndrng_Prvdr_Gndr','Tot_HCPCS_Cds', 'Bene_Male_Cnt','Bene_Avg_Age',\n",
    "         'Tot_Srvcs','Tot_Benes','Bene_Avg_Risk_Scre',\n",
    "         'Tot_Sbmtd_Chrg','Tot_Mdcr_Pymt_Amt','year']\n",
    "df_cms=df_cms[cols].copy()"
   ]
  },
  {
   "cell_type": "code",
   "execution_count": 10,
   "id": "b0b62781",
   "metadata": {},
   "outputs": [
    {
     "name": "stdout",
     "output_type": "stream",
     "text": [
      "New shape : (4419977, 13)\n"
     ]
    }
   ],
   "source": [
    "print('New shape :',df_cms.shape)"
   ]
  },
  {
   "cell_type": "code",
   "execution_count": 11,
   "id": "024c8265",
   "metadata": {},
   "outputs": [],
   "source": [
    "df_cms.sort_values(by=['Rndrng_NPI'],inplace=True) #sort by NPI"
   ]
  },
  {
   "cell_type": "code",
   "execution_count": 12,
   "id": "3d095591",
   "metadata": {},
   "outputs": [
    {
     "data": {
      "text/html": [
       "<div>\n",
       "<style scoped>\n",
       "    .dataframe tbody tr th:only-of-type {\n",
       "        vertical-align: middle;\n",
       "    }\n",
       "\n",
       "    .dataframe tbody tr th {\n",
       "        vertical-align: top;\n",
       "    }\n",
       "\n",
       "    .dataframe thead th {\n",
       "        text-align: right;\n",
       "    }\n",
       "</style>\n",
       "<table border=\"1\" class=\"dataframe\">\n",
       "  <thead>\n",
       "    <tr style=\"text-align: right;\">\n",
       "      <th></th>\n",
       "      <th>Rndrng_NPI</th>\n",
       "      <th>Rndrng_Prvdr_Type</th>\n",
       "      <th>Rndrng_Prvdr_State_Abrvtn</th>\n",
       "      <th>Rndrng_Prvdr_Gndr</th>\n",
       "      <th>Tot_HCPCS_Cds</th>\n",
       "      <th>Bene_Male_Cnt</th>\n",
       "      <th>Bene_Avg_Age</th>\n",
       "      <th>Tot_Srvcs</th>\n",
       "      <th>Tot_Benes</th>\n",
       "      <th>Bene_Avg_Risk_Scre</th>\n",
       "      <th>Tot_Sbmtd_Chrg</th>\n",
       "      <th>Tot_Mdcr_Pymt_Amt</th>\n",
       "      <th>year</th>\n",
       "    </tr>\n",
       "  </thead>\n",
       "  <tbody>\n",
       "    <tr>\n",
       "      <th>0</th>\n",
       "      <td>1003000126</td>\n",
       "      <td>Internal Medicine</td>\n",
       "      <td>MD</td>\n",
       "      <td>M</td>\n",
       "      <td>23</td>\n",
       "      <td>232.0</td>\n",
       "      <td>75</td>\n",
       "      <td>1477.0</td>\n",
       "      <td>518</td>\n",
       "      <td>2.0239</td>\n",
       "      <td>746533.0</td>\n",
       "      <td>124795.99</td>\n",
       "      <td>2016</td>\n",
       "    </tr>\n",
       "    <tr>\n",
       "      <th>0</th>\n",
       "      <td>1003000126</td>\n",
       "      <td>Internal Medicine</td>\n",
       "      <td>MD</td>\n",
       "      <td>M</td>\n",
       "      <td>19</td>\n",
       "      <td>182.0</td>\n",
       "      <td>76</td>\n",
       "      <td>1218.0</td>\n",
       "      <td>445</td>\n",
       "      <td>2.2948</td>\n",
       "      <td>692640.0</td>\n",
       "      <td>102505.73</td>\n",
       "      <td>2018</td>\n",
       "    </tr>\n",
       "    <tr>\n",
       "      <th>0</th>\n",
       "      <td>1003000126</td>\n",
       "      <td>Internal Medicine</td>\n",
       "      <td>MD</td>\n",
       "      <td>M</td>\n",
       "      <td>18</td>\n",
       "      <td>265.0</td>\n",
       "      <td>75</td>\n",
       "      <td>1392.0</td>\n",
       "      <td>610</td>\n",
       "      <td>2.5917</td>\n",
       "      <td>519136.0</td>\n",
       "      <td>124877.67</td>\n",
       "      <td>2019</td>\n",
       "    </tr>\n",
       "    <tr>\n",
       "      <th>0</th>\n",
       "      <td>1003000126</td>\n",
       "      <td>Internal Medicine</td>\n",
       "      <td>MD</td>\n",
       "      <td>M</td>\n",
       "      <td>23</td>\n",
       "      <td>240.0</td>\n",
       "      <td>75</td>\n",
       "      <td>1670.0</td>\n",
       "      <td>578</td>\n",
       "      <td>2.1178</td>\n",
       "      <td>800850.0</td>\n",
       "      <td>137084.55</td>\n",
       "      <td>2017</td>\n",
       "    </tr>\n",
       "    <tr>\n",
       "      <th>1</th>\n",
       "      <td>1003000134</td>\n",
       "      <td>Pathology</td>\n",
       "      <td>IL</td>\n",
       "      <td>M</td>\n",
       "      <td>21</td>\n",
       "      <td>1703.0</td>\n",
       "      <td>76</td>\n",
       "      <td>7329.0</td>\n",
       "      <td>3322</td>\n",
       "      <td>1.0899</td>\n",
       "      <td>1143597.0</td>\n",
       "      <td>214070.99</td>\n",
       "      <td>2018</td>\n",
       "    </tr>\n",
       "  </tbody>\n",
       "</table>\n",
       "</div>"
      ],
      "text/plain": [
       "   Rndrng_NPI  Rndrng_Prvdr_Type Rndrng_Prvdr_State_Abrvtn Rndrng_Prvdr_Gndr  \\\n",
       "0  1003000126  Internal Medicine                        MD                 M   \n",
       "0  1003000126  Internal Medicine                        MD                 M   \n",
       "0  1003000126  Internal Medicine                        MD                 M   \n",
       "0  1003000126  Internal Medicine                        MD                 M   \n",
       "1  1003000134          Pathology                        IL                 M   \n",
       "\n",
       "   Tot_HCPCS_Cds  Bene_Male_Cnt  Bene_Avg_Age  Tot_Srvcs  Tot_Benes  \\\n",
       "0             23          232.0            75     1477.0        518   \n",
       "0             19          182.0            76     1218.0        445   \n",
       "0             18          265.0            75     1392.0        610   \n",
       "0             23          240.0            75     1670.0        578   \n",
       "1             21         1703.0            76     7329.0       3322   \n",
       "\n",
       "   Bene_Avg_Risk_Scre  Tot_Sbmtd_Chrg  Tot_Mdcr_Pymt_Amt  year  \n",
       "0              2.0239        746533.0          124795.99  2016  \n",
       "0              2.2948        692640.0          102505.73  2018  \n",
       "0              2.5917        519136.0          124877.67  2019  \n",
       "0              2.1178        800850.0          137084.55  2017  \n",
       "1              1.0899       1143597.0          214070.99  2018  "
      ]
     },
     "execution_count": 12,
     "metadata": {},
     "output_type": "execute_result"
    }
   ],
   "source": [
    "df_cms.head(5)"
   ]
  },
  {
   "cell_type": "code",
   "execution_count": 13,
   "id": "57b65c59",
   "metadata": {},
   "outputs": [],
   "source": [
    "#Fix index\n",
    "df_cms=df_cms.reset_index()\n",
    "df_cms.drop('index', axis=1, inplace=True)"
   ]
  },
  {
   "cell_type": "code",
   "execution_count": 14,
   "id": "b8dcc194",
   "metadata": {},
   "outputs": [
    {
     "data": {
      "text/html": [
       "<div>\n",
       "<style scoped>\n",
       "    .dataframe tbody tr th:only-of-type {\n",
       "        vertical-align: middle;\n",
       "    }\n",
       "\n",
       "    .dataframe tbody tr th {\n",
       "        vertical-align: top;\n",
       "    }\n",
       "\n",
       "    .dataframe thead th {\n",
       "        text-align: right;\n",
       "    }\n",
       "</style>\n",
       "<table border=\"1\" class=\"dataframe\">\n",
       "  <thead>\n",
       "    <tr style=\"text-align: right;\">\n",
       "      <th></th>\n",
       "      <th>Rndrng_NPI</th>\n",
       "      <th>Rndrng_Prvdr_Type</th>\n",
       "      <th>Rndrng_Prvdr_State_Abrvtn</th>\n",
       "      <th>Rndrng_Prvdr_Gndr</th>\n",
       "      <th>Tot_HCPCS_Cds</th>\n",
       "      <th>Bene_Male_Cnt</th>\n",
       "      <th>Bene_Avg_Age</th>\n",
       "      <th>Tot_Srvcs</th>\n",
       "      <th>Tot_Benes</th>\n",
       "      <th>Bene_Avg_Risk_Scre</th>\n",
       "      <th>Tot_Sbmtd_Chrg</th>\n",
       "      <th>Tot_Mdcr_Pymt_Amt</th>\n",
       "      <th>year</th>\n",
       "    </tr>\n",
       "  </thead>\n",
       "  <tbody>\n",
       "    <tr>\n",
       "      <th>0</th>\n",
       "      <td>1003000126</td>\n",
       "      <td>Internal Medicine</td>\n",
       "      <td>MD</td>\n",
       "      <td>M</td>\n",
       "      <td>23</td>\n",
       "      <td>232.0</td>\n",
       "      <td>75</td>\n",
       "      <td>1477.0</td>\n",
       "      <td>518</td>\n",
       "      <td>2.0239</td>\n",
       "      <td>746533.0</td>\n",
       "      <td>124795.99</td>\n",
       "      <td>2016</td>\n",
       "    </tr>\n",
       "    <tr>\n",
       "      <th>1</th>\n",
       "      <td>1003000126</td>\n",
       "      <td>Internal Medicine</td>\n",
       "      <td>MD</td>\n",
       "      <td>M</td>\n",
       "      <td>19</td>\n",
       "      <td>182.0</td>\n",
       "      <td>76</td>\n",
       "      <td>1218.0</td>\n",
       "      <td>445</td>\n",
       "      <td>2.2948</td>\n",
       "      <td>692640.0</td>\n",
       "      <td>102505.73</td>\n",
       "      <td>2018</td>\n",
       "    </tr>\n",
       "    <tr>\n",
       "      <th>2</th>\n",
       "      <td>1003000126</td>\n",
       "      <td>Internal Medicine</td>\n",
       "      <td>MD</td>\n",
       "      <td>M</td>\n",
       "      <td>18</td>\n",
       "      <td>265.0</td>\n",
       "      <td>75</td>\n",
       "      <td>1392.0</td>\n",
       "      <td>610</td>\n",
       "      <td>2.5917</td>\n",
       "      <td>519136.0</td>\n",
       "      <td>124877.67</td>\n",
       "      <td>2019</td>\n",
       "    </tr>\n",
       "    <tr>\n",
       "      <th>3</th>\n",
       "      <td>1003000126</td>\n",
       "      <td>Internal Medicine</td>\n",
       "      <td>MD</td>\n",
       "      <td>M</td>\n",
       "      <td>23</td>\n",
       "      <td>240.0</td>\n",
       "      <td>75</td>\n",
       "      <td>1670.0</td>\n",
       "      <td>578</td>\n",
       "      <td>2.1178</td>\n",
       "      <td>800850.0</td>\n",
       "      <td>137084.55</td>\n",
       "      <td>2017</td>\n",
       "    </tr>\n",
       "    <tr>\n",
       "      <th>4</th>\n",
       "      <td>1003000134</td>\n",
       "      <td>Pathology</td>\n",
       "      <td>IL</td>\n",
       "      <td>M</td>\n",
       "      <td>21</td>\n",
       "      <td>1703.0</td>\n",
       "      <td>76</td>\n",
       "      <td>7329.0</td>\n",
       "      <td>3322</td>\n",
       "      <td>1.0899</td>\n",
       "      <td>1143597.0</td>\n",
       "      <td>214070.99</td>\n",
       "      <td>2018</td>\n",
       "    </tr>\n",
       "  </tbody>\n",
       "</table>\n",
       "</div>"
      ],
      "text/plain": [
       "   Rndrng_NPI  Rndrng_Prvdr_Type Rndrng_Prvdr_State_Abrvtn Rndrng_Prvdr_Gndr  \\\n",
       "0  1003000126  Internal Medicine                        MD                 M   \n",
       "1  1003000126  Internal Medicine                        MD                 M   \n",
       "2  1003000126  Internal Medicine                        MD                 M   \n",
       "3  1003000126  Internal Medicine                        MD                 M   \n",
       "4  1003000134          Pathology                        IL                 M   \n",
       "\n",
       "   Tot_HCPCS_Cds  Bene_Male_Cnt  Bene_Avg_Age  Tot_Srvcs  Tot_Benes  \\\n",
       "0             23          232.0            75     1477.0        518   \n",
       "1             19          182.0            76     1218.0        445   \n",
       "2             18          265.0            75     1392.0        610   \n",
       "3             23          240.0            75     1670.0        578   \n",
       "4             21         1703.0            76     7329.0       3322   \n",
       "\n",
       "   Bene_Avg_Risk_Scre  Tot_Sbmtd_Chrg  Tot_Mdcr_Pymt_Amt  year  \n",
       "0              2.0239        746533.0          124795.99  2016  \n",
       "1              2.2948        692640.0          102505.73  2018  \n",
       "2              2.5917        519136.0          124877.67  2019  \n",
       "3              2.1178        800850.0          137084.55  2017  \n",
       "4              1.0899       1143597.0          214070.99  2018  "
      ]
     },
     "execution_count": 14,
     "metadata": {},
     "output_type": "execute_result"
    }
   ],
   "source": [
    "df_cms.head(5)"
   ]
  },
  {
   "cell_type": "markdown",
   "id": "14a026ca",
   "metadata": {},
   "source": [
    "In order to prepare this database for fraud detection, we need to add a label that indicates whether the provider is fraudulent or not, for this we need to use a second database, which associates fraud labels to the providers listed in the Medicare Part B database."
   ]
  },
  {
   "cell_type": "markdown",
   "id": "7339a511",
   "metadata": {},
   "source": [
    "### 1.2 LEIE data"
   ]
  },
  {
   "cell_type": "code",
   "execution_count": 15,
   "id": "bb20269c",
   "metadata": {},
   "outputs": [],
   "source": [
    "df_leie= pd.read_csv('data/raw/LEIE.csv',low_memory=False)"
   ]
  },
  {
   "cell_type": "markdown",
   "id": "435be28f",
   "metadata": {},
   "source": [
    "Actual Medicare provider fraud labels are identified using LEIE data.\n",
    "\n",
    "LEIE is maintained by the OIG in accordance with sections 1128 and 1156 of the Social Security Act and is updated monthly. The OIG has the authority to exclude providers from federally funded health care programs for various reasons. Excluded individuals cannot receive payment from federal health programs for any services, and must apply for reinstatement once their exclusion period has expired. The current LEIE data format contains 18 attributes that describe the provider and the reason for the exclusion."
   ]
  },
  {
   "cell_type": "markdown",
   "id": "5c7c5455",
   "metadata": {},
   "source": [
    "The LEIE exclusion type attribute is a categorical value that describes the reason a provider was excluded.\n",
    "Following the work of Bauder and Khoshgoftaar (https://journalofbigdata.springeropen.com/articles/10.1186/s40537-018-0138-3), a subset of exclusion rules that are most indicative of fraud is selected to label Medicare providers."
   ]
  },
  {
   "attachments": {
    "Capture.PNG": {
     "image/png": "[encoded data removed]"
    }
   },
   "cell_type": "markdown",
   "id": "2e0021bc",
   "metadata": {},
   "source": [
    "![Capture.PNG](attachment:Capture.PNG)"
   ]
  },
  {
   "cell_type": "markdown",
   "id": "068925c7",
   "metadata": {},
   "source": [
    "For providers in the Medicare Part B database, whose NPI number matches that in the LEIE database, claims prior to the date of the provider's exclusion are considered fraudulent, i.e., a provider's reimbursement activity prior to the date of its Medicare exclusion reflects fraudulent activity, since it was convicted shortly thereafter."
   ]
  },
  {
   "cell_type": "markdown",
   "id": "f1d7d115",
   "metadata": {},
   "source": [
    "### 1.3 Labeling of the dataset"
   ]
  },
  {
   "cell_type": "markdown",
   "id": "8860e30c",
   "metadata": {},
   "source": [
    "Fraudulent provider labels are generated by matching the NPI numbers of individuals excluded from the LEIE data set to the Medicare Part B data set."
   ]
  },
  {
   "cell_type": "code",
   "execution_count": 16,
   "id": "0c4cc522",
   "metadata": {},
   "outputs": [
    {
     "data": {
      "text/plain": [
       "Index(['LASTNAME', 'FIRSTNAME', 'MIDNAME', 'BUSNAME', 'GENERAL', 'SPECIALTY',\n",
       "       'UPIN', 'NPI', 'DOB', 'ADDRESS', 'CITY', 'STATE', 'ZIP', 'EXCLTYPE',\n",
       "       'EXCLDATE', 'REINDATE', 'WAIVERDATE', 'WVRSTATE'],\n",
       "      dtype='object')"
      ]
     },
     "execution_count": 16,
     "metadata": {},
     "output_type": "execute_result"
    }
   ],
   "source": [
    "df_leie.columns"
   ]
  },
  {
   "cell_type": "code",
   "execution_count": 17,
   "id": "cbf4cd66",
   "metadata": {},
   "outputs": [],
   "source": [
    "#delete unnecessary columns\n",
    "droped_cols_leie = [col for col in df_leie.columns if col not in ['NPI','EXCLTYPE','EXCLDATE'\n",
    "                                                                   ,'REINDATE', 'WAIVERDATE']]\n",
    "df_leie.drop(droped_cols_leie, axis=1, inplace=True)"
   ]
  },
  {
   "cell_type": "code",
   "execution_count": 18,
   "id": "eed167ec",
   "metadata": {},
   "outputs": [],
   "source": [
    "#drop NPI = 0\n",
    "df_leie=df_leie[df_leie[\"NPI\"]>0]"
   ]
  },
  {
   "cell_type": "code",
   "execution_count": 19,
   "id": "d1a422cd",
   "metadata": {},
   "outputs": [
    {
     "data": {
      "text/html": [
       "<div>\n",
       "<style scoped>\n",
       "    .dataframe tbody tr th:only-of-type {\n",
       "        vertical-align: middle;\n",
       "    }\n",
       "\n",
       "    .dataframe tbody tr th {\n",
       "        vertical-align: top;\n",
       "    }\n",
       "\n",
       "    .dataframe thead th {\n",
       "        text-align: right;\n",
       "    }\n",
       "</style>\n",
       "<table border=\"1\" class=\"dataframe\">\n",
       "  <thead>\n",
       "    <tr style=\"text-align: right;\">\n",
       "      <th></th>\n",
       "      <th>NPI</th>\n",
       "      <th>EXCLTYPE</th>\n",
       "      <th>EXCLDATE</th>\n",
       "      <th>REINDATE</th>\n",
       "      <th>WAIVERDATE</th>\n",
       "    </tr>\n",
       "  </thead>\n",
       "  <tbody>\n",
       "    <tr>\n",
       "      <th>1</th>\n",
       "      <td>1972902351</td>\n",
       "      <td>1128b8</td>\n",
       "      <td>20220320</td>\n",
       "      <td>0</td>\n",
       "      <td>0</td>\n",
       "    </tr>\n",
       "    <tr>\n",
       "      <th>4</th>\n",
       "      <td>1922348218</td>\n",
       "      <td>1128a1</td>\n",
       "      <td>20180419</td>\n",
       "      <td>0</td>\n",
       "      <td>0</td>\n",
       "    </tr>\n",
       "    <tr>\n",
       "      <th>24</th>\n",
       "      <td>1942476080</td>\n",
       "      <td>1128b8</td>\n",
       "      <td>20170518</td>\n",
       "      <td>0</td>\n",
       "      <td>0</td>\n",
       "    </tr>\n",
       "    <tr>\n",
       "      <th>28</th>\n",
       "      <td>1275600959</td>\n",
       "      <td>1128a1</td>\n",
       "      <td>20130320</td>\n",
       "      <td>0</td>\n",
       "      <td>0</td>\n",
       "    </tr>\n",
       "    <tr>\n",
       "      <th>31</th>\n",
       "      <td>1891731758</td>\n",
       "      <td>1128b8</td>\n",
       "      <td>20170518</td>\n",
       "      <td>0</td>\n",
       "      <td>0</td>\n",
       "    </tr>\n",
       "  </tbody>\n",
       "</table>\n",
       "</div>"
      ],
      "text/plain": [
       "           NPI EXCLTYPE  EXCLDATE  REINDATE  WAIVERDATE\n",
       "1   1972902351   1128b8  20220320         0           0\n",
       "4   1922348218   1128a1  20180419         0           0\n",
       "24  1942476080   1128b8  20170518         0           0\n",
       "28  1275600959   1128a1  20130320         0           0\n",
       "31  1891731758   1128b8  20170518         0           0"
      ]
     },
     "execution_count": 19,
     "metadata": {},
     "output_type": "execute_result"
    }
   ],
   "source": [
    "df_leie.head()"
   ]
  },
  {
   "cell_type": "code",
   "execution_count": 20,
   "id": "2c55ecf7",
   "metadata": {},
   "outputs": [
    {
     "name": "stdout",
     "output_type": "stream",
     "text": [
      "max Rein 0\n",
      "max Waiver 20160218\n"
     ]
    }
   ],
   "source": [
    "print('max Rein',df_leie['REINDATE'].max())\n",
    "print('max Waiver',df_leie['WAIVERDATE'].max())"
   ]
  },
  {
   "cell_type": "code",
   "execution_count": 21,
   "id": "e97926d5",
   "metadata": {},
   "outputs": [
    {
     "data": {
      "text/html": [
       "<div>\n",
       "<style scoped>\n",
       "    .dataframe tbody tr th:only-of-type {\n",
       "        vertical-align: middle;\n",
       "    }\n",
       "\n",
       "    .dataframe tbody tr th {\n",
       "        vertical-align: top;\n",
       "    }\n",
       "\n",
       "    .dataframe thead th {\n",
       "        text-align: right;\n",
       "    }\n",
       "</style>\n",
       "<table border=\"1\" class=\"dataframe\">\n",
       "  <thead>\n",
       "    <tr style=\"text-align: right;\">\n",
       "      <th></th>\n",
       "      <th>NPI</th>\n",
       "      <th>EXCLTYPE</th>\n",
       "      <th>EXCLDATE</th>\n",
       "      <th>WAIVERDATE</th>\n",
       "    </tr>\n",
       "  </thead>\n",
       "  <tbody>\n",
       "    <tr>\n",
       "      <th>1</th>\n",
       "      <td>1972902351</td>\n",
       "      <td>1128b8</td>\n",
       "      <td>20220320</td>\n",
       "      <td>0</td>\n",
       "    </tr>\n",
       "    <tr>\n",
       "      <th>4</th>\n",
       "      <td>1922348218</td>\n",
       "      <td>1128a1</td>\n",
       "      <td>20180419</td>\n",
       "      <td>0</td>\n",
       "    </tr>\n",
       "    <tr>\n",
       "      <th>24</th>\n",
       "      <td>1942476080</td>\n",
       "      <td>1128b8</td>\n",
       "      <td>20170518</td>\n",
       "      <td>0</td>\n",
       "    </tr>\n",
       "    <tr>\n",
       "      <th>28</th>\n",
       "      <td>1275600959</td>\n",
       "      <td>1128a1</td>\n",
       "      <td>20130320</td>\n",
       "      <td>0</td>\n",
       "    </tr>\n",
       "    <tr>\n",
       "      <th>31</th>\n",
       "      <td>1891731758</td>\n",
       "      <td>1128b8</td>\n",
       "      <td>20170518</td>\n",
       "      <td>0</td>\n",
       "    </tr>\n",
       "  </tbody>\n",
       "</table>\n",
       "</div>"
      ],
      "text/plain": [
       "           NPI EXCLTYPE  EXCLDATE  WAIVERDATE\n",
       "1   1972902351   1128b8  20220320           0\n",
       "4   1922348218   1128a1  20180419           0\n",
       "24  1942476080   1128b8  20170518           0\n",
       "28  1275600959   1128a1  20130320           0\n",
       "31  1891731758   1128b8  20170518           0"
      ]
     },
     "execution_count": 21,
     "metadata": {},
     "output_type": "execute_result"
    }
   ],
   "source": [
    "#Drop REINDATE \n",
    "df_leie.drop('REINDATE', axis=1, inplace=True)\n",
    "df_leie.head()"
   ]
  },
  {
   "cell_type": "code",
   "execution_count": 22,
   "id": "268f485f",
   "metadata": {},
   "outputs": [
    {
     "data": {
      "text/plain": [
       "array(['1128b8', '1128a1', '1128b7', '1128b7   ', '1128a1   ', '1128b5',\n",
       "       '1128a2', '1128a4', '1128b1', '1128a3', 'BRCH CIA', '1128b6   ',\n",
       "       '1128b4', 'BRCH SA', '1128Aa', '1128b16', '1128b2   ', '1128b14',\n",
       "       '1128a3   ', '1128b3', '1128a2   ', '1128b2', '1128b6',\n",
       "       '1128a4   ', '1156', '1128b15', '1128b5   '], dtype=object)"
      ]
     },
     "execution_count": 22,
     "metadata": {},
     "output_type": "execute_result"
    }
   ],
   "source": [
    "df_leie['EXCLTYPE'].unique()"
   ]
  },
  {
   "cell_type": "code",
   "execution_count": 23,
   "id": "c427ed37",
   "metadata": {},
   "outputs": [],
   "source": [
    "df_leie['EXCLTYPE'] = df_leie['EXCLTYPE'].str.replace(' ', '')"
   ]
  },
  {
   "cell_type": "code",
   "execution_count": 24,
   "id": "71fef937",
   "metadata": {},
   "outputs": [],
   "source": [
    "#Keep relevant codes\n",
    "droped_rows_leie = [row for row in df_leie['EXCLTYPE'].unique() if row not in ['1128a1','1128a2','1128a3'\n",
    "                                                                   ,'1128b4','1128b7']]\n",
    "for row in droped_rows_leie :\n",
    "    df_leie.drop(df_leie[df_leie['EXCLTYPE'] == row].index, inplace = True)"
   ]
  },
  {
   "cell_type": "code",
   "execution_count": 25,
   "id": "a35e319c",
   "metadata": {},
   "outputs": [
    {
     "data": {
      "text/plain": [
       "['1128a1', '1128b7', '1128a2', '1128a3', '1128b4']"
      ]
     },
     "execution_count": 25,
     "metadata": {},
     "output_type": "execute_result"
    }
   ],
   "source": [
    "list(df_leie['EXCLTYPE'].unique())"
   ]
  },
  {
   "cell_type": "code",
   "execution_count": 26,
   "id": "dc25ba58",
   "metadata": {},
   "outputs": [
    {
     "data": {
      "text/html": [
       "<div>\n",
       "<style scoped>\n",
       "    .dataframe tbody tr th:only-of-type {\n",
       "        vertical-align: middle;\n",
       "    }\n",
       "\n",
       "    .dataframe tbody tr th {\n",
       "        vertical-align: top;\n",
       "    }\n",
       "\n",
       "    .dataframe thead th {\n",
       "        text-align: right;\n",
       "    }\n",
       "</style>\n",
       "<table border=\"1\" class=\"dataframe\">\n",
       "  <thead>\n",
       "    <tr style=\"text-align: right;\">\n",
       "      <th></th>\n",
       "      <th>NPI</th>\n",
       "      <th>EXCLTYPE</th>\n",
       "      <th>EXCLDATE</th>\n",
       "      <th>WAIVERDATE</th>\n",
       "    </tr>\n",
       "  </thead>\n",
       "  <tbody>\n",
       "    <tr>\n",
       "      <th>4</th>\n",
       "      <td>1922348218</td>\n",
       "      <td>1128a1</td>\n",
       "      <td>20180419</td>\n",
       "      <td>0</td>\n",
       "    </tr>\n",
       "    <tr>\n",
       "      <th>28</th>\n",
       "      <td>1275600959</td>\n",
       "      <td>1128a1</td>\n",
       "      <td>20130320</td>\n",
       "      <td>0</td>\n",
       "    </tr>\n",
       "    <tr>\n",
       "      <th>60</th>\n",
       "      <td>1851631543</td>\n",
       "      <td>1128b7</td>\n",
       "      <td>20190326</td>\n",
       "      <td>0</td>\n",
       "    </tr>\n",
       "    <tr>\n",
       "      <th>61</th>\n",
       "      <td>1902198435</td>\n",
       "      <td>1128a1</td>\n",
       "      <td>20160120</td>\n",
       "      <td>0</td>\n",
       "    </tr>\n",
       "    <tr>\n",
       "      <th>62</th>\n",
       "      <td>1073916631</td>\n",
       "      <td>1128b7</td>\n",
       "      <td>20210816</td>\n",
       "      <td>0</td>\n",
       "    </tr>\n",
       "  </tbody>\n",
       "</table>\n",
       "</div>"
      ],
      "text/plain": [
       "           NPI EXCLTYPE  EXCLDATE  WAIVERDATE\n",
       "4   1922348218   1128a1  20180419           0\n",
       "28  1275600959   1128a1  20130320           0\n",
       "60  1851631543   1128b7  20190326           0\n",
       "61  1902198435   1128a1  20160120           0\n",
       "62  1073916631   1128b7  20210816           0"
      ]
     },
     "execution_count": 26,
     "metadata": {},
     "output_type": "execute_result"
    }
   ],
   "source": [
    "df_leie.head()"
   ]
  },
  {
   "cell_type": "code",
   "execution_count": 27,
   "id": "f8dd3420",
   "metadata": {},
   "outputs": [
    {
     "data": {
      "text/html": [
       "<div>\n",
       "<style scoped>\n",
       "    .dataframe tbody tr th:only-of-type {\n",
       "        vertical-align: middle;\n",
       "    }\n",
       "\n",
       "    .dataframe tbody tr th {\n",
       "        vertical-align: top;\n",
       "    }\n",
       "\n",
       "    .dataframe thead th {\n",
       "        text-align: right;\n",
       "    }\n",
       "</style>\n",
       "<table border=\"1\" class=\"dataframe\">\n",
       "  <thead>\n",
       "    <tr style=\"text-align: right;\">\n",
       "      <th></th>\n",
       "      <th>NPI</th>\n",
       "      <th>EXCLTYPE</th>\n",
       "      <th>EXCLDATE</th>\n",
       "      <th>WAIVERDATE</th>\n",
       "      <th>EXCLDATE_END</th>\n",
       "    </tr>\n",
       "  </thead>\n",
       "  <tbody>\n",
       "    <tr>\n",
       "      <th>4</th>\n",
       "      <td>1922348218</td>\n",
       "      <td>1128a1</td>\n",
       "      <td>20180419</td>\n",
       "      <td>0</td>\n",
       "      <td>0</td>\n",
       "    </tr>\n",
       "    <tr>\n",
       "      <th>28</th>\n",
       "      <td>1275600959</td>\n",
       "      <td>1128a1</td>\n",
       "      <td>20130320</td>\n",
       "      <td>0</td>\n",
       "      <td>0</td>\n",
       "    </tr>\n",
       "    <tr>\n",
       "      <th>60</th>\n",
       "      <td>1851631543</td>\n",
       "      <td>1128b7</td>\n",
       "      <td>20190326</td>\n",
       "      <td>0</td>\n",
       "      <td>0</td>\n",
       "    </tr>\n",
       "    <tr>\n",
       "      <th>61</th>\n",
       "      <td>1902198435</td>\n",
       "      <td>1128a1</td>\n",
       "      <td>20160120</td>\n",
       "      <td>0</td>\n",
       "      <td>0</td>\n",
       "    </tr>\n",
       "    <tr>\n",
       "      <th>62</th>\n",
       "      <td>1073916631</td>\n",
       "      <td>1128b7</td>\n",
       "      <td>20210816</td>\n",
       "      <td>0</td>\n",
       "      <td>0</td>\n",
       "    </tr>\n",
       "  </tbody>\n",
       "</table>\n",
       "</div>"
      ],
      "text/plain": [
       "           NPI EXCLTYPE  EXCLDATE  WAIVERDATE  EXCLDATE_END\n",
       "4   1922348218   1128a1  20180419           0             0\n",
       "28  1275600959   1128a1  20130320           0             0\n",
       "60  1851631543   1128b7  20190326           0             0\n",
       "61  1902198435   1128a1  20160120           0             0\n",
       "62  1073916631   1128b7  20210816           0             0"
      ]
     },
     "execution_count": 27,
     "metadata": {},
     "output_type": "execute_result"
    }
   ],
   "source": [
    "#Add exclusion period\n",
    "df_leie['EXCLDATE_END']=0\n",
    "df_leie.head()"
   ]
  },
  {
   "cell_type": "code",
   "execution_count": 28,
   "id": "c7f1f609",
   "metadata": {},
   "outputs": [
    {
     "data": {
      "text/html": [
       "<div>\n",
       "<style scoped>\n",
       "    .dataframe tbody tr th:only-of-type {\n",
       "        vertical-align: middle;\n",
       "    }\n",
       "\n",
       "    .dataframe tbody tr th {\n",
       "        vertical-align: top;\n",
       "    }\n",
       "\n",
       "    .dataframe thead th {\n",
       "        text-align: right;\n",
       "    }\n",
       "</style>\n",
       "<table border=\"1\" class=\"dataframe\">\n",
       "  <thead>\n",
       "    <tr style=\"text-align: right;\">\n",
       "      <th></th>\n",
       "      <th>NPI</th>\n",
       "      <th>EXCLTYPE</th>\n",
       "      <th>EXCLDATE</th>\n",
       "      <th>WAIVERDATE</th>\n",
       "      <th>EXCLDATE_END</th>\n",
       "    </tr>\n",
       "  </thead>\n",
       "  <tbody>\n",
       "    <tr>\n",
       "      <th>0</th>\n",
       "      <td>1922348218</td>\n",
       "      <td>1128a1</td>\n",
       "      <td>20180419</td>\n",
       "      <td>0</td>\n",
       "      <td>0</td>\n",
       "    </tr>\n",
       "    <tr>\n",
       "      <th>1</th>\n",
       "      <td>1275600959</td>\n",
       "      <td>1128a1</td>\n",
       "      <td>20130320</td>\n",
       "      <td>0</td>\n",
       "      <td>0</td>\n",
       "    </tr>\n",
       "    <tr>\n",
       "      <th>2</th>\n",
       "      <td>1851631543</td>\n",
       "      <td>1128b7</td>\n",
       "      <td>20190326</td>\n",
       "      <td>0</td>\n",
       "      <td>0</td>\n",
       "    </tr>\n",
       "    <tr>\n",
       "      <th>3</th>\n",
       "      <td>1902198435</td>\n",
       "      <td>1128a1</td>\n",
       "      <td>20160120</td>\n",
       "      <td>0</td>\n",
       "      <td>0</td>\n",
       "    </tr>\n",
       "    <tr>\n",
       "      <th>4</th>\n",
       "      <td>1073916631</td>\n",
       "      <td>1128b7</td>\n",
       "      <td>20210816</td>\n",
       "      <td>0</td>\n",
       "      <td>0</td>\n",
       "    </tr>\n",
       "  </tbody>\n",
       "</table>\n",
       "</div>"
      ],
      "text/plain": [
       "          NPI EXCLTYPE  EXCLDATE  WAIVERDATE  EXCLDATE_END\n",
       "0  1922348218   1128a1  20180419           0             0\n",
       "1  1275600959   1128a1  20130320           0             0\n",
       "2  1851631543   1128b7  20190326           0             0\n",
       "3  1902198435   1128a1  20160120           0             0\n",
       "4  1073916631   1128b7  20210816           0             0"
      ]
     },
     "execution_count": 28,
     "metadata": {},
     "output_type": "execute_result"
    }
   ],
   "source": [
    "#Fix index\n",
    "df_leie=df_leie.reset_index()\n",
    "df_leie.drop('index', axis=1, inplace=True)\n",
    "df_leie.head()"
   ]
  },
  {
   "cell_type": "code",
   "execution_count": 29,
   "id": "6b6c6bda",
   "metadata": {},
   "outputs": [],
   "source": [
    "#add sentence (5 years)\n",
    "for idx,date in enumerate(list(df_leie['EXCLDATE'])):\n",
    "    dt=str(date)\n",
    "    yr=dt[:4]\n",
    "    if  df_leie.loc[idx,\"EXCLTYPE\"] in ['1128a1',\"1128a2\",\"1128a3\"]:\n",
    "        exc_year=int(yr)+5\n",
    "        df_leie.loc[idx,\"EXCLDATE_END\"]=str(exc_year)+dt[4:6]"
   ]
  },
  {
   "cell_type": "code",
   "execution_count": 30,
   "id": "374bdde6",
   "metadata": {},
   "outputs": [
    {
     "data": {
      "text/html": [
       "<div>\n",
       "<style scoped>\n",
       "    .dataframe tbody tr th:only-of-type {\n",
       "        vertical-align: middle;\n",
       "    }\n",
       "\n",
       "    .dataframe tbody tr th {\n",
       "        vertical-align: top;\n",
       "    }\n",
       "\n",
       "    .dataframe thead th {\n",
       "        text-align: right;\n",
       "    }\n",
       "</style>\n",
       "<table border=\"1\" class=\"dataframe\">\n",
       "  <thead>\n",
       "    <tr style=\"text-align: right;\">\n",
       "      <th></th>\n",
       "      <th>NPI</th>\n",
       "      <th>EXCLTYPE</th>\n",
       "      <th>EXCLDATE</th>\n",
       "      <th>WAIVERDATE</th>\n",
       "      <th>EXCLDATE_END</th>\n",
       "    </tr>\n",
       "  </thead>\n",
       "  <tbody>\n",
       "    <tr>\n",
       "      <th>492</th>\n",
       "      <td>1871571406</td>\n",
       "      <td>1128a1</td>\n",
       "      <td>20160120</td>\n",
       "      <td>20160218</td>\n",
       "      <td>202101</td>\n",
       "    </tr>\n",
       "    <tr>\n",
       "      <th>2713</th>\n",
       "      <td>1205832227</td>\n",
       "      <td>1128a1</td>\n",
       "      <td>20100920</td>\n",
       "      <td>20140917</td>\n",
       "      <td>201509</td>\n",
       "    </tr>\n",
       "    <tr>\n",
       "      <th>3141</th>\n",
       "      <td>1285673012</td>\n",
       "      <td>1128a1</td>\n",
       "      <td>20150618</td>\n",
       "      <td>20150618</td>\n",
       "      <td>202006</td>\n",
       "    </tr>\n",
       "    <tr>\n",
       "      <th>3538</th>\n",
       "      <td>1114922606</td>\n",
       "      <td>1128a1</td>\n",
       "      <td>20110720</td>\n",
       "      <td>20110720</td>\n",
       "      <td>201607</td>\n",
       "    </tr>\n",
       "    <tr>\n",
       "      <th>4178</th>\n",
       "      <td>1427028638</td>\n",
       "      <td>1128a1</td>\n",
       "      <td>20120220</td>\n",
       "      <td>20120220</td>\n",
       "      <td>201702</td>\n",
       "    </tr>\n",
       "  </tbody>\n",
       "</table>\n",
       "</div>"
      ],
      "text/plain": [
       "             NPI EXCLTYPE  EXCLDATE  WAIVERDATE EXCLDATE_END\n",
       "492   1871571406   1128a1  20160120    20160218       202101\n",
       "2713  1205832227   1128a1  20100920    20140917       201509\n",
       "3141  1285673012   1128a1  20150618    20150618       202006\n",
       "3538  1114922606   1128a1  20110720    20110720       201607\n",
       "4178  1427028638   1128a1  20120220    20120220       201702"
      ]
     },
     "execution_count": 30,
     "metadata": {},
     "output_type": "execute_result"
    }
   ],
   "source": [
    "df_leie[df_leie['WAIVERDATE']> 0]"
   ]
  },
  {
   "cell_type": "code",
   "execution_count": 31,
   "id": "b298a0ef",
   "metadata": {},
   "outputs": [],
   "source": [
    "#convert waiverdate (delete day)\n",
    "for idx,date in enumerate(list(df_leie['WAIVERDATE'])):\n",
    "    if df_leie.loc[idx,\"WAIVERDATE\"] > 0:\n",
    "        dt=str(date)\n",
    "        yr=dt[:4]\n",
    "        df_leie.loc[idx,\"WAIVERDATE\"]=yr+dt[4:6]"
   ]
  },
  {
   "cell_type": "code",
   "execution_count": 32,
   "id": "5c5a8151",
   "metadata": {},
   "outputs": [
    {
     "name": "stdout",
     "output_type": "stream",
     "text": [
      "<class 'pandas.core.frame.DataFrame'>\n",
      "RangeIndex: 4939 entries, 0 to 4938\n",
      "Data columns (total 5 columns):\n",
      " #   Column        Non-Null Count  Dtype \n",
      "---  ------        --------------  ----- \n",
      " 0   NPI           4939 non-null   int64 \n",
      " 1   EXCLTYPE      4939 non-null   object\n",
      " 2   EXCLDATE      4939 non-null   int64 \n",
      " 3   WAIVERDATE    4939 non-null   object\n",
      " 4   EXCLDATE_END  4939 non-null   object\n",
      "dtypes: int64(2), object(3)\n",
      "memory usage: 193.1+ KB\n"
     ]
    }
   ],
   "source": [
    "df_leie.info()"
   ]
  },
  {
   "cell_type": "code",
   "execution_count": 33,
   "id": "c179fa71",
   "metadata": {},
   "outputs": [],
   "source": [
    "#convert types\n",
    "df_leie[\"EXCLDATE\"] = pd.to_numeric(df_leie[\"EXCLDATE\"])\n",
    "df_leie[\"WAIVERDATE\"] = pd.to_numeric(df_leie[\"WAIVERDATE\"])\n",
    "df_leie[\"EXCLDATE_END\"] = pd.to_numeric(df_leie[\"EXCLDATE_END\"])"
   ]
  },
  {
   "cell_type": "code",
   "execution_count": 34,
   "id": "ff29201e",
   "metadata": {},
   "outputs": [
    {
     "data": {
      "text/html": [
       "<div>\n",
       "<style scoped>\n",
       "    .dataframe tbody tr th:only-of-type {\n",
       "        vertical-align: middle;\n",
       "    }\n",
       "\n",
       "    .dataframe tbody tr th {\n",
       "        vertical-align: top;\n",
       "    }\n",
       "\n",
       "    .dataframe thead th {\n",
       "        text-align: right;\n",
       "    }\n",
       "</style>\n",
       "<table border=\"1\" class=\"dataframe\">\n",
       "  <thead>\n",
       "    <tr style=\"text-align: right;\">\n",
       "      <th></th>\n",
       "      <th>NPI</th>\n",
       "      <th>EXCLTYPE</th>\n",
       "      <th>EXCLDATE</th>\n",
       "      <th>WAIVERDATE</th>\n",
       "      <th>EXCLDATE_END</th>\n",
       "    </tr>\n",
       "  </thead>\n",
       "  <tbody>\n",
       "    <tr>\n",
       "      <th>492</th>\n",
       "      <td>1871571406</td>\n",
       "      <td>1128a1</td>\n",
       "      <td>20160120</td>\n",
       "      <td>201602</td>\n",
       "      <td>202101</td>\n",
       "    </tr>\n",
       "    <tr>\n",
       "      <th>2713</th>\n",
       "      <td>1205832227</td>\n",
       "      <td>1128a1</td>\n",
       "      <td>20100920</td>\n",
       "      <td>201409</td>\n",
       "      <td>201509</td>\n",
       "    </tr>\n",
       "    <tr>\n",
       "      <th>3141</th>\n",
       "      <td>1285673012</td>\n",
       "      <td>1128a1</td>\n",
       "      <td>20150618</td>\n",
       "      <td>201506</td>\n",
       "      <td>202006</td>\n",
       "    </tr>\n",
       "    <tr>\n",
       "      <th>3538</th>\n",
       "      <td>1114922606</td>\n",
       "      <td>1128a1</td>\n",
       "      <td>20110720</td>\n",
       "      <td>201107</td>\n",
       "      <td>201607</td>\n",
       "    </tr>\n",
       "    <tr>\n",
       "      <th>4178</th>\n",
       "      <td>1427028638</td>\n",
       "      <td>1128a1</td>\n",
       "      <td>20120220</td>\n",
       "      <td>201202</td>\n",
       "      <td>201702</td>\n",
       "    </tr>\n",
       "  </tbody>\n",
       "</table>\n",
       "</div>"
      ],
      "text/plain": [
       "             NPI EXCLTYPE  EXCLDATE  WAIVERDATE  EXCLDATE_END\n",
       "492   1871571406   1128a1  20160120      201602        202101\n",
       "2713  1205832227   1128a1  20100920      201409        201509\n",
       "3141  1285673012   1128a1  20150618      201506        202006\n",
       "3538  1114922606   1128a1  20110720      201107        201607\n",
       "4178  1427028638   1128a1  20120220      201202        201702"
      ]
     },
     "execution_count": 34,
     "metadata": {},
     "output_type": "execute_result"
    }
   ],
   "source": [
    "df_leie[df_leie['WAIVERDATE']> 0]"
   ]
  },
  {
   "cell_type": "code",
   "execution_count": 35,
   "id": "ac4f6fa2",
   "metadata": {},
   "outputs": [],
   "source": [
    "#upadate final date (waiver / sentence)\n",
    "\n",
    "df_leie['Final_date']=df_leie['EXCLDATE_END']\n",
    "for idx,date in enumerate(list(df_leie['WAIVERDATE'])):\n",
    "    if df_leie.loc[idx,\"WAIVERDATE\"] > 0 :\n",
    "        df_leie.loc[idx,\"Final_date\"]=df_leie.loc[idx,\"WAIVERDATE\"]"
   ]
  },
  {
   "cell_type": "code",
   "execution_count": 36,
   "id": "325da9f2",
   "metadata": {},
   "outputs": [
    {
     "data": {
      "text/html": [
       "<div>\n",
       "<style scoped>\n",
       "    .dataframe tbody tr th:only-of-type {\n",
       "        vertical-align: middle;\n",
       "    }\n",
       "\n",
       "    .dataframe tbody tr th {\n",
       "        vertical-align: top;\n",
       "    }\n",
       "\n",
       "    .dataframe thead th {\n",
       "        text-align: right;\n",
       "    }\n",
       "</style>\n",
       "<table border=\"1\" class=\"dataframe\">\n",
       "  <thead>\n",
       "    <tr style=\"text-align: right;\">\n",
       "      <th></th>\n",
       "      <th>NPI</th>\n",
       "      <th>EXCLTYPE</th>\n",
       "      <th>EXCLDATE</th>\n",
       "      <th>WAIVERDATE</th>\n",
       "      <th>EXCLDATE_END</th>\n",
       "      <th>Final_date</th>\n",
       "    </tr>\n",
       "  </thead>\n",
       "  <tbody>\n",
       "    <tr>\n",
       "      <th>492</th>\n",
       "      <td>1871571406</td>\n",
       "      <td>1128a1</td>\n",
       "      <td>20160120</td>\n",
       "      <td>201602</td>\n",
       "      <td>202101</td>\n",
       "      <td>201602</td>\n",
       "    </tr>\n",
       "    <tr>\n",
       "      <th>2713</th>\n",
       "      <td>1205832227</td>\n",
       "      <td>1128a1</td>\n",
       "      <td>20100920</td>\n",
       "      <td>201409</td>\n",
       "      <td>201509</td>\n",
       "      <td>201409</td>\n",
       "    </tr>\n",
       "    <tr>\n",
       "      <th>3141</th>\n",
       "      <td>1285673012</td>\n",
       "      <td>1128a1</td>\n",
       "      <td>20150618</td>\n",
       "      <td>201506</td>\n",
       "      <td>202006</td>\n",
       "      <td>201506</td>\n",
       "    </tr>\n",
       "    <tr>\n",
       "      <th>3538</th>\n",
       "      <td>1114922606</td>\n",
       "      <td>1128a1</td>\n",
       "      <td>20110720</td>\n",
       "      <td>201107</td>\n",
       "      <td>201607</td>\n",
       "      <td>201107</td>\n",
       "    </tr>\n",
       "    <tr>\n",
       "      <th>4178</th>\n",
       "      <td>1427028638</td>\n",
       "      <td>1128a1</td>\n",
       "      <td>20120220</td>\n",
       "      <td>201202</td>\n",
       "      <td>201702</td>\n",
       "      <td>201202</td>\n",
       "    </tr>\n",
       "  </tbody>\n",
       "</table>\n",
       "</div>"
      ],
      "text/plain": [
       "             NPI EXCLTYPE  EXCLDATE  WAIVERDATE  EXCLDATE_END  Final_date\n",
       "492   1871571406   1128a1  20160120      201602        202101      201602\n",
       "2713  1205832227   1128a1  20100920      201409        201509      201409\n",
       "3141  1285673012   1128a1  20150618      201506        202006      201506\n",
       "3538  1114922606   1128a1  20110720      201107        201607      201107\n",
       "4178  1427028638   1128a1  20120220      201202        201702      201202"
      ]
     },
     "execution_count": 36,
     "metadata": {},
     "output_type": "execute_result"
    }
   ],
   "source": [
    "df_leie[df_leie['WAIVERDATE'] > 0]"
   ]
  },
  {
   "cell_type": "code",
   "execution_count": 37,
   "id": "de36f016",
   "metadata": {},
   "outputs": [
    {
     "data": {
      "text/html": [
       "<div>\n",
       "<style scoped>\n",
       "    .dataframe tbody tr th:only-of-type {\n",
       "        vertical-align: middle;\n",
       "    }\n",
       "\n",
       "    .dataframe tbody tr th {\n",
       "        vertical-align: top;\n",
       "    }\n",
       "\n",
       "    .dataframe thead th {\n",
       "        text-align: right;\n",
       "    }\n",
       "</style>\n",
       "<table border=\"1\" class=\"dataframe\">\n",
       "  <thead>\n",
       "    <tr style=\"text-align: right;\">\n",
       "      <th></th>\n",
       "      <th>NPI</th>\n",
       "      <th>EXCLTYPE</th>\n",
       "      <th>EXCLDATE</th>\n",
       "      <th>WAIVERDATE</th>\n",
       "      <th>EXCLDATE_END</th>\n",
       "      <th>Final_date</th>\n",
       "    </tr>\n",
       "  </thead>\n",
       "  <tbody>\n",
       "    <tr>\n",
       "      <th>0</th>\n",
       "      <td>1922348218</td>\n",
       "      <td>1128a1</td>\n",
       "      <td>20180419</td>\n",
       "      <td>0</td>\n",
       "      <td>202304</td>\n",
       "      <td>202304</td>\n",
       "    </tr>\n",
       "    <tr>\n",
       "      <th>1</th>\n",
       "      <td>1275600959</td>\n",
       "      <td>1128a1</td>\n",
       "      <td>20130320</td>\n",
       "      <td>0</td>\n",
       "      <td>201803</td>\n",
       "      <td>201803</td>\n",
       "    </tr>\n",
       "    <tr>\n",
       "      <th>2</th>\n",
       "      <td>1851631543</td>\n",
       "      <td>1128b7</td>\n",
       "      <td>20190326</td>\n",
       "      <td>0</td>\n",
       "      <td>0</td>\n",
       "      <td>0</td>\n",
       "    </tr>\n",
       "    <tr>\n",
       "      <th>3</th>\n",
       "      <td>1902198435</td>\n",
       "      <td>1128a1</td>\n",
       "      <td>20160120</td>\n",
       "      <td>0</td>\n",
       "      <td>202101</td>\n",
       "      <td>202101</td>\n",
       "    </tr>\n",
       "    <tr>\n",
       "      <th>4</th>\n",
       "      <td>1073916631</td>\n",
       "      <td>1128b7</td>\n",
       "      <td>20210816</td>\n",
       "      <td>0</td>\n",
       "      <td>0</td>\n",
       "      <td>0</td>\n",
       "    </tr>\n",
       "  </tbody>\n",
       "</table>\n",
       "</div>"
      ],
      "text/plain": [
       "          NPI EXCLTYPE  EXCLDATE  WAIVERDATE  EXCLDATE_END  Final_date\n",
       "0  1922348218   1128a1  20180419           0        202304      202304\n",
       "1  1275600959   1128a1  20130320           0        201803      201803\n",
       "2  1851631543   1128b7  20190326           0             0           0\n",
       "3  1902198435   1128a1  20160120           0        202101      202101\n",
       "4  1073916631   1128b7  20210816           0             0           0"
      ]
     },
     "execution_count": 37,
     "metadata": {},
     "output_type": "execute_result"
    }
   ],
   "source": [
    "df_leie.head()"
   ]
  },
  {
   "cell_type": "code",
   "execution_count": 38,
   "id": "7d863157",
   "metadata": {},
   "outputs": [],
   "source": [
    "#drop WAIVERDATE / EXCLDATE_END\n",
    "droped_cols_leie2 = [col for col in df_leie.columns if col not in ['NPI','EXCLTYPE','EXCLDATE','Final_date']]\n",
    "df_leie.drop(droped_cols_leie2, axis=1, inplace=True)"
   ]
  },
  {
   "cell_type": "code",
   "execution_count": 39,
   "id": "a8dccf31",
   "metadata": {},
   "outputs": [
    {
     "data": {
      "text/html": [
       "<div>\n",
       "<style scoped>\n",
       "    .dataframe tbody tr th:only-of-type {\n",
       "        vertical-align: middle;\n",
       "    }\n",
       "\n",
       "    .dataframe tbody tr th {\n",
       "        vertical-align: top;\n",
       "    }\n",
       "\n",
       "    .dataframe thead th {\n",
       "        text-align: right;\n",
       "    }\n",
       "</style>\n",
       "<table border=\"1\" class=\"dataframe\">\n",
       "  <thead>\n",
       "    <tr style=\"text-align: right;\">\n",
       "      <th></th>\n",
       "      <th>NPI</th>\n",
       "      <th>EXCLTYPE</th>\n",
       "      <th>EXCLDATE</th>\n",
       "      <th>Final_date</th>\n",
       "    </tr>\n",
       "  </thead>\n",
       "  <tbody>\n",
       "    <tr>\n",
       "      <th>0</th>\n",
       "      <td>1922348218</td>\n",
       "      <td>1128a1</td>\n",
       "      <td>20180419</td>\n",
       "      <td>202304</td>\n",
       "    </tr>\n",
       "    <tr>\n",
       "      <th>1</th>\n",
       "      <td>1275600959</td>\n",
       "      <td>1128a1</td>\n",
       "      <td>20130320</td>\n",
       "      <td>201803</td>\n",
       "    </tr>\n",
       "    <tr>\n",
       "      <th>2</th>\n",
       "      <td>1851631543</td>\n",
       "      <td>1128b7</td>\n",
       "      <td>20190326</td>\n",
       "      <td>0</td>\n",
       "    </tr>\n",
       "    <tr>\n",
       "      <th>3</th>\n",
       "      <td>1902198435</td>\n",
       "      <td>1128a1</td>\n",
       "      <td>20160120</td>\n",
       "      <td>202101</td>\n",
       "    </tr>\n",
       "    <tr>\n",
       "      <th>4</th>\n",
       "      <td>1073916631</td>\n",
       "      <td>1128b7</td>\n",
       "      <td>20210816</td>\n",
       "      <td>0</td>\n",
       "    </tr>\n",
       "  </tbody>\n",
       "</table>\n",
       "</div>"
      ],
      "text/plain": [
       "          NPI EXCLTYPE  EXCLDATE  Final_date\n",
       "0  1922348218   1128a1  20180419      202304\n",
       "1  1275600959   1128a1  20130320      201803\n",
       "2  1851631543   1128b7  20190326           0\n",
       "3  1902198435   1128a1  20160120      202101\n",
       "4  1073916631   1128b7  20210816           0"
      ]
     },
     "execution_count": 39,
     "metadata": {},
     "output_type": "execute_result"
    }
   ],
   "source": [
    "df_leie.head()"
   ]
  },
  {
   "cell_type": "code",
   "execution_count": 40,
   "id": "6f63409e",
   "metadata": {},
   "outputs": [],
   "source": [
    "#rounding year\n",
    "\n",
    "df_leie['Final_year']=0\n",
    "df_leie=df_leie.reset_index()\n",
    "\n",
    "for idx,date in enumerate(list(df_leie['Final_date'])):\n",
    "    if df_leie.loc[idx,\"Final_date\"] > 0:\n",
    "        dt=str(date)\n",
    "        yr=dt[:4]\n",
    "        mt=dt[4:]\n",
    "        if (int(mt)>6):\n",
    "            df_leie.loc[idx,\"Final_year\"] = int(yr)+1\n",
    "        else :\n",
    "            df_leie.loc[idx,\"Final_year\"] = int(yr)"
   ]
  },
  {
   "cell_type": "code",
   "execution_count": 41,
   "id": "05998f2c",
   "metadata": {},
   "outputs": [
    {
     "data": {
      "text/html": [
       "<div>\n",
       "<style scoped>\n",
       "    .dataframe tbody tr th:only-of-type {\n",
       "        vertical-align: middle;\n",
       "    }\n",
       "\n",
       "    .dataframe tbody tr th {\n",
       "        vertical-align: top;\n",
       "    }\n",
       "\n",
       "    .dataframe thead th {\n",
       "        text-align: right;\n",
       "    }\n",
       "</style>\n",
       "<table border=\"1\" class=\"dataframe\">\n",
       "  <thead>\n",
       "    <tr style=\"text-align: right;\">\n",
       "      <th></th>\n",
       "      <th>level_0</th>\n",
       "      <th>index</th>\n",
       "      <th>NPI</th>\n",
       "      <th>EXCLTYPE</th>\n",
       "      <th>EXCLDATE</th>\n",
       "      <th>Final_date</th>\n",
       "      <th>Final_year</th>\n",
       "    </tr>\n",
       "  </thead>\n",
       "  <tbody>\n",
       "    <tr>\n",
       "      <th>0</th>\n",
       "      <td>0</td>\n",
       "      <td>0</td>\n",
       "      <td>1922348218</td>\n",
       "      <td>1128a1</td>\n",
       "      <td>20180419</td>\n",
       "      <td>202304</td>\n",
       "      <td>2023</td>\n",
       "    </tr>\n",
       "    <tr>\n",
       "      <th>1</th>\n",
       "      <td>1</td>\n",
       "      <td>1</td>\n",
       "      <td>1275600959</td>\n",
       "      <td>1128a1</td>\n",
       "      <td>20130320</td>\n",
       "      <td>201803</td>\n",
       "      <td>2018</td>\n",
       "    </tr>\n",
       "    <tr>\n",
       "      <th>2</th>\n",
       "      <td>2</td>\n",
       "      <td>2</td>\n",
       "      <td>1851631543</td>\n",
       "      <td>1128b7</td>\n",
       "      <td>20190326</td>\n",
       "      <td>0</td>\n",
       "      <td>0</td>\n",
       "    </tr>\n",
       "    <tr>\n",
       "      <th>3</th>\n",
       "      <td>3</td>\n",
       "      <td>3</td>\n",
       "      <td>1902198435</td>\n",
       "      <td>1128a1</td>\n",
       "      <td>20160120</td>\n",
       "      <td>202101</td>\n",
       "      <td>2021</td>\n",
       "    </tr>\n",
       "    <tr>\n",
       "      <th>4</th>\n",
       "      <td>4</td>\n",
       "      <td>4</td>\n",
       "      <td>1073916631</td>\n",
       "      <td>1128b7</td>\n",
       "      <td>20210816</td>\n",
       "      <td>0</td>\n",
       "      <td>0</td>\n",
       "    </tr>\n",
       "    <tr>\n",
       "      <th>5</th>\n",
       "      <td>5</td>\n",
       "      <td>5</td>\n",
       "      <td>1073682936</td>\n",
       "      <td>1128b7</td>\n",
       "      <td>20150409</td>\n",
       "      <td>0</td>\n",
       "      <td>0</td>\n",
       "    </tr>\n",
       "    <tr>\n",
       "      <th>6</th>\n",
       "      <td>6</td>\n",
       "      <td>6</td>\n",
       "      <td>1104947944</td>\n",
       "      <td>1128a1</td>\n",
       "      <td>20140820</td>\n",
       "      <td>201908</td>\n",
       "      <td>2020</td>\n",
       "    </tr>\n",
       "    <tr>\n",
       "      <th>7</th>\n",
       "      <td>7</td>\n",
       "      <td>7</td>\n",
       "      <td>1164669479</td>\n",
       "      <td>1128a1</td>\n",
       "      <td>20161020</td>\n",
       "      <td>202110</td>\n",
       "      <td>2022</td>\n",
       "    </tr>\n",
       "    <tr>\n",
       "      <th>8</th>\n",
       "      <td>8</td>\n",
       "      <td>8</td>\n",
       "      <td>1043302250</td>\n",
       "      <td>1128a1</td>\n",
       "      <td>20160720</td>\n",
       "      <td>202107</td>\n",
       "      <td>2022</td>\n",
       "    </tr>\n",
       "    <tr>\n",
       "      <th>9</th>\n",
       "      <td>9</td>\n",
       "      <td>9</td>\n",
       "      <td>1801231436</td>\n",
       "      <td>1128a1</td>\n",
       "      <td>20211029</td>\n",
       "      <td>202610</td>\n",
       "      <td>2027</td>\n",
       "    </tr>\n",
       "  </tbody>\n",
       "</table>\n",
       "</div>"
      ],
      "text/plain": [
       "   level_0  index         NPI EXCLTYPE  EXCLDATE  Final_date  Final_year\n",
       "0        0      0  1922348218   1128a1  20180419      202304        2023\n",
       "1        1      1  1275600959   1128a1  20130320      201803        2018\n",
       "2        2      2  1851631543   1128b7  20190326           0           0\n",
       "3        3      3  1902198435   1128a1  20160120      202101        2021\n",
       "4        4      4  1073916631   1128b7  20210816           0           0\n",
       "5        5      5  1073682936   1128b7  20150409           0           0\n",
       "6        6      6  1104947944   1128a1  20140820      201908        2020\n",
       "7        7      7  1164669479   1128a1  20161020      202110        2022\n",
       "8        8      8  1043302250   1128a1  20160720      202107        2022\n",
       "9        9      9  1801231436   1128a1  20211029      202610        2027"
      ]
     },
     "execution_count": 41,
     "metadata": {},
     "output_type": "execute_result"
    }
   ],
   "source": [
    "df_leie=df_leie.reset_index()\n",
    "df_leie.head(10)"
   ]
  },
  {
   "cell_type": "code",
   "execution_count": 42,
   "id": "16560a61",
   "metadata": {},
   "outputs": [],
   "source": [
    "df_leie.drop('index', axis=1, inplace=True)\n",
    "df_leie.drop('level_0', axis=1, inplace=True)\n",
    "df_leie.head()\n",
    "\n",
    "#solve final_year = 0 (st_date)\n",
    "for idx,date in enumerate(list(df_leie['EXCLDATE'])):\n",
    "    dt=str(date)\n",
    "    yr=dt[:4]\n",
    "    mt=dt[4:]\n",
    "    df_leie.loc[idx,\"EXCLDATE\"] = int(yr)\n",
    "    if df_leie.loc[idx,\"Final_year\"] == 0:\n",
    "        if (int(mt)>6):\n",
    "            df_leie.loc[idx,\"Final_year\"] = int(yr)+1\n",
    "        else :\n",
    "            df_leie.loc[idx,\"Final_year\"] = int(yr)"
   ]
  },
  {
   "cell_type": "code",
   "execution_count": 43,
   "id": "f6ef44d4",
   "metadata": {},
   "outputs": [
    {
     "data": {
      "text/html": [
       "<div>\n",
       "<style scoped>\n",
       "    .dataframe tbody tr th:only-of-type {\n",
       "        vertical-align: middle;\n",
       "    }\n",
       "\n",
       "    .dataframe tbody tr th {\n",
       "        vertical-align: top;\n",
       "    }\n",
       "\n",
       "    .dataframe thead th {\n",
       "        text-align: right;\n",
       "    }\n",
       "</style>\n",
       "<table border=\"1\" class=\"dataframe\">\n",
       "  <thead>\n",
       "    <tr style=\"text-align: right;\">\n",
       "      <th></th>\n",
       "      <th>NPI</th>\n",
       "      <th>EXCLTYPE</th>\n",
       "      <th>EXCLDATE</th>\n",
       "      <th>Final_date</th>\n",
       "      <th>Final_year</th>\n",
       "    </tr>\n",
       "  </thead>\n",
       "  <tbody>\n",
       "    <tr>\n",
       "      <th>0</th>\n",
       "      <td>1922348218</td>\n",
       "      <td>1128a1</td>\n",
       "      <td>2018</td>\n",
       "      <td>202304</td>\n",
       "      <td>2023</td>\n",
       "    </tr>\n",
       "    <tr>\n",
       "      <th>1</th>\n",
       "      <td>1275600959</td>\n",
       "      <td>1128a1</td>\n",
       "      <td>2013</td>\n",
       "      <td>201803</td>\n",
       "      <td>2018</td>\n",
       "    </tr>\n",
       "    <tr>\n",
       "      <th>2</th>\n",
       "      <td>1851631543</td>\n",
       "      <td>1128b7</td>\n",
       "      <td>2019</td>\n",
       "      <td>0</td>\n",
       "      <td>2020</td>\n",
       "    </tr>\n",
       "    <tr>\n",
       "      <th>3</th>\n",
       "      <td>1902198435</td>\n",
       "      <td>1128a1</td>\n",
       "      <td>2016</td>\n",
       "      <td>202101</td>\n",
       "      <td>2021</td>\n",
       "    </tr>\n",
       "    <tr>\n",
       "      <th>4</th>\n",
       "      <td>1073916631</td>\n",
       "      <td>1128b7</td>\n",
       "      <td>2021</td>\n",
       "      <td>0</td>\n",
       "      <td>2022</td>\n",
       "    </tr>\n",
       "    <tr>\n",
       "      <th>5</th>\n",
       "      <td>1073682936</td>\n",
       "      <td>1128b7</td>\n",
       "      <td>2015</td>\n",
       "      <td>0</td>\n",
       "      <td>2016</td>\n",
       "    </tr>\n",
       "    <tr>\n",
       "      <th>6</th>\n",
       "      <td>1104947944</td>\n",
       "      <td>1128a1</td>\n",
       "      <td>2014</td>\n",
       "      <td>201908</td>\n",
       "      <td>2020</td>\n",
       "    </tr>\n",
       "    <tr>\n",
       "      <th>7</th>\n",
       "      <td>1164669479</td>\n",
       "      <td>1128a1</td>\n",
       "      <td>2016</td>\n",
       "      <td>202110</td>\n",
       "      <td>2022</td>\n",
       "    </tr>\n",
       "    <tr>\n",
       "      <th>8</th>\n",
       "      <td>1043302250</td>\n",
       "      <td>1128a1</td>\n",
       "      <td>2016</td>\n",
       "      <td>202107</td>\n",
       "      <td>2022</td>\n",
       "    </tr>\n",
       "    <tr>\n",
       "      <th>9</th>\n",
       "      <td>1801231436</td>\n",
       "      <td>1128a1</td>\n",
       "      <td>2021</td>\n",
       "      <td>202610</td>\n",
       "      <td>2027</td>\n",
       "    </tr>\n",
       "  </tbody>\n",
       "</table>\n",
       "</div>"
      ],
      "text/plain": [
       "          NPI EXCLTYPE  EXCLDATE  Final_date  Final_year\n",
       "0  1922348218   1128a1      2018      202304        2023\n",
       "1  1275600959   1128a1      2013      201803        2018\n",
       "2  1851631543   1128b7      2019           0        2020\n",
       "3  1902198435   1128a1      2016      202101        2021\n",
       "4  1073916631   1128b7      2021           0        2022\n",
       "5  1073682936   1128b7      2015           0        2016\n",
       "6  1104947944   1128a1      2014      201908        2020\n",
       "7  1164669479   1128a1      2016      202110        2022\n",
       "8  1043302250   1128a1      2016      202107        2022\n",
       "9  1801231436   1128a1      2021      202610        2027"
      ]
     },
     "execution_count": 43,
     "metadata": {},
     "output_type": "execute_result"
    }
   ],
   "source": [
    "df_leie.head(10)"
   ]
  },
  {
   "cell_type": "code",
   "execution_count": 44,
   "id": "9f72f08a",
   "metadata": {},
   "outputs": [
    {
     "data": {
      "text/plain": [
       "(4939, 5)"
      ]
     },
     "execution_count": 44,
     "metadata": {},
     "output_type": "execute_result"
    }
   ],
   "source": [
    "df_leie.shape"
   ]
  },
  {
   "cell_type": "code",
   "execution_count": 45,
   "id": "91e3fb24",
   "metadata": {},
   "outputs": [],
   "source": [
    "#add label column\n",
    "df_cms['Fraud']=0"
   ]
  },
  {
   "cell_type": "code",
   "execution_count": 46,
   "id": "f0bb67c6",
   "metadata": {},
   "outputs": [
    {
     "name": "stdout",
     "output_type": "stream",
     "text": [
      "total fraudulent providers:  1283\n"
     ]
    }
   ],
   "source": [
    "#total fraudulent providers (without considering dates)\n",
    "df_tmp3=df_cms[df_cms['Rndrng_NPI'].isin(list(df_leie[\"NPI\"]))]\n",
    "print('total fraudulent providers: ',df_tmp3.shape[0])"
   ]
  },
  {
   "cell_type": "code",
   "execution_count": 47,
   "id": "eb419a0b",
   "metadata": {},
   "outputs": [
    {
     "data": {
      "text/html": [
       "<div>\n",
       "<style scoped>\n",
       "    .dataframe tbody tr th:only-of-type {\n",
       "        vertical-align: middle;\n",
       "    }\n",
       "\n",
       "    .dataframe tbody tr th {\n",
       "        vertical-align: top;\n",
       "    }\n",
       "\n",
       "    .dataframe thead th {\n",
       "        text-align: right;\n",
       "    }\n",
       "</style>\n",
       "<table border=\"1\" class=\"dataframe\">\n",
       "  <thead>\n",
       "    <tr style=\"text-align: right;\">\n",
       "      <th></th>\n",
       "      <th>Rndrng_NPI</th>\n",
       "      <th>Rndrng_Prvdr_Type</th>\n",
       "      <th>Rndrng_Prvdr_State_Abrvtn</th>\n",
       "      <th>Rndrng_Prvdr_Gndr</th>\n",
       "      <th>Tot_HCPCS_Cds</th>\n",
       "      <th>Bene_Male_Cnt</th>\n",
       "      <th>Bene_Avg_Age</th>\n",
       "      <th>Tot_Srvcs</th>\n",
       "      <th>Tot_Benes</th>\n",
       "      <th>Bene_Avg_Risk_Scre</th>\n",
       "      <th>Tot_Sbmtd_Chrg</th>\n",
       "      <th>Tot_Mdcr_Pymt_Amt</th>\n",
       "      <th>year</th>\n",
       "      <th>Fraud</th>\n",
       "    </tr>\n",
       "  </thead>\n",
       "  <tbody>\n",
       "    <tr>\n",
       "      <th>12</th>\n",
       "      <td>1003000407</td>\n",
       "      <td>Family Practice</td>\n",
       "      <td>PA</td>\n",
       "      <td>M</td>\n",
       "      <td>23</td>\n",
       "      <td>64.0</td>\n",
       "      <td>79</td>\n",
       "      <td>476.0</td>\n",
       "      <td>160</td>\n",
       "      <td>2.1838</td>\n",
       "      <td>91196.00</td>\n",
       "      <td>37485.18</td>\n",
       "      <td>2018</td>\n",
       "      <td>0</td>\n",
       "    </tr>\n",
       "    <tr>\n",
       "      <th>13</th>\n",
       "      <td>1003000407</td>\n",
       "      <td>Family Practice</td>\n",
       "      <td>PA</td>\n",
       "      <td>M</td>\n",
       "      <td>31</td>\n",
       "      <td>167.0</td>\n",
       "      <td>78</td>\n",
       "      <td>1637.0</td>\n",
       "      <td>401</td>\n",
       "      <td>2.0000</td>\n",
       "      <td>260033.00</td>\n",
       "      <td>136143.38</td>\n",
       "      <td>2016</td>\n",
       "      <td>0</td>\n",
       "    </tr>\n",
       "    <tr>\n",
       "      <th>14</th>\n",
       "      <td>1003000407</td>\n",
       "      <td>Family Practice</td>\n",
       "      <td>PA</td>\n",
       "      <td>M</td>\n",
       "      <td>29</td>\n",
       "      <td>104.0</td>\n",
       "      <td>79</td>\n",
       "      <td>857.0</td>\n",
       "      <td>260</td>\n",
       "      <td>2.1173</td>\n",
       "      <td>132744.00</td>\n",
       "      <td>66084.78</td>\n",
       "      <td>2017</td>\n",
       "      <td>0</td>\n",
       "    </tr>\n",
       "    <tr>\n",
       "      <th>4558</th>\n",
       "      <td>1003066838</td>\n",
       "      <td>Family Practice</td>\n",
       "      <td>WY</td>\n",
       "      <td>M</td>\n",
       "      <td>48</td>\n",
       "      <td>33.0</td>\n",
       "      <td>67</td>\n",
       "      <td>414.0</td>\n",
       "      <td>83</td>\n",
       "      <td>1.3224</td>\n",
       "      <td>41931.00</td>\n",
       "      <td>10095.00</td>\n",
       "      <td>2019</td>\n",
       "      <td>0</td>\n",
       "    </tr>\n",
       "    <tr>\n",
       "      <th>4559</th>\n",
       "      <td>1003066838</td>\n",
       "      <td>Family Practice</td>\n",
       "      <td>WY</td>\n",
       "      <td>M</td>\n",
       "      <td>94</td>\n",
       "      <td>105.0</td>\n",
       "      <td>69</td>\n",
       "      <td>2979.0</td>\n",
       "      <td>242</td>\n",
       "      <td>1.1747</td>\n",
       "      <td>236078.97</td>\n",
       "      <td>70428.21</td>\n",
       "      <td>2018</td>\n",
       "      <td>0</td>\n",
       "    </tr>\n",
       "  </tbody>\n",
       "</table>\n",
       "</div>"
      ],
      "text/plain": [
       "      Rndrng_NPI Rndrng_Prvdr_Type Rndrng_Prvdr_State_Abrvtn  \\\n",
       "12    1003000407   Family Practice                        PA   \n",
       "13    1003000407   Family Practice                        PA   \n",
       "14    1003000407   Family Practice                        PA   \n",
       "4558  1003066838   Family Practice                        WY   \n",
       "4559  1003066838   Family Practice                        WY   \n",
       "\n",
       "     Rndrng_Prvdr_Gndr  Tot_HCPCS_Cds  Bene_Male_Cnt  Bene_Avg_Age  Tot_Srvcs  \\\n",
       "12                   M             23           64.0            79      476.0   \n",
       "13                   M             31          167.0            78     1637.0   \n",
       "14                   M             29          104.0            79      857.0   \n",
       "4558                 M             48           33.0            67      414.0   \n",
       "4559                 M             94          105.0            69     2979.0   \n",
       "\n",
       "      Tot_Benes  Bene_Avg_Risk_Scre  Tot_Sbmtd_Chrg  Tot_Mdcr_Pymt_Amt  year  \\\n",
       "12          160              2.1838        91196.00           37485.18  2018   \n",
       "13          401              2.0000       260033.00          136143.38  2016   \n",
       "14          260              2.1173       132744.00           66084.78  2017   \n",
       "4558         83              1.3224        41931.00           10095.00  2019   \n",
       "4559        242              1.1747       236078.97           70428.21  2018   \n",
       "\n",
       "      Fraud  \n",
       "12        0  \n",
       "13        0  \n",
       "14        0  \n",
       "4558      0  \n",
       "4559      0  "
      ]
     },
     "execution_count": 47,
     "metadata": {},
     "output_type": "execute_result"
    }
   ],
   "source": [
    "df_tmp3.head()"
   ]
  },
  {
   "cell_type": "code",
   "execution_count": 48,
   "id": "93f755d3",
   "metadata": {},
   "outputs": [],
   "source": [
    "df_cms2=df_cms.copy()"
   ]
  },
  {
   "cell_type": "code",
   "execution_count": 49,
   "id": "968358cd",
   "metadata": {},
   "outputs": [],
   "source": [
    "for index, row in df_tmp3.iterrows(): # loop over all fraudulent providers (without considering dates)\n",
    "    \n",
    "    npi=row.Rndrng_NPI # get NPI\n",
    "    idx2=list(df_leie['NPI']).index(npi) # get its index\n",
    "    end_year=df_leie.loc[idx2,\"Final_year\"] # get its final_year\n",
    "    \n",
    "    if (df_cms2.loc[index,\"year\"] <=end_year): #add label\n",
    "        df_cms2.loc[index,'Fraud']=1"
   ]
  },
  {
   "cell_type": "code",
   "execution_count": 50,
   "id": "48263b40",
   "metadata": {},
   "outputs": [
    {
     "name": "stdout",
     "output_type": "stream",
     "text": [
      "Fraudulent providers : 1276\n",
      "Fraudulent providers percentage : 0.028868928503474115 %\n"
     ]
    }
   ],
   "source": [
    "print('Fraudulent providers :',sum(df_cms2['Fraud'] == 1))\n",
    "print('Fraudulent providers percentage : '+str(sum(df_cms2['Fraud'] == 1)/df_cms.shape[0]*100)+\" %\")"
   ]
  },
  {
   "cell_type": "code",
   "execution_count": 51,
   "id": "f9b857b1",
   "metadata": {},
   "outputs": [],
   "source": [
    "#saving final dataframe as CSV\n",
    "df_cms2.to_csv(\"data\\processed\\CMS_Provider(2016_2019).csv\",index=False) "
   ]
  },
  {
   "cell_type": "code",
   "execution_count": null,
   "id": "4e549a3d",
   "metadata": {},
   "outputs": [],
   "source": []
  }
 ],
 "metadata": {
  "kernelspec": {
   "display_name": "Python 3.9.12 ('medicare-fraud')",
   "language": "python",
   "name": "python3"
  },
  "language_info": {
   "codemirror_mode": {
    "name": "ipython",
    "version": 3
   },
   "file_extension": ".py",
   "mimetype": "text/x-python",
   "name": "python",
   "nbconvert_exporter": "python",
   "pygments_lexer": "ipython3",
   "version": "3.9.12"
  },
  "nbTranslate": {
   "displayLangs": [
    "*"
   ],
   "hotkey": "alt-t",
   "langInMainMenu": true,
   "sourceLang": "en",
   "targetLang": "fr",
   "useGoogleTranslate": true
  },
  "vscode": {
   "interpreter": {
    "hash": "b4381a66a5564295475a7d006465bddfef0619649688fb2cadb2ee4c4aec8f08"
   }
  }
 },
 "nbformat": 4,
 "nbformat_minor": 5
}
