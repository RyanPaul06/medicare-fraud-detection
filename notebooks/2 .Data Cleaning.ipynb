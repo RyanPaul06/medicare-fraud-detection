{
 "cells": [
  {
   "cell_type": "markdown",
   "id": "fb33338e",
   "metadata": {},
   "source": [
    "# Health Insurance fraud detection using Medicare Providers dataset\n"
   ]
  },
  {
   "cell_type": "code",
   "execution_count": 1,
   "id": "92feb5a0",
   "metadata": {},
   "outputs": [],
   "source": [
    "import pandas as pd\n",
    "pd.set_option('display.max_columns', None)\n",
    "pd.set_option('display.float_format', lambda x: '%.3f' % x)\n",
    "import numpy as np\n",
    "import seaborn as sns\n",
    "import matplotlib.pyplot as plt\n",
    "import math\n",
    "import matplotlib\n",
    "import os\n",
    "from pathlib import Path\n",
    "%matplotlib inline"
   ]
  },
  {
   "cell_type": "code",
   "execution_count": 2,
   "id": "4491e1d7",
   "metadata": {},
   "outputs": [],
   "source": [
    "#Change directory to root\n",
    "path = Path(os.getcwd())\n",
    "root_dir = path.parent.absolute()\n",
    "os.chdir(str(root_dir))"
   ]
  },
  {
   "cell_type": "markdown",
   "id": "03c2438f",
   "metadata": {},
   "source": [
    "## 2. Data cleaning"
   ]
  },
  {
   "cell_type": "code",
   "execution_count": 3,
   "id": "eecda730",
   "metadata": {},
   "outputs": [],
   "source": [
    "df = pd.read_csv('data\\processed\\CMS_Provider(2016_2019).csv',low_memory=False)"
   ]
  },
  {
   "cell_type": "code",
   "execution_count": 4,
   "id": "85636c1d",
   "metadata": {},
   "outputs": [
    {
     "data": {
      "text/plain": [
       "(4419977, 14)"
      ]
     },
     "execution_count": 4,
     "metadata": {},
     "output_type": "execute_result"
    }
   ],
   "source": [
    "df.shape"
   ]
  },
  {
   "cell_type": "markdown",
   "id": "7c552ec4",
   "metadata": {},
   "source": [
    "### Type checking"
   ]
  },
  {
   "cell_type": "code",
   "execution_count": 5,
   "id": "a30641fe",
   "metadata": {},
   "outputs": [
    {
     "data": {
      "text/plain": [
       "Rndrng_NPI                     int64\n",
       "Rndrng_Prvdr_Type             object\n",
       "Rndrng_Prvdr_State_Abrvtn     object\n",
       "Rndrng_Prvdr_Gndr             object\n",
       "Tot_HCPCS_Cds                  int64\n",
       "Bene_Male_Cnt                float64\n",
       "Bene_Avg_Age                   int64\n",
       "Tot_Srvcs                    float64\n",
       "Tot_Benes                      int64\n",
       "Bene_Avg_Risk_Scre           float64\n",
       "Tot_Sbmtd_Chrg               float64\n",
       "Tot_Mdcr_Pymt_Amt            float64\n",
       "year                           int64\n",
       "Fraud                          int64\n",
       "dtype: object"
      ]
     },
     "execution_count": 5,
     "metadata": {},
     "output_type": "execute_result"
    }
   ],
   "source": [
    "df.dtypes"
   ]
  },
  {
   "cell_type": "markdown",
   "id": "a0b7e14e",
   "metadata": {},
   "source": [
    "### Unique values"
   ]
  },
  {
   "cell_type": "code",
   "execution_count": 6,
   "id": "f09718a2",
   "metadata": {},
   "outputs": [
    {
     "data": {
      "text/plain": [
       "Rndrng_NPI                   1342589\n",
       "Rndrng_Prvdr_Type                102\n",
       "Rndrng_Prvdr_State_Abrvtn         61\n",
       "Rndrng_Prvdr_Gndr                  2\n",
       "Tot_HCPCS_Cds                    662\n",
       "Bene_Male_Cnt                   6032\n",
       "Bene_Avg_Age                      90\n",
       "Tot_Srvcs                      96979\n",
       "Tot_Benes                      10528\n",
       "Bene_Avg_Risk_Scre             64245\n",
       "Tot_Sbmtd_Chrg               2250857\n",
       "Tot_Mdcr_Pymt_Amt            3572780\n",
       "year                               4\n",
       "Fraud                              2\n",
       "dtype: int64"
      ]
     },
     "execution_count": 6,
     "metadata": {},
     "output_type": "execute_result"
    }
   ],
   "source": [
    "df.nunique()"
   ]
  },
  {
   "cell_type": "markdown",
   "id": "396eaedb",
   "metadata": {},
   "source": [
    "### Null values"
   ]
  },
  {
   "cell_type": "code",
   "execution_count": 7,
   "id": "a94daf83",
   "metadata": {},
   "outputs": [
    {
     "data": {
      "text/plain": [
       "Rndrng_NPI                   False\n",
       "Rndrng_Prvdr_Type            False\n",
       "Rndrng_Prvdr_State_Abrvtn    False\n",
       "Rndrng_Prvdr_Gndr             True\n",
       "Tot_HCPCS_Cds                False\n",
       "Bene_Male_Cnt                 True\n",
       "Bene_Avg_Age                 False\n",
       "Tot_Srvcs                    False\n",
       "Tot_Benes                    False\n",
       "Bene_Avg_Risk_Scre           False\n",
       "Tot_Sbmtd_Chrg               False\n",
       "Tot_Mdcr_Pymt_Amt            False\n",
       "year                         False\n",
       "Fraud                        False\n",
       "dtype: bool"
      ]
     },
     "execution_count": 7,
     "metadata": {},
     "output_type": "execute_result"
    }
   ],
   "source": [
    "df.isna().any()"
   ]
  },
  {
   "cell_type": "code",
   "execution_count": 8,
   "id": "f6312f30",
   "metadata": {},
   "outputs": [],
   "source": [
    "dict_miss=dict()\n",
    "for f in ['Rndrng_Prvdr_Gndr','Bene_Male_Cnt'] :\n",
    "    dict_miss[f]=sum(df[f].isna())"
   ]
  },
  {
   "cell_type": "code",
   "execution_count": 9,
   "id": "fb9f5ebd",
   "metadata": {},
   "outputs": [
    {
     "data": {
      "text/html": [
       "<div>\n",
       "<style scoped>\n",
       "    .dataframe tbody tr th:only-of-type {\n",
       "        vertical-align: middle;\n",
       "    }\n",
       "\n",
       "    .dataframe tbody tr th {\n",
       "        vertical-align: top;\n",
       "    }\n",
       "\n",
       "    .dataframe thead th {\n",
       "        text-align: right;\n",
       "    }\n",
       "</style>\n",
       "<table border=\"1\" class=\"dataframe\">\n",
       "  <thead>\n",
       "    <tr style=\"text-align: right;\">\n",
       "      <th></th>\n",
       "      <th>Missing</th>\n",
       "      <th>Missing %</th>\n",
       "    </tr>\n",
       "  </thead>\n",
       "  <tbody>\n",
       "    <tr>\n",
       "      <th>Rndrng_Prvdr_Gndr</th>\n",
       "      <td>245164</td>\n",
       "      <td>5.547</td>\n",
       "    </tr>\n",
       "    <tr>\n",
       "      <th>Bene_Male_Cnt</th>\n",
       "      <td>489032</td>\n",
       "      <td>11.064</td>\n",
       "    </tr>\n",
       "  </tbody>\n",
       "</table>\n",
       "</div>"
      ],
      "text/plain": [
       "                   Missing  Missing %\n",
       "Rndrng_Prvdr_Gndr   245164      5.547\n",
       "Bene_Male_Cnt       489032     11.064"
      ]
     },
     "execution_count": 9,
     "metadata": {},
     "output_type": "execute_result"
    }
   ],
   "source": [
    "df_miss=pd.DataFrame.from_dict(dict_miss,orient='index',columns=['Missing'])\n",
    "df_miss['Missing %']=df_miss['Missing']*100/df.shape[0]\n",
    "df_miss"
   ]
  },
  {
   "cell_type": "markdown",
   "id": "22b2042b",
   "metadata": {},
   "source": [
    "__5.5% of practitioner gender values are zero__\n",
    "\n",
    "__11.064% of 'Bene_Male_Cnt' values are null__"
   ]
  },
  {
   "cell_type": "code",
   "execution_count": 10,
   "id": "ee3bfe48",
   "metadata": {},
   "outputs": [],
   "source": [
    "df_fraud=df[df['Fraud']==1]"
   ]
  },
  {
   "cell_type": "code",
   "execution_count": 11,
   "id": "6718c6d6",
   "metadata": {},
   "outputs": [
    {
     "name": "stdout",
     "output_type": "stream",
     "text": [
      "missing percentage (fraudulent providers): 2.272727272727273\n",
      "total missing  (fraudulent providers): 29\n",
      "\n",
      "missing percentage (fraudulent providers): 12.304075235109718\n",
      "total missing  (fraudulent providers): 157\n"
     ]
    }
   ],
   "source": [
    "print('missing percentage (fraudulent providers):',sum(df_fraud['Rndrng_Prvdr_Gndr'].isna())/df_fraud.shape[0]*100)\n",
    "print('total missing  (fraudulent providers):',sum(df_fraud['Rndrng_Prvdr_Gndr'].isna()))\n",
    "print()\n",
    "print('missing percentage (fraudulent providers):',sum(df_fraud['Bene_Male_Cnt'].isna())/df_fraud.shape[0]*100)\n",
    "print('total missing  (fraudulent providers):',sum(df_fraud['Bene_Male_Cnt'].isna()))"
   ]
  },
  {
   "cell_type": "markdown",
   "id": "d03e5b94",
   "metadata": {},
   "source": [
    "__29 of the sex values (categorical) of fraudulent practitioners are null__\n",
    "\n",
    "__157 of the 'Bene_Male_Cnt' values (numeric) of fraudulent practitioners are null__"
   ]
  },
  {
   "cell_type": "code",
   "execution_count": 12,
   "id": "40bd9383",
   "metadata": {},
   "outputs": [
    {
     "data": {
      "image/png": "[encoded data removed]",
      "text/plain": [
       "<Figure size 720x576 with 1 Axes>"
      ]
     },
     "metadata": {
      "needs_background": "light"
     },
     "output_type": "display_data"
    }
   ],
   "source": [
    "plt.rcParams[\"figure.figsize\"] = (10,8)\n",
    "ax32=sns.boxplot(x=df[\"Bene_Male_Cnt\"])\n",
    "ax32.get_yaxis().set_major_formatter(matplotlib.ticker.FuncFormatter(lambda x, p: format(int(x), ',')))\n",
    "ax32.set_title(\"Box plot for 'Bene_Male_Cnt' : \\n\", fontsize = \"18\", fontfamily = \"sans-serif\")\n",
    "plt.show()"
   ]
  },
  {
   "cell_type": "code",
   "execution_count": 13,
   "id": "1c25c4a6",
   "metadata": {},
   "outputs": [],
   "source": [
    "#replace 'Bene_Male_Cnt' with median (outliers presence according to Box Plot):\n",
    "df['Bene_Male_Cnt'] =df['Bene_Male_Cnt'].fillna(df['Bene_Male_Cnt'].median())"
   ]
  },
  {
   "cell_type": "code",
   "execution_count": 14,
   "id": "ca92db0a",
   "metadata": {},
   "outputs": [
    {
     "data": {
      "text/plain": [
       "Rndrng_NPI                   False\n",
       "Rndrng_Prvdr_Type            False\n",
       "Rndrng_Prvdr_State_Abrvtn    False\n",
       "Rndrng_Prvdr_Gndr             True\n",
       "Tot_HCPCS_Cds                False\n",
       "Bene_Male_Cnt                False\n",
       "Bene_Avg_Age                 False\n",
       "Tot_Srvcs                    False\n",
       "Tot_Benes                    False\n",
       "Bene_Avg_Risk_Scre           False\n",
       "Tot_Sbmtd_Chrg               False\n",
       "Tot_Mdcr_Pymt_Amt            False\n",
       "year                         False\n",
       "Fraud                        False\n",
       "dtype: bool"
      ]
     },
     "execution_count": 14,
     "metadata": {},
     "output_type": "execute_result"
    }
   ],
   "source": [
    "#double check\n",
    "df.isna().any()"
   ]
  },
  {
   "cell_type": "code",
   "execution_count": 15,
   "id": "8f7a9fb8",
   "metadata": {},
   "outputs": [
    {
     "data": {
      "text/plain": [
       "Rndrng_NPI                   False\n",
       "Rndrng_Prvdr_Type            False\n",
       "Rndrng_Prvdr_State_Abrvtn    False\n",
       "Rndrng_Prvdr_Gndr            False\n",
       "Tot_HCPCS_Cds                False\n",
       "Bene_Male_Cnt                False\n",
       "Bene_Avg_Age                 False\n",
       "Tot_Srvcs                    False\n",
       "Tot_Benes                    False\n",
       "Bene_Avg_Risk_Scre           False\n",
       "Tot_Sbmtd_Chrg               False\n",
       "Tot_Mdcr_Pymt_Amt            False\n",
       "year                         False\n",
       "Fraud                        False\n",
       "dtype: bool"
      ]
     },
     "execution_count": 15,
     "metadata": {},
     "output_type": "execute_result"
    }
   ],
   "source": [
    "#drop missing values (sex values)\n",
    "df=df.dropna()\n",
    "df.isna().any()"
   ]
  },
  {
   "cell_type": "code",
   "execution_count": 16,
   "id": "fd332eb3",
   "metadata": {},
   "outputs": [
    {
     "data": {
      "text/plain": [
       "(4174813, 14)"
      ]
     },
     "execution_count": 16,
     "metadata": {},
     "output_type": "execute_result"
    }
   ],
   "source": [
    "df.shape"
   ]
  },
  {
   "cell_type": "markdown",
   "id": "ac4c7711",
   "metadata": {},
   "source": [
    "### Negative values"
   ]
  },
  {
   "cell_type": "code",
   "execution_count": 17,
   "id": "9727137a",
   "metadata": {},
   "outputs": [
    {
     "name": "stdout",
     "output_type": "stream",
     "text": [
      "Negative submitted charges : 0\n",
      "Negative Medicare payment : 0\n",
      "Negative Total benefits: 0\n",
      "Negative Total services: 0\n",
      "Negative Total HCPCS: 0\n",
      "Negative Total Male cnt: 0\n",
      "Negative Average age: 0\n",
      "Negative Avg risk score: 0\n"
     ]
    }
   ],
   "source": [
    "#check invalid values\n",
    "print('Negative submitted charges :',df[df['Tot_Sbmtd_Chrg'] < 0].shape[0])\n",
    "print('Negative Medicare payment :',df[df['Tot_Mdcr_Pymt_Amt'] < 0].shape[0])\n",
    "print('Negative Total benefits:',df[df['Tot_Benes'] < 0].shape[0])\n",
    "print('Negative Total services:',df[df['Tot_Srvcs'] < 0].shape[0])\n",
    "print('Negative Total HCPCS:',df[df['Tot_HCPCS_Cds'] < 0].shape[0])\n",
    "print('Negative Total Male cnt:',df[df['Bene_Male_Cnt'] < 0].shape[0])\n",
    "print('Negative Average age:',df[df['Bene_Avg_Age'] <= 0].shape[0])\n",
    "print('Negative Avg risk score:',df[df['Bene_Avg_Risk_Scre'] <= 0].shape[0])"
   ]
  },
  {
   "cell_type": "markdown",
   "id": "9b61cf63",
   "metadata": {},
   "source": [
    "### Duplicate values"
   ]
  },
  {
   "cell_type": "code",
   "execution_count": 18,
   "id": "1263ee32",
   "metadata": {},
   "outputs": [],
   "source": [
    "#check without considering NPI & year\n",
    "dups=df[df.duplicated(list(f for f in df.columns if f!= 'Rndrng_NPI' and f!= 'year' ))] "
   ]
  },
  {
   "cell_type": "code",
   "execution_count": 19,
   "id": "a944e9a7",
   "metadata": {},
   "outputs": [
    {
     "name": "stdout",
     "output_type": "stream",
     "text": [
      "Duplicated rows :  0\n"
     ]
    }
   ],
   "source": [
    "print('Duplicated rows : ',dups.shape[0])"
   ]
  },
  {
   "cell_type": "markdown",
   "id": "ccbf55c0",
   "metadata": {},
   "source": [
    "### Saving dataframe"
   ]
  },
  {
   "cell_type": "code",
   "execution_count": 20,
   "id": "fd96acd0",
   "metadata": {},
   "outputs": [],
   "source": [
    "# saving clean dataframe as CSV\n",
    "df.to_csv(\"data\\processed\\Clean_CMS_Provider(2016_2019).csv\",index=False)"
   ]
  },
  {
   "cell_type": "code",
   "execution_count": null,
   "id": "9d4c4a20",
   "metadata": {},
   "outputs": [],
   "source": []
  }
 ],
 "metadata": {
  "kernelspec": {
   "display_name": "Python 3.9.12 ('base')",
   "language": "python",
   "name": "python3"
  },
  "language_info": {
   "codemirror_mode": {
    "name": "ipython",
    "version": 3
   },
   "file_extension": ".py",
   "mimetype": "text/x-python",
   "name": "python",
   "nbconvert_exporter": "python",
   "pygments_lexer": "ipython3",
   "version": "3.9.12"
  },
  "nbTranslate": {
   "displayLangs": [
    "*"
   ],
   "hotkey": "alt-t",
   "langInMainMenu": true,
   "sourceLang": "en",
   "targetLang": "fr",
   "useGoogleTranslate": true
  },
  "vscode": {
   "interpreter": {
    "hash": "a7a3b40a93e4bcbea5c0f6a867d5c9303c90b59a833469dc7d680524bbed05c6"
   }
  }
 },
 "nbformat": 4,
 "nbformat_minor": 5
}
