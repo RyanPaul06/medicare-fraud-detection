{
 "cells": [
  {
   "cell_type": "markdown",
   "id": "f9008793",
   "metadata": {
    "id": "f9008793"
   },
   "source": [
    "# Health Insurance fraud detection using Medicare Providers dataset "
   ]
  },
  {
   "cell_type": "code",
   "execution_count": 1,
   "id": "792fe1ab",
   "metadata": {
    "executionInfo": {
     "elapsed": 1538,
     "status": "ok",
     "timestamp": 1658477284739,
     "user": {
      "displayName": "LAHNA MOHAMED",
      "userId": "10685987801383146200"
     },
     "user_tz": -60
    },
    "id": "792fe1ab"
   },
   "outputs": [],
   "source": [
    "import pandas as pd\n",
    "pd.set_option('display.max_columns', None)\n",
    "pd.set_option('display.float_format', lambda x: '%.3f' % x)\n",
    "import numpy as np\n",
    "import seaborn as sns\n",
    "import matplotlib.pyplot as plt\n",
    "import math\n",
    "import matplotlib\n",
    "import os\n",
    "from pathlib import Path\n",
    "%matplotlib inline"
   ]
  },
  {
   "cell_type": "code",
   "execution_count": 2,
   "id": "74373aa8",
   "metadata": {},
   "outputs": [],
   "source": [
    "#Change directory to root\n",
    "path = Path(os.getcwd())\n",
    "root_dir = path.parent.absolute()\n",
    "os.chdir(str(root_dir))"
   ]
  },
  {
   "cell_type": "markdown",
   "id": "f56be3df",
   "metadata": {
    "id": "f56be3df"
   },
   "source": [
    "## 4. Modeling"
   ]
  },
  {
   "cell_type": "markdown",
   "id": "ac632c65",
   "metadata": {
    "id": "ac632c65"
   },
   "source": [
    "### 4.1. Preparation"
   ]
  },
  {
   "cell_type": "code",
   "execution_count": 3,
   "id": "98c14460",
   "metadata": {
    "executionInfo": {
     "elapsed": 620,
     "status": "ok",
     "timestamp": 1658477311273,
     "user": {
      "displayName": "LAHNA MOHAMED",
      "userId": "10685987801383146200"
     },
     "user_tz": -60
    },
    "id": "98c14460"
   },
   "outputs": [],
   "source": [
    "df_cms = pd.read_csv('data\\processed\\Sampled_Medicare_Data.csv')"
   ]
  },
  {
   "cell_type": "code",
   "execution_count": 4,
   "id": "fb724d7a",
   "metadata": {
    "colab": {
     "base_uri": "https://localhost:8080/",
     "height": 305
    },
    "executionInfo": {
     "elapsed": 103,
     "status": "ok",
     "timestamp": 1658477311274,
     "user": {
      "displayName": "LAHNA MOHAMED",
      "userId": "10685987801383146200"
     },
     "user_tz": -60
    },
    "id": "fb724d7a",
    "outputId": "997d8c71-34c1-48ce-d30c-32dce095dfb1"
   },
   "outputs": [
    {
     "data": {
      "text/html": [
       "<div>\n",
       "<style scoped>\n",
       "    .dataframe tbody tr th:only-of-type {\n",
       "        vertical-align: middle;\n",
       "    }\n",
       "\n",
       "    .dataframe tbody tr th {\n",
       "        vertical-align: top;\n",
       "    }\n",
       "\n",
       "    .dataframe thead th {\n",
       "        text-align: right;\n",
       "    }\n",
       "</style>\n",
       "<table border=\"1\" class=\"dataframe\">\n",
       "  <thead>\n",
       "    <tr style=\"text-align: right;\">\n",
       "      <th></th>\n",
       "      <th>Rndrng_NPI</th>\n",
       "      <th>Rndrng_Prvdr_Type</th>\n",
       "      <th>Rndrng_Prvdr_State_Abrvtn</th>\n",
       "      <th>Rndrng_Prvdr_Gndr</th>\n",
       "      <th>Tot_HCPCS_Cds</th>\n",
       "      <th>Bene_Male_Cnt</th>\n",
       "      <th>Bene_Avg_Age</th>\n",
       "      <th>Tot_Srvcs</th>\n",
       "      <th>Tot_Benes</th>\n",
       "      <th>Bene_Avg_Risk_Scre</th>\n",
       "      <th>Tot_Sbmtd_Chrg</th>\n",
       "      <th>Tot_Mdcr_Pymt_Amt</th>\n",
       "      <th>year</th>\n",
       "      <th>Fraud</th>\n",
       "    </tr>\n",
       "  </thead>\n",
       "  <tbody>\n",
       "    <tr>\n",
       "      <th>0</th>\n",
       "      <td>1144645441</td>\n",
       "      <td>Nurse Practitioner</td>\n",
       "      <td>KY</td>\n",
       "      <td>F</td>\n",
       "      <td>15</td>\n",
       "      <td>106.000</td>\n",
       "      <td>69</td>\n",
       "      <td>504.000</td>\n",
       "      <td>315</td>\n",
       "      <td>1.593</td>\n",
       "      <td>103833.000</td>\n",
       "      <td>25026.710</td>\n",
       "      <td>2016</td>\n",
       "      <td>0</td>\n",
       "    </tr>\n",
       "    <tr>\n",
       "      <th>1</th>\n",
       "      <td>1215036645</td>\n",
       "      <td>General Surgery</td>\n",
       "      <td>TN</td>\n",
       "      <td>M</td>\n",
       "      <td>35</td>\n",
       "      <td>42.000</td>\n",
       "      <td>68</td>\n",
       "      <td>128.000</td>\n",
       "      <td>69</td>\n",
       "      <td>1.985</td>\n",
       "      <td>176562.400</td>\n",
       "      <td>34067.570</td>\n",
       "      <td>2017</td>\n",
       "      <td>0</td>\n",
       "    </tr>\n",
       "    <tr>\n",
       "      <th>2</th>\n",
       "      <td>1598203416</td>\n",
       "      <td>Certified Registered Nurse Anesthetist (CRNA)</td>\n",
       "      <td>FL</td>\n",
       "      <td>M</td>\n",
       "      <td>15</td>\n",
       "      <td>82.000</td>\n",
       "      <td>73</td>\n",
       "      <td>23.000</td>\n",
       "      <td>21</td>\n",
       "      <td>4.936</td>\n",
       "      <td>35451.000</td>\n",
       "      <td>5020.170</td>\n",
       "      <td>2018</td>\n",
       "      <td>0</td>\n",
       "    </tr>\n",
       "    <tr>\n",
       "      <th>3</th>\n",
       "      <td>1386608115</td>\n",
       "      <td>Dermatology</td>\n",
       "      <td>NC</td>\n",
       "      <td>F</td>\n",
       "      <td>32</td>\n",
       "      <td>385.000</td>\n",
       "      <td>74</td>\n",
       "      <td>4810.000</td>\n",
       "      <td>1146</td>\n",
       "      <td>0.789</td>\n",
       "      <td>630920.000</td>\n",
       "      <td>214255.900</td>\n",
       "      <td>2018</td>\n",
       "      <td>0</td>\n",
       "    </tr>\n",
       "    <tr>\n",
       "      <th>4</th>\n",
       "      <td>1497773790</td>\n",
       "      <td>Optometry</td>\n",
       "      <td>MA</td>\n",
       "      <td>M</td>\n",
       "      <td>8</td>\n",
       "      <td>62.000</td>\n",
       "      <td>71</td>\n",
       "      <td>153.000</td>\n",
       "      <td>140</td>\n",
       "      <td>0.915</td>\n",
       "      <td>21300.000</td>\n",
       "      <td>13016.190</td>\n",
       "      <td>2017</td>\n",
       "      <td>0</td>\n",
       "    </tr>\n",
       "  </tbody>\n",
       "</table>\n",
       "</div>"
      ],
      "text/plain": [
       "   Rndrng_NPI                              Rndrng_Prvdr_Type  \\\n",
       "0  1144645441                             Nurse Practitioner   \n",
       "1  1215036645                                General Surgery   \n",
       "2  1598203416  Certified Registered Nurse Anesthetist (CRNA)   \n",
       "3  1386608115                                    Dermatology   \n",
       "4  1497773790                                      Optometry   \n",
       "\n",
       "  Rndrng_Prvdr_State_Abrvtn Rndrng_Prvdr_Gndr  Tot_HCPCS_Cds  Bene_Male_Cnt  \\\n",
       "0                        KY                 F             15        106.000   \n",
       "1                        TN                 M             35         42.000   \n",
       "2                        FL                 M             15         82.000   \n",
       "3                        NC                 F             32        385.000   \n",
       "4                        MA                 M              8         62.000   \n",
       "\n",
       "   Bene_Avg_Age  Tot_Srvcs  Tot_Benes  Bene_Avg_Risk_Scre  Tot_Sbmtd_Chrg  \\\n",
       "0            69    504.000        315               1.593      103833.000   \n",
       "1            68    128.000         69               1.985      176562.400   \n",
       "2            73     23.000         21               4.936       35451.000   \n",
       "3            74   4810.000       1146               0.789      630920.000   \n",
       "4            71    153.000        140               0.915       21300.000   \n",
       "\n",
       "   Tot_Mdcr_Pymt_Amt  year  Fraud  \n",
       "0          25026.710  2016      0  \n",
       "1          34067.570  2017      0  \n",
       "2           5020.170  2018      0  \n",
       "3         214255.900  2018      0  \n",
       "4          13016.190  2017      0  "
      ]
     },
     "execution_count": 4,
     "metadata": {},
     "output_type": "execute_result"
    }
   ],
   "source": [
    "df_cms.head()"
   ]
  },
  {
   "cell_type": "code",
   "execution_count": 5,
   "id": "ddd775ac",
   "metadata": {
    "colab": {
     "base_uri": "https://localhost:8080/",
     "height": 305
    },
    "executionInfo": {
     "elapsed": 96,
     "status": "ok",
     "timestamp": 1658477311276,
     "user": {
      "displayName": "LAHNA MOHAMED",
      "userId": "10685987801383146200"
     },
     "user_tz": -60
    },
    "id": "ddd775ac",
    "outputId": "8390775b-6913-4ced-8987-8404c0c47144"
   },
   "outputs": [
    {
     "data": {
      "text/html": [
       "<div>\n",
       "<style scoped>\n",
       "    .dataframe tbody tr th:only-of-type {\n",
       "        vertical-align: middle;\n",
       "    }\n",
       "\n",
       "    .dataframe tbody tr th {\n",
       "        vertical-align: top;\n",
       "    }\n",
       "\n",
       "    .dataframe thead th {\n",
       "        text-align: right;\n",
       "    }\n",
       "</style>\n",
       "<table border=\"1\" class=\"dataframe\">\n",
       "  <thead>\n",
       "    <tr style=\"text-align: right;\">\n",
       "      <th></th>\n",
       "      <th>Rndrng_Prvdr_Type</th>\n",
       "      <th>Rndrng_Prvdr_State_Abrvtn</th>\n",
       "      <th>Rndrng_Prvdr_Gndr</th>\n",
       "      <th>Tot_HCPCS_Cds</th>\n",
       "      <th>Bene_Male_Cnt</th>\n",
       "      <th>Bene_Avg_Age</th>\n",
       "      <th>Tot_Srvcs</th>\n",
       "      <th>Tot_Benes</th>\n",
       "      <th>Bene_Avg_Risk_Scre</th>\n",
       "      <th>Tot_Sbmtd_Chrg</th>\n",
       "      <th>Tot_Mdcr_Pymt_Amt</th>\n",
       "      <th>Fraud</th>\n",
       "    </tr>\n",
       "  </thead>\n",
       "  <tbody>\n",
       "    <tr>\n",
       "      <th>0</th>\n",
       "      <td>Nurse Practitioner</td>\n",
       "      <td>KY</td>\n",
       "      <td>F</td>\n",
       "      <td>15</td>\n",
       "      <td>106.000</td>\n",
       "      <td>69</td>\n",
       "      <td>504.000</td>\n",
       "      <td>315</td>\n",
       "      <td>1.593</td>\n",
       "      <td>103833.000</td>\n",
       "      <td>25026.710</td>\n",
       "      <td>0</td>\n",
       "    </tr>\n",
       "    <tr>\n",
       "      <th>1</th>\n",
       "      <td>General Surgery</td>\n",
       "      <td>TN</td>\n",
       "      <td>M</td>\n",
       "      <td>35</td>\n",
       "      <td>42.000</td>\n",
       "      <td>68</td>\n",
       "      <td>128.000</td>\n",
       "      <td>69</td>\n",
       "      <td>1.985</td>\n",
       "      <td>176562.400</td>\n",
       "      <td>34067.570</td>\n",
       "      <td>0</td>\n",
       "    </tr>\n",
       "    <tr>\n",
       "      <th>2</th>\n",
       "      <td>Certified Registered Nurse Anesthetist (CRNA)</td>\n",
       "      <td>FL</td>\n",
       "      <td>M</td>\n",
       "      <td>15</td>\n",
       "      <td>82.000</td>\n",
       "      <td>73</td>\n",
       "      <td>23.000</td>\n",
       "      <td>21</td>\n",
       "      <td>4.936</td>\n",
       "      <td>35451.000</td>\n",
       "      <td>5020.170</td>\n",
       "      <td>0</td>\n",
       "    </tr>\n",
       "    <tr>\n",
       "      <th>3</th>\n",
       "      <td>Dermatology</td>\n",
       "      <td>NC</td>\n",
       "      <td>F</td>\n",
       "      <td>32</td>\n",
       "      <td>385.000</td>\n",
       "      <td>74</td>\n",
       "      <td>4810.000</td>\n",
       "      <td>1146</td>\n",
       "      <td>0.789</td>\n",
       "      <td>630920.000</td>\n",
       "      <td>214255.900</td>\n",
       "      <td>0</td>\n",
       "    </tr>\n",
       "    <tr>\n",
       "      <th>4</th>\n",
       "      <td>Optometry</td>\n",
       "      <td>MA</td>\n",
       "      <td>M</td>\n",
       "      <td>8</td>\n",
       "      <td>62.000</td>\n",
       "      <td>71</td>\n",
       "      <td>153.000</td>\n",
       "      <td>140</td>\n",
       "      <td>0.915</td>\n",
       "      <td>21300.000</td>\n",
       "      <td>13016.190</td>\n",
       "      <td>0</td>\n",
       "    </tr>\n",
       "  </tbody>\n",
       "</table>\n",
       "</div>"
      ],
      "text/plain": [
       "                               Rndrng_Prvdr_Type Rndrng_Prvdr_State_Abrvtn  \\\n",
       "0                             Nurse Practitioner                        KY   \n",
       "1                                General Surgery                        TN   \n",
       "2  Certified Registered Nurse Anesthetist (CRNA)                        FL   \n",
       "3                                    Dermatology                        NC   \n",
       "4                                      Optometry                        MA   \n",
       "\n",
       "  Rndrng_Prvdr_Gndr  Tot_HCPCS_Cds  Bene_Male_Cnt  Bene_Avg_Age  Tot_Srvcs  \\\n",
       "0                 F             15        106.000            69    504.000   \n",
       "1                 M             35         42.000            68    128.000   \n",
       "2                 M             15         82.000            73     23.000   \n",
       "3                 F             32        385.000            74   4810.000   \n",
       "4                 M              8         62.000            71    153.000   \n",
       "\n",
       "   Tot_Benes  Bene_Avg_Risk_Scre  Tot_Sbmtd_Chrg  Tot_Mdcr_Pymt_Amt  Fraud  \n",
       "0        315               1.593      103833.000          25026.710      0  \n",
       "1         69               1.985      176562.400          34067.570      0  \n",
       "2         21               4.936       35451.000           5020.170      0  \n",
       "3       1146               0.789      630920.000         214255.900      0  \n",
       "4        140               0.915       21300.000          13016.190      0  "
      ]
     },
     "execution_count": 5,
     "metadata": {},
     "output_type": "execute_result"
    }
   ],
   "source": [
    "#Drop year and NPI for training\n",
    "df_cms=df_cms.drop(columns=['Rndrng_NPI','year'])\n",
    "df_cms.head()"
   ]
  },
  {
   "cell_type": "code",
   "execution_count": 6,
   "id": "9d0456d6",
   "metadata": {
    "colab": {
     "base_uri": "https://localhost:8080/"
    },
    "executionInfo": {
     "elapsed": 94,
     "status": "ok",
     "timestamp": 1658477311277,
     "user": {
      "displayName": "LAHNA MOHAMED",
      "userId": "10685987801383146200"
     },
     "user_tz": -60
    },
    "id": "9d0456d6",
    "outputId": "c689f089-da28-4a71-c092-4eb1d77dda60"
   },
   "outputs": [
    {
     "data": {
      "text/plain": [
       "(12470, 12)"
      ]
     },
     "execution_count": 6,
     "metadata": {},
     "output_type": "execute_result"
    }
   ],
   "source": [
    "df_cms.shape"
   ]
  },
  {
   "cell_type": "code",
   "execution_count": 7,
   "id": "ca03af7c",
   "metadata": {
    "colab": {
     "base_uri": "https://localhost:8080/"
    },
    "executionInfo": {
     "elapsed": 75,
     "status": "ok",
     "timestamp": 1658477311277,
     "user": {
      "displayName": "LAHNA MOHAMED",
      "userId": "10685987801383146200"
     },
     "user_tz": -60
    },
    "id": "ca03af7c",
    "outputId": "a1ca7d31-57cb-4df3-c4ea-85afa2c3ecfe"
   },
   "outputs": [
    {
     "data": {
      "text/plain": [
       "Rndrng_Prvdr_Type            False\n",
       "Rndrng_Prvdr_State_Abrvtn    False\n",
       "Rndrng_Prvdr_Gndr            False\n",
       "Tot_HCPCS_Cds                False\n",
       "Bene_Male_Cnt                False\n",
       "Bene_Avg_Age                 False\n",
       "Tot_Srvcs                    False\n",
       "Tot_Benes                    False\n",
       "Bene_Avg_Risk_Scre           False\n",
       "Tot_Sbmtd_Chrg               False\n",
       "Tot_Mdcr_Pymt_Amt            False\n",
       "Fraud                        False\n",
       "dtype: bool"
      ]
     },
     "execution_count": 7,
     "metadata": {},
     "output_type": "execute_result"
    }
   ],
   "source": [
    "#Null Values\n",
    "df_cms.isna().any()"
   ]
  },
  {
   "cell_type": "code",
   "execution_count": 8,
   "id": "61f0c4c9",
   "metadata": {
    "colab": {
     "base_uri": "https://localhost:8080/"
    },
    "executionInfo": {
     "elapsed": 73,
     "status": "ok",
     "timestamp": 1658477311279,
     "user": {
      "displayName": "LAHNA MOHAMED",
      "userId": "10685987801383146200"
     },
     "user_tz": -60
    },
    "id": "61f0c4c9",
    "outputId": "62bbe833-90b9-4286-b7f3-58a6086c9429"
   },
   "outputs": [
    {
     "name": "stdout",
     "output_type": "stream",
     "text": [
      "Duplicated rows : 0\n"
     ]
    }
   ],
   "source": [
    "#Duplicated rows\n",
    "dups=df_cms[df_cms.duplicated()] \n",
    "print('Duplicated rows :',dups.shape[0])"
   ]
  },
  {
   "cell_type": "code",
   "execution_count": 9,
   "id": "99fc648a",
   "metadata": {
    "colab": {
     "base_uri": "https://localhost:8080/"
    },
    "executionInfo": {
     "elapsed": 70,
     "status": "ok",
     "timestamp": 1658477311282,
     "user": {
      "displayName": "LAHNA MOHAMED",
      "userId": "10685987801383146200"
     },
     "user_tz": -60
    },
    "id": "99fc648a",
    "outputId": "972d3675-6501-4aba-a50c-a45029a0a0d2"
   },
   "outputs": [
    {
     "name": "stdout",
     "output_type": "stream",
     "text": [
      "Negative submitted charges : 0\n",
      "Negative Medicare payment : 0\n",
      "Negative Total benefits: 0\n",
      "Negative Total services: 0\n"
     ]
    }
   ],
   "source": [
    "#Check invalid values\n",
    "print('Negative submitted charges :',df_cms[df_cms['Tot_Sbmtd_Chrg'] < 0].shape[0])\n",
    "print('Negative Medicare payment :',df_cms[df_cms['Tot_Mdcr_Pymt_Amt'] < 0].shape[0])\n",
    "print('Negative Total benefits:',df_cms[df_cms['Tot_Benes'] < 0].shape[0])\n",
    "print('Negative Total services:',df_cms[df_cms['Tot_Srvcs'] < 0].shape[0])"
   ]
  },
  {
   "cell_type": "code",
   "execution_count": 10,
   "id": "5b16f094",
   "metadata": {
    "colab": {
     "base_uri": "https://localhost:8080/"
    },
    "executionInfo": {
     "elapsed": 67,
     "status": "ok",
     "timestamp": 1658477311283,
     "user": {
      "displayName": "LAHNA MOHAMED",
      "userId": "10685987801383146200"
     },
     "user_tz": -60
    },
    "id": "5b16f094",
    "outputId": "ffb3bcec-0bde-44d0-e823-dbc3e53ee2af"
   },
   "outputs": [
    {
     "data": {
      "text/plain": [
       "Rndrng_Prvdr_Type             object\n",
       "Rndrng_Prvdr_State_Abrvtn     object\n",
       "Rndrng_Prvdr_Gndr             object\n",
       "Tot_HCPCS_Cds                  int64\n",
       "Bene_Male_Cnt                float64\n",
       "Bene_Avg_Age                   int64\n",
       "Tot_Srvcs                    float64\n",
       "Tot_Benes                      int64\n",
       "Bene_Avg_Risk_Scre           float64\n",
       "Tot_Sbmtd_Chrg               float64\n",
       "Tot_Mdcr_Pymt_Amt            float64\n",
       "Fraud                          int64\n",
       "dtype: object"
      ]
     },
     "execution_count": 10,
     "metadata": {},
     "output_type": "execute_result"
    }
   ],
   "source": [
    "#Check dtypes\n",
    "df_cms.dtypes"
   ]
  },
  {
   "cell_type": "code",
   "execution_count": 11,
   "id": "f81b425e",
   "metadata": {
    "colab": {
     "base_uri": "https://localhost:8080/"
    },
    "executionInfo": {
     "elapsed": 63,
     "status": "ok",
     "timestamp": 1658477311285,
     "user": {
      "displayName": "LAHNA MOHAMED",
      "userId": "10685987801383146200"
     },
     "user_tz": -60
    },
    "id": "f81b425e",
    "outputId": "26458baf-bcae-45cb-fa37-1b14cc9d1aed"
   },
   "outputs": [
    {
     "data": {
      "text/plain": [
       "Rndrng_Prvdr_Gndr             2\n",
       "Rndrng_Prvdr_Type            80\n",
       "Rndrng_Prvdr_State_Abrvtn    57\n",
       "dtype: int64"
      ]
     },
     "execution_count": 11,
     "metadata": {},
     "output_type": "execute_result"
    }
   ],
   "source": [
    "df_cms[['Rndrng_Prvdr_Gndr','Rndrng_Prvdr_Type',\"Rndrng_Prvdr_State_Abrvtn\"]].nunique()"
   ]
  },
  {
   "cell_type": "markdown",
   "id": "6832a0d2",
   "metadata": {
    "id": "6832a0d2"
   },
   "source": [
    "- __Convert _'Rndrng_Prvdr_Gndr'_ To binary (0/1)__\n",
    "\n",
    "\n",
    "- __Apply One-Hot enconding to _'Rndrng_Prvdr_Type' & 'Rndrng_Prvdr_State_Abrvtn'___"
   ]
  },
  {
   "cell_type": "code",
   "execution_count": 12,
   "id": "FGsjvAXnV79i",
   "metadata": {
    "executionInfo": {
     "elapsed": 53,
     "status": "ok",
     "timestamp": 1658477311287,
     "user": {
      "displayName": "LAHNA MOHAMED",
      "userId": "10685987801383146200"
     },
     "user_tz": -60
    },
    "id": "FGsjvAXnV79i"
   },
   "outputs": [],
   "source": [
    "def convert_cat(df_cms):\n",
    "    gender_map = {'M': 1,'F': 0}\n",
    "    df_conv=df_cms.copy()\n",
    "    df_conv['Rndrng_Prvdr_Gndr']=df_cms['Rndrng_Prvdr_Gndr'].map(gender_map)\n",
    "    df_conv=pd.get_dummies(df_conv)\n",
    "    return df_conv"
   ]
  },
  {
   "cell_type": "code",
   "execution_count": 13,
   "id": "QwsfjDp2E7rZ",
   "metadata": {
    "executionInfo": {
     "elapsed": 53,
     "status": "ok",
     "timestamp": 1658477311288,
     "user": {
      "displayName": "LAHNA MOHAMED",
      "userId": "10685987801383146200"
     },
     "user_tz": -60
    },
    "id": "QwsfjDp2E7rZ"
   },
   "outputs": [],
   "source": [
    "df=convert_cat(df_cms)"
   ]
  },
  {
   "cell_type": "code",
   "execution_count": 14,
   "id": "06up8P33qS4k",
   "metadata": {
    "colab": {
     "base_uri": "https://localhost:8080/"
    },
    "executionInfo": {
     "elapsed": 54,
     "status": "ok",
     "timestamp": 1658477311293,
     "user": {
      "displayName": "LAHNA MOHAMED",
      "userId": "10685987801383146200"
     },
     "user_tz": -60
    },
    "id": "06up8P33qS4k",
    "outputId": "473d75e0-53fe-4d43-8dfe-08986e97b48c"
   },
   "outputs": [
    {
     "name": "stdout",
     "output_type": "stream",
     "text": [
      "new data shape : (12470, 147)\n"
     ]
    }
   ],
   "source": [
    "print('new data shape :',df.shape)"
   ]
  },
  {
   "cell_type": "markdown",
   "id": "83b1789c",
   "metadata": {
    "id": "83b1789c"
   },
   "source": [
    "### 4.2. Model training"
   ]
  },
  {
   "cell_type": "markdown",
   "id": "mMmRsHA_rZTL",
   "metadata": {
    "id": "mMmRsHA_rZTL"
   },
   "source": [
    "#### Preprocessing :"
   ]
  },
  {
   "cell_type": "code",
   "execution_count": 15,
   "id": "930a223e",
   "metadata": {
    "executionInfo": {
     "elapsed": 301,
     "status": "ok",
     "timestamp": 1658479894843,
     "user": {
      "displayName": "LAHNA MOHAMED",
      "userId": "10685987801383146200"
     },
     "user_tz": -60
    },
    "id": "930a223e"
   },
   "outputs": [],
   "source": [
    "from sklearn.model_selection import train_test_split\n",
    "from numpy import mean\n",
    "from sklearn.metrics import confusion_matrix\n",
    "from sklearn.datasets import make_classification\n",
    "from sklearn.model_selection import cross_val_score\n",
    "from sklearn.model_selection import cross_validate\n",
    "from sklearn.model_selection import RepeatedStratifiedKFold\n",
    "from sklearn.model_selection import StratifiedKFold\n",
    "from imblearn.pipeline import Pipeline\n",
    "from imblearn.under_sampling import RandomUnderSampler\n",
    "from imblearn.over_sampling import RandomOverSampler \n",
    "from sklearn import svm\n",
    "from collections import Counter\n",
    "from sklearn.preprocessing import StandardScaler,RobustScaler\n",
    "from sklearn.ensemble import RandomForestClassifier\n",
    "import time\n",
    "from sklearn.metrics import plot_confusion_matrix\n",
    "from sklearn.model_selection import cross_val_predict\n",
    "from sklearn.model_selection import GridSearchCV\n",
    "from sklearn.preprocessing import MinMaxScaler\n",
    "import sklearn.metrics as score\n",
    "from sklearn.metrics import classification_report\n",
    "from sklearn.metrics import confusion_matrix , ConfusionMatrixDisplay ,plot_roc_curve\n",
    "from sklearn.metrics import plot_confusion_matrix\n",
    "from sklearn.metrics import precision_score, recall_score, f1_score, accuracy_score ,roc_auc_score\n",
    "from sklearn.metrics import precision_recall_fscore_support\n",
    "from sklearn.neural_network import MLPClassifier\n",
    "from sklearn.preprocessing import StandardScaler\n",
    "from imblearn.over_sampling import SMOTE\n",
    "from sklearn.metrics import make_scorer\n",
    "from imblearn.under_sampling import TomekLinks \n",
    "from imblearn.under_sampling import EditedNearestNeighbours \n",
    "from imblearn.under_sampling import NearMiss \n",
    "from imblearn.under_sampling import CondensedNearestNeighbour \n",
    "from imblearn.over_sampling import ADASYN \n",
    "from imblearn.ensemble import EasyEnsembleClassifier \n",
    "from sklearn.decomposition import PCA\n",
    "import joblib"
   ]
  },
  {
   "cell_type": "code",
   "execution_count": 16,
   "id": "rz7u2k70Wn8D",
   "metadata": {
    "executionInfo": {
     "elapsed": 16,
     "status": "ok",
     "timestamp": 1658477385514,
     "user": {
      "displayName": "LAHNA MOHAMED",
      "userId": "10685987801383146200"
     },
     "user_tz": -60
    },
    "id": "rz7u2k70Wn8D"
   },
   "outputs": [],
   "source": [
    "#Train/Test split\n",
    "X = df.drop(columns='Fraud')\n",
    "y = df['Fraud']\n",
    "X_train, X_test, y_train, y_test = train_test_split(X, y, test_size=0.20, random_state=12, stratify=y)"
   ]
  },
  {
   "cell_type": "code",
   "execution_count": 17,
   "id": "fE9xhnVKFT1C",
   "metadata": {
    "colab": {
     "base_uri": "https://localhost:8080/",
     "height": 112
    },
    "executionInfo": {
     "elapsed": 16,
     "status": "ok",
     "timestamp": 1658477385516,
     "user": {
      "displayName": "LAHNA MOHAMED",
      "userId": "10685987801383146200"
     },
     "user_tz": -60
    },
    "id": "fE9xhnVKFT1C",
    "outputId": "6c672aa3-4a24-44bf-9205-33768abc5c91"
   },
   "outputs": [
    {
     "data": {
      "text/html": [
       "<div>\n",
       "<style scoped>\n",
       "    .dataframe tbody tr th:only-of-type {\n",
       "        vertical-align: middle;\n",
       "    }\n",
       "\n",
       "    .dataframe tbody tr th {\n",
       "        vertical-align: top;\n",
       "    }\n",
       "\n",
       "    .dataframe thead th {\n",
       "        text-align: right;\n",
       "    }\n",
       "</style>\n",
       "<table border=\"1\" class=\"dataframe\">\n",
       "  <thead>\n",
       "    <tr style=\"text-align: right;\">\n",
       "      <th></th>\n",
       "      <th>Subset</th>\n",
       "      <th>Percent</th>\n",
       "      <th>Non_fraudulent</th>\n",
       "      <th>Fraudulent</th>\n",
       "      <th>Fraudulent %</th>\n",
       "    </tr>\n",
       "  </thead>\n",
       "  <tbody>\n",
       "    <tr>\n",
       "      <th>0</th>\n",
       "      <td>Train</td>\n",
       "      <td>80.032</td>\n",
       "      <td>8978</td>\n",
       "      <td>998</td>\n",
       "      <td>10.004</td>\n",
       "    </tr>\n",
       "    <tr>\n",
       "      <th>1</th>\n",
       "      <td>Test</td>\n",
       "      <td>19.968</td>\n",
       "      <td>2245</td>\n",
       "      <td>249</td>\n",
       "      <td>9.984</td>\n",
       "    </tr>\n",
       "  </tbody>\n",
       "</table>\n",
       "</div>"
      ],
      "text/plain": [
       "  Subset  Percent  Non_fraudulent  Fraudulent  Fraudulent %\n",
       "0  Train   80.032            8978         998        10.004\n",
       "1   Test   19.968            2245         249         9.984"
      ]
     },
     "execution_count": 17,
     "metadata": {},
     "output_type": "execute_result"
    }
   ],
   "source": [
    "train_test = {'Subset':['Train', 'Test'],\n",
    "              'Percent':[y_train.value_counts()[1]/y.value_counts()[1]*100, \n",
    "                   y_test.value_counts()[1]/y.value_counts()[1]*100],\n",
    "        'Non_fraudulent':[y_train.value_counts()[0], y_test.value_counts()[0]],\n",
    "        \n",
    "        'Fraudulent':[y_train.value_counts()[1], y_test.value_counts()[1]],\n",
    "        'Fraudulent %' :[y_train.value_counts()[1]/len(X_train)*100,\n",
    "                         y_test.value_counts()[1]/len(X_test)*100]\n",
    "       }\n",
    "df_size = pd.DataFrame(train_test)\n",
    "df_size"
   ]
  },
  {
   "cell_type": "code",
   "execution_count": 18,
   "id": "c8faf579",
   "metadata": {},
   "outputs": [],
   "source": [
    "#Save train/test data as csv\n",
    "#train\n",
    "X_train.to_csv(\"data/final/X_train.csv\",index=False) \n",
    "y_train.to_csv(\"data/final/y_train.csv\",index=False) \n",
    "\n",
    "#test\n",
    "X_test.to_csv(\"data/final/X_test.csv\",index=False) \n",
    "y_test.to_csv(\"data/final/y_test.csv\",index=False) "
   ]
  },
  {
   "cell_type": "markdown",
   "id": "T3oj2RymFlVI",
   "metadata": {
    "id": "T3oj2RymFlVI"
   },
   "source": [
    "#### Tests :"
   ]
  },
  {
   "cell_type": "markdown",
   "id": "U_AA0VKBp06R",
   "metadata": {
    "id": "U_AA0VKBp06R"
   },
   "source": [
    "##### Functions :"
   ]
  },
  {
   "cell_type": "code",
   "execution_count": 19,
   "id": "Vh3G9eAcpOob",
   "metadata": {
    "executionInfo": {
     "elapsed": 361,
     "status": "ok",
     "timestamp": 1658477396359,
     "user": {
      "displayName": "LAHNA MOHAMED",
      "userId": "10685987801383146200"
     },
     "user_tz": -60
    },
    "id": "Vh3G9eAcpOob"
   },
   "outputs": [],
   "source": [
    "def Base_eval(model,X_train,y_train,rep):\n",
    "    #Evaluate model\n",
    "    scores = { 'Recall': 'recall',\n",
    "            'ROC_AUC': 'roc_auc',\n",
    "            'Precision': 'precision',\n",
    "            'F1_Score': 'f1'\n",
    "            }\n",
    "\n",
    "    #Scaling \n",
    "    scal = MinMaxScaler()\n",
    "\n",
    "    #define pipeline\n",
    "    if(type(model).__name__ in ['RandomForestClassifier']):\n",
    "        #tree based models don't need scaling\n",
    "        steps = [('model', model)]\n",
    "    else :\n",
    "        steps = [('scal',scal),('model', model)]\n",
    "    pipeline = Pipeline(steps=steps)\n",
    "\n",
    "    #rep x Stratified 5 folds\n",
    "    cv = RepeatedStratifiedKFold(n_splits=5, n_repeats=rep, random_state=1)\n",
    "\n",
    "\n",
    "    #Evaluate :\n",
    "    start = time.time()\n",
    "    scores = cross_validate(model, X_train, y_train, scoring=scores, cv=cv)\n",
    "    stop = time.time()\n",
    "\n",
    "    # if((stop - start)>=60):\n",
    "    #   print(f\"Eval time : {(stop - start)/60} min\")\n",
    "    # else :\n",
    "    #   print(f\"Eval time : {(stop - start)} sec\")\n",
    "\n",
    "    return scores"
   ]
  },
  {
   "cell_type": "code",
   "execution_count": 20,
   "id": "yNHtaZeNGzAW",
   "metadata": {
    "executionInfo": {
     "elapsed": 8,
     "status": "ok",
     "timestamp": 1658477396635,
     "user": {
      "displayName": "LAHNA MOHAMED",
      "userId": "10685987801383146200"
     },
     "user_tz": -60
    },
    "id": "yNHtaZeNGzAW"
   },
   "outputs": [],
   "source": [
    "def Evaluate(model,X_train,y_train,rep,method,minr):\n",
    "  \n",
    "    #Base Model : model\n",
    "\n",
    "    #Evaluate model\n",
    "    scores = { 'Recall': 'recall',\n",
    "            'ROC_AUC': 'roc_auc',\n",
    "            'Precision': 'precision',\n",
    "            'F1_Score': 'f1'\n",
    "            }\n",
    "  \n",
    "    #Sampling\n",
    "    if(method=='rus'):\n",
    "        samp = RandomUnderSampler(sampling_strategy=minr/(1-minr))\n",
    "    elif(method=='nearmiss'):\n",
    "        samp=NearMiss(sampling_strategy=minr/(1-minr)) \n",
    "    elif(method=='ros'):\n",
    "        samp = RandomOverSampler(sampling_strategy=minr/(1-minr))\n",
    "    elif(method=='ros/rus'):\n",
    "        over=RandomOverSampler(sampling_strategy=minr/(1-minr))\n",
    "        under=RandomUnderSampler(sampling_strategy=1)\n",
    "    elif(method=='smote'):\n",
    "        samp=SMOTE()\n",
    "    elif(method=='adasyn'):\n",
    "        samp=ADASYN()\n",
    "   \n",
    "  \n",
    "    #Scaling \n",
    "    scal = MinMaxScaler()\n",
    "  \n",
    "    #define pipeline\n",
    "    if(type(model).__name__ in ['RandomForestClassifier']):\n",
    "        #tree based models don't need scaling\n",
    "        if(method=='ros/rus'):\n",
    "            steps = [('over', over),('under',under) ,('model', model)]\n",
    "        else:\n",
    "            steps = [('samp', samp) ,('model', model)]\n",
    "    else :\n",
    "        if(method=='ros/rus'):\n",
    "            steps = [('over', over),('under',under) ,('scal',scal) , ('model', model)]\n",
    "        else :\n",
    "            steps = [('samp', samp) ,('scal',scal)  ,('model', model)]\n",
    "\n",
    "    pipeline = Pipeline(steps=steps)\n",
    "\n",
    "    #rep x Stratified 5 folds\n",
    "    cv = RepeatedStratifiedKFold(n_splits=5, n_repeats=rep, random_state=1)\n",
    "\n",
    "    #Evaluate :\n",
    "    start = time.time()\n",
    "    scores = cross_validate(pipeline, X_train, y_train, scoring=scores, cv=cv)\n",
    "    stop = time.time()\n",
    "\n",
    "    # if((stop - start)>=60):\n",
    "    #   print(f\"Eval time : {(stop - start)/60} min\")\n",
    "    # else :\n",
    "    #   print(f\"Eval time : {(stop - start)} sec\")\n",
    "\n",
    "    return scores"
   ]
  },
  {
   "cell_type": "code",
   "execution_count": 21,
   "id": "T_mmr82E4qbL",
   "metadata": {
    "executionInfo": {
     "elapsed": 318,
     "status": "ok",
     "timestamp": 1658478804284,
     "user": {
      "displayName": "LAHNA MOHAMED",
      "userId": "10685987801383146200"
     },
     "user_tz": -60
    },
    "id": "T_mmr82E4qbL"
   },
   "outputs": [],
   "source": [
    "def grid_search(model,grid,X_train,y_train,method,minr,rep,score):\n",
    "\n",
    "    #Sampling\n",
    "    if(method=='rus'):\n",
    "        samp = RandomUnderSampler(sampling_strategy=minr/(1-minr))\n",
    "    elif(method=='ros'):\n",
    "        samp = RandomOverSampler(sampling_strategy=minr/(1-minr))\n",
    "    elif(method=='ros/rus'):\n",
    "        over=RandomOverSampler(sampling_strategy=minr/(1-minr))\n",
    "        under=RandomUnderSampler(sampling_strategy=1)\n",
    "    elif(method=='smote'):\n",
    "        samp=SMOTE()\n",
    "\n",
    "    #Scaling \n",
    "    scal = StandardScaler()\n",
    "\n",
    "    #define pipeline\n",
    "    if(type(model).__name__ in ['RandomForestClassifier']):\n",
    "        if(method=='ros/rus'):\n",
    "            steps = [('over', over),('under',under) ,('model', model)]\n",
    "        else:\n",
    "            steps = [('samp', samp) ,('model', model)]\n",
    "    else :\n",
    "        steps = [('samp', samp) ,('scal',scal) ,('model', model)]\n",
    "\n",
    "    pipeline = Pipeline(steps=steps)\n",
    "\n",
    "    #rep x Stratified 5 folds\n",
    "    cv = RepeatedStratifiedKFold(n_splits=5, n_repeats=rep, random_state=1)\n",
    "\n",
    "    #Evaluate :\n",
    "    start = time.time()\n",
    "    cv_grid = GridSearchCV(pipeline, param_grid = grid, scoring = score,cv=cv,verbose=1)\n",
    "    cv_grid.fit(X_train,y_train)\n",
    "    stop = time.time()\n",
    "\n",
    "    if((stop - start)>=60):\n",
    "        print(f\"Grid serach time : {(stop - start)/60} min\")\n",
    "    else :\n",
    "        print(f\"Grid serach time : {(stop - start)} sec\")\n",
    "\n",
    "    return cv_grid"
   ]
  },
  {
   "cell_type": "code",
   "execution_count": 22,
   "id": "BNDsBFagUth_",
   "metadata": {
    "executionInfo": {
     "elapsed": 7,
     "status": "ok",
     "timestamp": 1658477396636,
     "user": {
      "displayName": "LAHNA MOHAMED",
      "userId": "10685987801383146200"
     },
     "user_tz": -60
    },
    "id": "BNDsBFagUth_"
   },
   "outputs": [],
   "source": [
    "def get_scores(scores_out):\n",
    "    print('Precision :',round(np.mean(scores_out['test_Precision']),4),end=' | ')\n",
    "    print('Recall :',round(np.mean(scores_out['test_Recall']),4),end=' | ')\n",
    "    print('F1 Score :',round(np.mean(scores_out['test_F1_Score']),4),end=' | ')\n",
    "    print('ROC_AUC :',round(np.mean(scores_out['test_ROC_AUC']),4))"
   ]
  },
  {
   "cell_type": "code",
   "execution_count": 23,
   "id": "M7Bnol9tZ-7F",
   "metadata": {
    "executionInfo": {
     "elapsed": 8,
     "status": "ok",
     "timestamp": 1658477396637,
     "user": {
      "displayName": "LAHNA MOHAMED",
      "userId": "10685987801383146200"
     },
     "user_tz": -60
    },
    "id": "M7Bnol9tZ-7F"
   },
   "outputs": [],
   "source": [
    "def sampling_eval(model,method,rep):\n",
    "    prp_min=[0.2,0.3,0.4,0.5]\n",
    "    for prp in prp_min :\n",
    "        scores = Evaluate(model,X_train,y_train,rep,method,prp)\n",
    "        print(method.upper() +' '+str(prp*100)+'/'+str((1-prp)*100) +' : ',end=' ')\n",
    "        get_scores(scores)"
   ]
  },
  {
   "cell_type": "code",
   "execution_count": 24,
   "id": "c_2d31uVanoN",
   "metadata": {
    "executionInfo": {
     "elapsed": 8,
     "status": "ok",
     "timestamp": 1658477396638,
     "user": {
      "displayName": "LAHNA MOHAMED",
      "userId": "10685987801383146200"
     },
     "user_tz": -60
    },
    "id": "c_2d31uVanoN"
   },
   "outputs": [],
   "source": [
    "def plot_confusion(cm):\n",
    "    plt.rcParams[\"figure.figsize\"] = (12,8)\n",
    "\n",
    "    group_names = ['True Neg','False Pos','False Neg','True Pos']\n",
    "\n",
    "    group_counts = [\"{0:0.0f}\".format(value) for value in\n",
    "                  cm.flatten()]\n",
    "\n",
    "    labels = [f\"{v1}\\n{v2}\" for v1, v2 in\n",
    "            zip(group_names,group_counts)]\n",
    "    labels = np.asarray(labels).reshape(2,2)\n",
    "\n",
    "    cmap = sns.diverging_palette(220, 10, as_cmap=True)\n",
    "    sns.heatmap(cm, annot=labels, fmt=\"\", cmap=cmap,annot_kws={\"size\": 18})\n",
    "    plt.show()"
   ]
  },
  {
   "cell_type": "markdown",
   "id": "AfNBzv1KiPkV",
   "metadata": {
    "id": "AfNBzv1KiPkV"
   },
   "source": [
    "##### Random forest model :"
   ]
  },
  {
   "cell_type": "code",
   "execution_count": 25,
   "id": "QwvlosCNstz_",
   "metadata": {
    "executionInfo": {
     "elapsed": 305,
     "status": "ok",
     "timestamp": 1658477674586,
     "user": {
      "displayName": "LAHNA MOHAMED",
      "userId": "10685987801383146200"
     },
     "user_tz": -60
    },
    "id": "QwvlosCNstz_"
   },
   "outputs": [],
   "source": [
    "model  = RandomForestClassifier(random_state=0)"
   ]
  },
  {
   "cell_type": "markdown",
   "id": "0ae73005",
   "metadata": {},
   "source": [
    "Training with __5 x 5folds__ cross validation(rep=5)"
   ]
  },
  {
   "cell_type": "code",
   "execution_count": 26,
   "id": "qzE4W_NqNBQT",
   "metadata": {
    "colab": {
     "base_uri": "https://localhost:8080/"
    },
    "executionInfo": {
     "elapsed": 7954,
     "status": "ok",
     "timestamp": 1658477684579,
     "user": {
      "displayName": "LAHNA MOHAMED",
      "userId": "10685987801383146200"
     },
     "user_tz": -60
    },
    "id": "qzE4W_NqNBQT",
    "outputId": "f2e86e26-ca26-40b8-cbc6-fdd651914ba6"
   },
   "outputs": [
    {
     "name": "stdout",
     "output_type": "stream",
     "text": [
      "Base model :\n",
      "10.0/90.0 :  Precision : 0.8924 | Recall : 0.1822 | F1 Score : 0.3021 | ROC_AUC : 0.8718\n"
     ]
    }
   ],
   "source": [
    "# print('Random Forest : ',end='\\n\\n')\n",
    "print('Base model :',end='\\n')\n",
    "scores_base=Base_eval(model,X_train,y_train,5)\n",
    "print('10.0/90.0 : ',end =' ')\n",
    "get_scores(scores_base)"
   ]
  },
  {
   "cell_type": "markdown",
   "id": "tU0F-RYbvIE-",
   "metadata": {
    "id": "tU0F-RYbvIE-"
   },
   "source": [
    "###### Random UnderSampling :"
   ]
  },
  {
   "cell_type": "code",
   "execution_count": 27,
   "id": "49QUUhalRzk-",
   "metadata": {
    "colab": {
     "base_uri": "https://localhost:8080/"
    },
    "executionInfo": {
     "elapsed": 12861,
     "status": "ok",
     "timestamp": 1658477708978,
     "user": {
      "displayName": "LAHNA MOHAMED",
      "userId": "10685987801383146200"
     },
     "user_tz": -60
    },
    "id": "49QUUhalRzk-",
    "outputId": "569c0186-aa7d-4a88-e341-7231491f82f8"
   },
   "outputs": [
    {
     "name": "stdout",
     "output_type": "stream",
     "text": [
      "Random UnderSampling :\n",
      "RUS 20.0/80.0 :  Precision : 0.656 | Recall : 0.3379 | F1 Score : 0.4447 | ROC_AUC : 0.8681\n",
      "RUS 30.0/70.0 :  Precision : 0.4651 | Recall : 0.5054 | F1 Score : 0.4838 | ROC_AUC : 0.8629\n",
      "RUS 40.0/60.0 :  Precision : 0.3489 | Recall : 0.6541 | F1 Score : 0.4548 | ROC_AUC : 0.8537\n",
      "RUS 50.0/50.0 :  Precision : 0.2624 | Recall : 0.7768 | F1 Score : 0.3922 | ROC_AUC : 0.8488\n"
     ]
    }
   ],
   "source": [
    "#Random UnderSampling\n",
    "print('Random UnderSampling :',end ='\\n')\n",
    "sampling_eval(model,'rus',5)"
   ]
  },
  {
   "cell_type": "markdown",
   "id": "Yp-MifWHw0W0",
   "metadata": {
    "id": "Yp-MifWHw0W0"
   },
   "source": [
    "###### Random OverSampling :"
   ]
  },
  {
   "cell_type": "code",
   "execution_count": 28,
   "id": "Ek8kmtONsDaF",
   "metadata": {
    "colab": {
     "base_uri": "https://localhost:8080/"
    },
    "executionInfo": {
     "elapsed": 41152,
     "status": "ok",
     "timestamp": 1658477777042,
     "user": {
      "displayName": "LAHNA MOHAMED",
      "userId": "10685987801383146200"
     },
     "user_tz": -60
    },
    "id": "Ek8kmtONsDaF",
    "outputId": "c84a9df7-fb90-476f-ad66-f745149d56fc"
   },
   "outputs": [
    {
     "name": "stdout",
     "output_type": "stream",
     "text": [
      "Random Oversampling :\n",
      "ROS 20.0/80.0 :  Precision : 0.8303 | Recall : 0.2559 | F1 Score : 0.3899 | ROC_AUC : 0.8713\n",
      "ROS 30.0/70.0 :  Precision : 0.7853 | Recall : 0.2904 | F1 Score : 0.4231 | ROC_AUC : 0.8751\n",
      "ROS 40.0/60.0 :  Precision : 0.7757 | Recall : 0.3066 | F1 Score : 0.4384 | ROC_AUC : 0.8745\n",
      "ROS 50.0/50.0 :  Precision : 0.7445 | Recall : 0.3144 | F1 Score : 0.4411 | ROC_AUC : 0.8751\n"
     ]
    }
   ],
   "source": [
    "print('Random Oversampling :',end ='\\n')\n",
    "sampling_eval(model,'ros',5)"
   ]
  },
  {
   "cell_type": "markdown",
   "id": "FdN7xK859eQK",
   "metadata": {
    "id": "FdN7xK859eQK"
   },
   "source": [
    "###### ROS/RUS :"
   ]
  },
  {
   "cell_type": "code",
   "execution_count": 29,
   "id": "pJc4utqo9hiR",
   "metadata": {
    "colab": {
     "base_uri": "https://localhost:8080/"
    },
    "executionInfo": {
     "elapsed": 30661,
     "status": "ok",
     "timestamp": 1658477825444,
     "user": {
      "displayName": "LAHNA MOHAMED",
      "userId": "10685987801383146200"
     },
     "user_tz": -60
    },
    "id": "pJc4utqo9hiR",
    "outputId": "13ee3810-e71e-42ca-80ce-d5b20ec75ffe"
   },
   "outputs": [
    {
     "name": "stdout",
     "output_type": "stream",
     "text": [
      "Random Oversampling/Undersampling :\n",
      "ROS/RUS 20.0/80.0 :  Precision : 0.3853 | Recall : 0.6274 | F1 Score : 0.477 | ROC_AUC : 0.8637\n",
      "ROS/RUS 30.0/70.0 :  Precision : 0.4986 | Recall : 0.5054 | F1 Score : 0.5013 | ROC_AUC : 0.8703\n",
      "ROS/RUS 40.0/60.0 :  Precision : 0.6335 | Recall : 0.3984 | F1 Score : 0.488 | ROC_AUC : 0.8725\n",
      "ROS/RUS 50.0/50.0 :  Precision : 0.7509 | Recall : 0.3082 | F1 Score : 0.4358 | ROC_AUC : 0.8735\n"
     ]
    }
   ],
   "source": [
    "print('Random Oversampling/Undersampling :',end ='\\n')\n",
    "sampling_eval(model,'ros/rus',5)"
   ]
  },
  {
   "cell_type": "markdown",
   "id": "RarNe_W0_EJo",
   "metadata": {
    "id": "RarNe_W0_EJo"
   },
   "source": [
    "###### Class weights :"
   ]
  },
  {
   "cell_type": "code",
   "execution_count": 30,
   "id": "kuh-82hi0d2d",
   "metadata": {
    "colab": {
     "base_uri": "https://localhost:8080/"
    },
    "executionInfo": {
     "elapsed": 41847,
     "status": "ok",
     "timestamp": 1658477928539,
     "user": {
      "displayName": "LAHNA MOHAMED",
      "userId": "10685987801383146200"
     },
     "user_tz": -60
    },
    "id": "kuh-82hi0d2d",
    "outputId": "257ad34b-d618-42e5-8f30-83643e7c2576"
   },
   "outputs": [
    {
     "name": "stdout",
     "output_type": "stream",
     "text": [
      "Balanced weights :\n",
      "Precision : 0.8766 | Recall : 0.1717 | F1 Score : 0.2867 | ROC_AUC : 0.8721\n"
     ]
    }
   ],
   "source": [
    "#Balanced weights\n",
    "\n",
    "model = RandomForestClassifier(random_state=0,class_weight ='balanced')\n",
    "print('Balanced weights :',end='\\n')\n",
    "scores_base=Base_eval(model,X_train,y_train,5)\n",
    "get_scores(scores_base)"
   ]
  },
  {
   "cell_type": "code",
   "execution_count": 31,
   "id": "bESdE0Ep_mH8",
   "metadata": {
    "colab": {
     "base_uri": "https://localhost:8080/"
    },
    "executionInfo": {
     "elapsed": 38066,
     "status": "ok",
     "timestamp": 1658477974590,
     "user": {
      "displayName": "LAHNA MOHAMED",
      "userId": "10685987801383146200"
     },
     "user_tz": -60
    },
    "id": "bESdE0Ep_mH8",
    "outputId": "f201a85d-2095-4302-baef-0ce26deca7fb"
   },
   "outputs": [
    {
     "name": "stdout",
     "output_type": "stream",
     "text": [
      "Subsample Balanced weights :\n",
      "Precision : 0.8693 | Recall : 0.1707 | F1 Score : 0.2847 | ROC_AUC : 0.87\n"
     ]
    }
   ],
   "source": [
    "#Balanced weights\n",
    "\n",
    "model = RandomForestClassifier(random_state=0,class_weight ='balanced_subsample')\n",
    "print('Subsample Balanced weights :',end='\\n')\n",
    "scores_base=Base_eval(model,X_train,y_train,5)\n",
    "get_scores(scores_base)"
   ]
  },
  {
   "cell_type": "markdown",
   "id": "02d94f0b",
   "metadata": {},
   "source": [
    "Since we're intrested in detecting fraudulent practitioners (minority class), we based our evaluation on the __recall__ score; Random Under Sampling (50/50) gives the best performance with a score of __77.74 %__ ."
   ]
  },
  {
   "cell_type": "markdown",
   "id": "9CgUTE330miS",
   "metadata": {
    "id": "9CgUTE330miS"
   },
   "source": [
    "##### Grid search :"
   ]
  },
  {
   "cell_type": "code",
   "execution_count": 32,
   "id": "uZqLbM2c7fVK",
   "metadata": {
    "colab": {
     "base_uri": "https://localhost:8080/"
    },
    "executionInfo": {
     "elapsed": 865330,
     "status": "ok",
     "timestamp": 1658479672780,
     "user": {
      "displayName": "LAHNA MOHAMED",
      "userId": "10685987801383146200"
     },
     "user_tz": -60
    },
    "id": "uZqLbM2c7fVK",
    "outputId": "58fc4e33-1bee-4f59-a0aa-bd0e15a35722"
   },
   "outputs": [
    {
     "name": "stdout",
     "output_type": "stream",
     "text": [
      "Random forest :\n",
      "\n",
      "Random under sampling 50/50 : \n",
      "\n",
      "Fitting 5 folds for each of 324 candidates, totalling 1620 fits\n",
      "Grid serach time : 32.06984635591507 min\n"
     ]
    }
   ],
   "source": [
    "#Grid Search\n",
    "print('Random forest :\\n')\n",
    "model = RandomForestClassifier(random_state=0)\n",
    "# Create the parameter grid based on the results of random search \n",
    "grid = {\n",
    "    'model__bootstrap': [True],\n",
    "    'model__max_depth': [None,80,100],\n",
    "    'model__max_features': ['sqrt',2, 3],\n",
    "    'model__min_samples_leaf': [1,2,3],\n",
    "    'model__min_samples_split': [2,4,6],\n",
    "    'model__n_estimators': np.arange(100,251, 50)\n",
    "}\n",
    "\n",
    "print('Random under sampling 50/50 : ')\n",
    "print()\n",
    "\n",
    "rf_grid_rec=grid_search(model,grid,X_train,y_train,'rus',0.5,1,'recall')"
   ]
  },
  {
   "cell_type": "code",
   "execution_count": 33,
   "id": "af2ea8cb",
   "metadata": {},
   "outputs": [
    {
     "data": {
      "text/plain": [
       "0.8257"
      ]
     },
     "execution_count": 33,
     "metadata": {},
     "output_type": "execute_result"
    }
   ],
   "source": [
    "round(rf_grid_rec.best_score_,4)"
   ]
  },
  {
   "cell_type": "code",
   "execution_count": 34,
   "id": "6a942219",
   "metadata": {},
   "outputs": [
    {
     "name": "stdout",
     "output_type": "stream",
     "text": [
      "Best score : 0.8257\n",
      "Best params : {'model__bootstrap': True, 'model__max_depth': None, 'model__max_features': 3, 'model__min_samples_leaf': 1, 'model__min_samples_split': 4, 'model__n_estimators': 200}\n",
      "\n",
      "Grid searh (Recall) :\n",
      "Recall : 0.8594 | Precision :  0.273 | F1 Score : 0.4143 | ROC_AUC : 0.8028\n",
      "\n"
     ]
    }
   ],
   "source": [
    "#Performance\n",
    "pred_test_rf = rf_grid_rec.predict(X_test)\n",
    "print('Best score :', round(rf_grid_rec.best_score_,4))\n",
    "print('Best params :', rf_grid_rec.best_params_)\n",
    "print()\n",
    "print('Grid searh (Recall) :')\n",
    "print('Recall :',round(recall_score(y_test, pred_test_rf),4),end=' | ')   \n",
    "print(\"Precision : \",round(precision_score(y_test, pred_test_rf),4),end=' | ') \n",
    "print('F1 Score :',round(f1_score(y_test,pred_test_rf),4),end=' | ') \n",
    "print('ROC_AUC :',round(roc_auc_score(y_test, pred_test_rf),4)) \n",
    "print()"
   ]
  },
  {
   "cell_type": "code",
   "execution_count": 35,
   "id": "HCWONM2FZnz4",
   "metadata": {
    "colab": {
     "base_uri": "https://localhost:8080/",
     "height": 483
    },
    "executionInfo": {
     "elapsed": 596,
     "status": "ok",
     "timestamp": 1658482512918,
     "user": {
      "displayName": "LAHNA MOHAMED",
      "userId": "10685987801383146200"
     },
     "user_tz": -60
    },
    "id": "HCWONM2FZnz4",
    "outputId": "d0450430-658c-4a19-c568-ed08092bf912"
   },
   "outputs": [
    {
     "data": {
      "image/png": "[encoded data removed]",
      "text/plain": [
       "<Figure size 864x576 with 2 Axes>"
      ]
     },
     "metadata": {
      "needs_background": "light"
     },
     "output_type": "display_data"
    }
   ],
   "source": [
    "#Confusion matrix\n",
    "cm = confusion_matrix(y_test, pred_test_rf)\n",
    "plot_confusion(cm)"
   ]
  },
  {
   "cell_type": "code",
   "execution_count": 36,
   "id": "JldMvumwacb8",
   "metadata": {
    "colab": {
     "base_uri": "https://localhost:8080/"
    },
    "executionInfo": {
     "elapsed": 408,
     "status": "ok",
     "timestamp": 1658480710999,
     "user": {
      "displayName": "LAHNA MOHAMED",
      "userId": "10685987801383146200"
     },
     "user_tz": -60
    },
    "id": "JldMvumwacb8",
    "outputId": "03ffd188-7a03-4c75-8d96-146c415f0a12"
   },
   "outputs": [
    {
     "data": {
      "text/plain": [
       "['models/Random_forest.pkl']"
      ]
     },
     "execution_count": 36,
     "metadata": {},
     "output_type": "execute_result"
    }
   ],
   "source": [
    "#Save model :\n",
    "joblib.dump(rf_grid_rec, \"models/Random_forest.pkl\") "
   ]
  },
  {
   "cell_type": "code",
   "execution_count": null,
   "id": "b9c6f230",
   "metadata": {},
   "outputs": [],
   "source": []
  }
 ],
 "metadata": {
  "colab": {
   "collapsed_sections": [],
   "name": "4. Data Modeling (Supervised).ipynb",
   "provenance": [],
   "toc_visible": true
  },
  "kernelspec": {
   "display_name": "Python 3 (ipykernel)",
   "language": "python",
   "name": "python3"
  },
  "language_info": {
   "codemirror_mode": {
    "name": "ipython",
    "version": 3
   },
   "file_extension": ".py",
   "mimetype": "text/x-python",
   "name": "python",
   "nbconvert_exporter": "python",
   "pygments_lexer": "ipython3",
   "version": "3.9.12"
  },
  "nbTranslate": {
   "displayLangs": [
    "*"
   ],
   "hotkey": "alt-t",
   "langInMainMenu": true,
   "sourceLang": "en",
   "targetLang": "fr",
   "useGoogleTranslate": true
  }
 },
 "nbformat": 4,
 "nbformat_minor": 5
}
