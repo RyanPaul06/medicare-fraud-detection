{
 "cells": [
  {
   "cell_type": "markdown",
   "id": "b49a3975",
   "metadata": {},
   "source": [
    "# Health Insurance fraud detection using Medicare Providers dataset"
   ]
  },
  {
   "cell_type": "code",
   "execution_count": 1,
   "id": "cf3bcb4e",
   "metadata": {},
   "outputs": [],
   "source": [
    "import pandas as pd\n",
    "pd.set_option('display.max_columns', None)\n",
    "pd.set_option('display.float_format', lambda x: '%.3f' % x)\n",
    "import numpy as np\n",
    "import seaborn as sns\n",
    "import matplotlib.pyplot as plt\n",
    "import math\n",
    "import matplotlib\n",
    "import os\n",
    "%matplotlib inline\n",
    "from IPython.display import display, HTML\n",
    "from pathlib import Path"
   ]
  },
  {
   "cell_type": "code",
   "execution_count": 2,
   "id": "51af774e",
   "metadata": {},
   "outputs": [],
   "source": [
    "#Change directory to root\n",
    "path = Path(os.getcwd())\n",
    "root_dir = path.parent.absolute()\n",
    "os.chdir(str(root_dir))"
   ]
  },
  {
   "cell_type": "markdown",
   "id": "e69606fd",
   "metadata": {},
   "source": [
    "## 3. Exploratory data analysis (EDA)"
   ]
  },
  {
   "cell_type": "code",
   "execution_count": 3,
   "id": "e5621a3e",
   "metadata": {},
   "outputs": [],
   "source": [
    "df_cms = pd.read_csv('data\\processed\\Clean_CMS_Provider(2016_2019).csv')"
   ]
  },
  {
   "cell_type": "code",
   "execution_count": 4,
   "id": "cc097713",
   "metadata": {},
   "outputs": [
    {
     "data": {
      "text/html": [
       "<div>\n",
       "<style scoped>\n",
       "    .dataframe tbody tr th:only-of-type {\n",
       "        vertical-align: middle;\n",
       "    }\n",
       "\n",
       "    .dataframe tbody tr th {\n",
       "        vertical-align: top;\n",
       "    }\n",
       "\n",
       "    .dataframe thead th {\n",
       "        text-align: right;\n",
       "    }\n",
       "</style>\n",
       "<table border=\"1\" class=\"dataframe\">\n",
       "  <thead>\n",
       "    <tr style=\"text-align: right;\">\n",
       "      <th></th>\n",
       "      <th>Rndrng_NPI</th>\n",
       "      <th>Rndrng_Prvdr_Type</th>\n",
       "      <th>Rndrng_Prvdr_State_Abrvtn</th>\n",
       "      <th>Rndrng_Prvdr_Gndr</th>\n",
       "      <th>Tot_HCPCS_Cds</th>\n",
       "      <th>Bene_Male_Cnt</th>\n",
       "      <th>Bene_Avg_Age</th>\n",
       "      <th>Tot_Srvcs</th>\n",
       "      <th>Tot_Benes</th>\n",
       "      <th>Bene_Avg_Risk_Scre</th>\n",
       "      <th>Tot_Sbmtd_Chrg</th>\n",
       "      <th>Tot_Mdcr_Pymt_Amt</th>\n",
       "      <th>year</th>\n",
       "      <th>Fraud</th>\n",
       "    </tr>\n",
       "  </thead>\n",
       "  <tbody>\n",
       "    <tr>\n",
       "      <th>0</th>\n",
       "      <td>1003000126</td>\n",
       "      <td>Internal Medicine</td>\n",
       "      <td>MD</td>\n",
       "      <td>M</td>\n",
       "      <td>23</td>\n",
       "      <td>232.000</td>\n",
       "      <td>75</td>\n",
       "      <td>1477.000</td>\n",
       "      <td>518</td>\n",
       "      <td>2.024</td>\n",
       "      <td>746533.000</td>\n",
       "      <td>124795.990</td>\n",
       "      <td>2016</td>\n",
       "      <td>0</td>\n",
       "    </tr>\n",
       "    <tr>\n",
       "      <th>1</th>\n",
       "      <td>1003000126</td>\n",
       "      <td>Internal Medicine</td>\n",
       "      <td>MD</td>\n",
       "      <td>M</td>\n",
       "      <td>19</td>\n",
       "      <td>182.000</td>\n",
       "      <td>76</td>\n",
       "      <td>1218.000</td>\n",
       "      <td>445</td>\n",
       "      <td>2.295</td>\n",
       "      <td>692640.000</td>\n",
       "      <td>102505.730</td>\n",
       "      <td>2018</td>\n",
       "      <td>0</td>\n",
       "    </tr>\n",
       "    <tr>\n",
       "      <th>2</th>\n",
       "      <td>1003000126</td>\n",
       "      <td>Internal Medicine</td>\n",
       "      <td>MD</td>\n",
       "      <td>M</td>\n",
       "      <td>18</td>\n",
       "      <td>265.000</td>\n",
       "      <td>75</td>\n",
       "      <td>1392.000</td>\n",
       "      <td>610</td>\n",
       "      <td>2.592</td>\n",
       "      <td>519136.000</td>\n",
       "      <td>124877.670</td>\n",
       "      <td>2019</td>\n",
       "      <td>0</td>\n",
       "    </tr>\n",
       "    <tr>\n",
       "      <th>3</th>\n",
       "      <td>1003000126</td>\n",
       "      <td>Internal Medicine</td>\n",
       "      <td>MD</td>\n",
       "      <td>M</td>\n",
       "      <td>23</td>\n",
       "      <td>240.000</td>\n",
       "      <td>75</td>\n",
       "      <td>1670.000</td>\n",
       "      <td>578</td>\n",
       "      <td>2.118</td>\n",
       "      <td>800850.000</td>\n",
       "      <td>137084.550</td>\n",
       "      <td>2017</td>\n",
       "      <td>0</td>\n",
       "    </tr>\n",
       "    <tr>\n",
       "      <th>4</th>\n",
       "      <td>1003000134</td>\n",
       "      <td>Pathology</td>\n",
       "      <td>IL</td>\n",
       "      <td>M</td>\n",
       "      <td>21</td>\n",
       "      <td>1703.000</td>\n",
       "      <td>76</td>\n",
       "      <td>7329.000</td>\n",
       "      <td>3322</td>\n",
       "      <td>1.090</td>\n",
       "      <td>1143597.000</td>\n",
       "      <td>214070.990</td>\n",
       "      <td>2018</td>\n",
       "      <td>0</td>\n",
       "    </tr>\n",
       "  </tbody>\n",
       "</table>\n",
       "</div>"
      ],
      "text/plain": [
       "   Rndrng_NPI  Rndrng_Prvdr_Type Rndrng_Prvdr_State_Abrvtn Rndrng_Prvdr_Gndr  \\\n",
       "0  1003000126  Internal Medicine                        MD                 M   \n",
       "1  1003000126  Internal Medicine                        MD                 M   \n",
       "2  1003000126  Internal Medicine                        MD                 M   \n",
       "3  1003000126  Internal Medicine                        MD                 M   \n",
       "4  1003000134          Pathology                        IL                 M   \n",
       "\n",
       "   Tot_HCPCS_Cds  Bene_Male_Cnt  Bene_Avg_Age  Tot_Srvcs  Tot_Benes  \\\n",
       "0             23        232.000            75   1477.000        518   \n",
       "1             19        182.000            76   1218.000        445   \n",
       "2             18        265.000            75   1392.000        610   \n",
       "3             23        240.000            75   1670.000        578   \n",
       "4             21       1703.000            76   7329.000       3322   \n",
       "\n",
       "   Bene_Avg_Risk_Scre  Tot_Sbmtd_Chrg  Tot_Mdcr_Pymt_Amt  year  Fraud  \n",
       "0               2.024      746533.000         124795.990  2016      0  \n",
       "1               2.295      692640.000         102505.730  2018      0  \n",
       "2               2.592      519136.000         124877.670  2019      0  \n",
       "3               2.118      800850.000         137084.550  2017      0  \n",
       "4               1.090     1143597.000         214070.990  2018      0  "
      ]
     },
     "execution_count": 4,
     "metadata": {},
     "output_type": "execute_result"
    }
   ],
   "source": [
    "df_cms.head()"
   ]
  },
  {
   "cell_type": "code",
   "execution_count": 5,
   "id": "17cc2ed2",
   "metadata": {},
   "outputs": [
    {
     "data": {
      "text/plain": [
       "(4174813, 14)"
      ]
     },
     "execution_count": 5,
     "metadata": {},
     "output_type": "execute_result"
    }
   ],
   "source": [
    "df_cms.shape"
   ]
  },
  {
   "cell_type": "code",
   "execution_count": 6,
   "id": "ab6de3f3",
   "metadata": {},
   "outputs": [
    {
     "name": "stdout",
     "output_type": "stream",
     "text": [
      "<class 'pandas.core.frame.DataFrame'>\n",
      "RangeIndex: 4174813 entries, 0 to 4174812\n",
      "Data columns (total 14 columns):\n",
      " #   Column                     Dtype  \n",
      "---  ------                     -----  \n",
      " 0   Rndrng_NPI                 int64  \n",
      " 1   Rndrng_Prvdr_Type          object \n",
      " 2   Rndrng_Prvdr_State_Abrvtn  object \n",
      " 3   Rndrng_Prvdr_Gndr          object \n",
      " 4   Tot_HCPCS_Cds              int64  \n",
      " 5   Bene_Male_Cnt              float64\n",
      " 6   Bene_Avg_Age               int64  \n",
      " 7   Tot_Srvcs                  float64\n",
      " 8   Tot_Benes                  int64  \n",
      " 9   Bene_Avg_Risk_Scre         float64\n",
      " 10  Tot_Sbmtd_Chrg             float64\n",
      " 11  Tot_Mdcr_Pymt_Amt          float64\n",
      " 12  year                       int64  \n",
      " 13  Fraud                      int64  \n",
      "dtypes: float64(5), int64(6), object(3)\n",
      "memory usage: 445.9+ MB\n"
     ]
    }
   ],
   "source": [
    "df_cms.info()"
   ]
  },
  {
   "cell_type": "markdown",
   "id": "072e4d14",
   "metadata": {},
   "source": [
    "### Fraud rate"
   ]
  },
  {
   "cell_type": "code",
   "execution_count": 7,
   "id": "1dfb543b",
   "metadata": {},
   "outputs": [
    {
     "data": {
      "image/png": "[encoded data removed]",
      "text/plain": [
       "<Figure size 1440x720 with 2 Axes>"
      ]
     },
     "metadata": {
      "needs_background": "light"
     },
     "output_type": "display_data"
    }
   ],
   "source": [
    "plt.rcParams[\"figure.figsize\"] = (20,10)\n",
    "fig, axes = plt.subplots(nrows=1, ncols=2)\n",
    "\n",
    "ax7 = df_cms['Fraud'].value_counts().plot(\n",
    "kind = 'pie',autopct='%.2f%%',\n",
    "rot = 0 ,fontsize = \"22\" ,ax=axes[0])\n",
    "ax7.legend( labels=['Non_Fraud','Fraud'], loc='best')\n",
    "\n",
    "plt.suptitle('Fraud Rate \\n',horizontalalignment=\"center\", fontstyle = \"normal\", \n",
    "             fontsize = \"22\", fontfamily = \"sans-serif\")\n",
    "\n",
    "ax77=df_cms['Fraud'].value_counts(ascending=True).plot(kind='bar',ax=axes[1],fontsize=15,width=0.78)\n",
    "# ax9.set_title(label='Fraud By Gender',fontsize=15)\n",
    "for p in ax77.patches:                 \n",
    "    ax77.annotate(np.round(p.get_height(),decimals=2),(p.get_x()+p.get_width()/2., p.get_height()),ha='center', va='center',\n",
    "                fontsize=15)\n",
    "ax77.get_yaxis().set_major_formatter(matplotlib.ticker.FuncFormatter(lambda x, p: format(int(x), ',')))\n",
    "plt.show()"
   ]
  },
  {
   "cell_type": "markdown",
   "id": "20265e74",
   "metadata": {},
   "source": [
    "__The fraud rate (0.03%) does not reflect reality (10% worldwide), therefore it is necessary to select a sample of the negative class (population) to increase the fraud rate up to 10%.__"
   ]
  },
  {
   "cell_type": "markdown",
   "id": "74f4b2ff",
   "metadata": {},
   "source": [
    "### Negative class sampling :"
   ]
  },
  {
   "cell_type": "code",
   "execution_count": 8,
   "id": "8c898a9b",
   "metadata": {},
   "outputs": [],
   "source": [
    "#Split fraudulent and non-fraudulent providers :\n",
    "df_neg=df_cms[df_cms['Fraud']==0]\n",
    "df_pos=df_cms[df_cms['Fraud']==1]"
   ]
  },
  {
   "cell_type": "code",
   "execution_count": 9,
   "id": "1d18621c",
   "metadata": {},
   "outputs": [],
   "source": [
    "#Sample:\n",
    "sp=df_neg.sample(n=df_pos.shape[0]*9, random_state=1)"
   ]
  },
  {
   "cell_type": "markdown",
   "id": "e8b11465",
   "metadata": {},
   "source": [
    "__Statistical tests to check if sample is biased :__\n",
    "\n",
    "___H0 : The population and the sample have the same distribution.___\n",
    "\n",
    "__if pvalue(feature)> 0.05; H0 is retained and the sample is unbiased.__"
   ]
  },
  {
   "cell_type": "code",
   "execution_count": 10,
   "id": "518e33dc",
   "metadata": {},
   "outputs": [],
   "source": [
    "from scipy.stats import kstest\n",
    "from scipy.stats import chisquare"
   ]
  },
  {
   "cell_type": "markdown",
   "id": "15f3011e",
   "metadata": {},
   "source": [
    "__Numeric features :__"
   ]
  },
  {
   "cell_type": "code",
   "execution_count": 11,
   "id": "482e883d",
   "metadata": {},
   "outputs": [
    {
     "name": "stdout",
     "output_type": "stream",
     "text": [
      "Kolmogorov-Smirnov test for numerical features :\n",
      "\n",
      "pvalue(Tot_Benes) 0.8969096079768729\n",
      "pvalue(Tot_Srvcs) 0.9994320173000142\n",
      "pvalue(Tot_Sbmtd_Chrg) 0.5455136135071752\n",
      "pvalue(Tot_Mdcr_Pymt_Amt) 0.8863955786787648\n",
      "pvalue(Tot_HCPCS_Cds) 0.49345248556523635\n",
      "pvalue(Bene_Male_Cnt) 0.39165482073604296\n",
      "pvalue(Bene_Avg_Age) 0.991574514429479\n",
      "pvalue(Bene_Avg_Risk_Scre) 0.46466381128823364\n"
     ]
    }
   ],
   "source": [
    "print('Kolmogorov-Smirnov test for numerical features :\\n')\n",
    "num_feat=['Tot_Benes',\"Tot_Srvcs\",'Tot_Sbmtd_Chrg','Tot_Mdcr_Pymt_Amt','Tot_HCPCS_Cds','Bene_Male_Cnt','Bene_Avg_Age'\n",
    "         ,'Bene_Avg_Risk_Scre']\n",
    "for f in num_feat :\n",
    "    print('pvalue('+f+')',kstest(df_neg[f], sp[f]).pvalue)"
   ]
  },
  {
   "cell_type": "code",
   "execution_count": 12,
   "id": "92070cb2",
   "metadata": {
    "scrolled": true
   },
   "outputs": [
    {
     "name": "stdout",
     "output_type": "stream",
     "text": [
      "Population : \n"
     ]
    },
    {
     "data": {
      "text/html": [
       "<div>\n",
       "<style scoped>\n",
       "    .dataframe tbody tr th:only-of-type {\n",
       "        vertical-align: middle;\n",
       "    }\n",
       "\n",
       "    .dataframe tbody tr th {\n",
       "        vertical-align: top;\n",
       "    }\n",
       "\n",
       "    .dataframe thead th {\n",
       "        text-align: right;\n",
       "    }\n",
       "</style>\n",
       "<table border=\"1\" class=\"dataframe\">\n",
       "  <thead>\n",
       "    <tr style=\"text-align: right;\">\n",
       "      <th></th>\n",
       "      <th>Tot_Benes</th>\n",
       "      <th>Tot_Srvcs</th>\n",
       "      <th>Tot_Sbmtd_Chrg</th>\n",
       "      <th>Tot_Mdcr_Pymt_Amt</th>\n",
       "      <th>Tot_HCPCS_Cds</th>\n",
       "      <th>Bene_Male_Cnt</th>\n",
       "      <th>Bene_Avg_Age</th>\n",
       "      <th>Bene_Avg_Risk_Scre</th>\n",
       "    </tr>\n",
       "  </thead>\n",
       "  <tbody>\n",
       "    <tr>\n",
       "      <th>count</th>\n",
       "      <td>4173566.000</td>\n",
       "      <td>4173566.000</td>\n",
       "      <td>4173566.000</td>\n",
       "      <td>4173566.000</td>\n",
       "      <td>4173566.000</td>\n",
       "      <td>4173566.000</td>\n",
       "      <td>4173566.000</td>\n",
       "      <td>4173566.000</td>\n",
       "    </tr>\n",
       "    <tr>\n",
       "      <th>mean</th>\n",
       "      <td>325.437</td>\n",
       "      <td>2328.223</td>\n",
       "      <td>309185.221</td>\n",
       "      <td>80763.113</td>\n",
       "      <td>31.271</td>\n",
       "      <td>146.873</td>\n",
       "      <td>70.728</td>\n",
       "      <td>1.654</td>\n",
       "    </tr>\n",
       "    <tr>\n",
       "      <th>std</th>\n",
       "      <td>574.380</td>\n",
       "      <td>14472.584</td>\n",
       "      <td>762248.494</td>\n",
       "      <td>217910.724</td>\n",
       "      <td>32.807</td>\n",
       "      <td>245.938</td>\n",
       "      <td>5.986</td>\n",
       "      <td>0.809</td>\n",
       "    </tr>\n",
       "    <tr>\n",
       "      <th>min</th>\n",
       "      <td>11.000</td>\n",
       "      <td>11.000</td>\n",
       "      <td>0.400</td>\n",
       "      <td>0.000</td>\n",
       "      <td>1.000</td>\n",
       "      <td>0.000</td>\n",
       "      <td>6.000</td>\n",
       "      <td>0.328</td>\n",
       "    </tr>\n",
       "    <tr>\n",
       "      <th>25%</th>\n",
       "      <td>64.000</td>\n",
       "      <td>186.000</td>\n",
       "      <td>36360.000</td>\n",
       "      <td>10827.312</td>\n",
       "      <td>10.000</td>\n",
       "      <td>41.000</td>\n",
       "      <td>69.000</td>\n",
       "      <td>1.097</td>\n",
       "    </tr>\n",
       "    <tr>\n",
       "      <th>50%</th>\n",
       "      <td>168.000</td>\n",
       "      <td>535.000</td>\n",
       "      <td>120477.745</td>\n",
       "      <td>31513.765</td>\n",
       "      <td>20.000</td>\n",
       "      <td>82.000</td>\n",
       "      <td>72.000</td>\n",
       "      <td>1.433</td>\n",
       "    </tr>\n",
       "    <tr>\n",
       "      <th>75%</th>\n",
       "      <td>370.000</td>\n",
       "      <td>1548.000</td>\n",
       "      <td>323879.883</td>\n",
       "      <td>81599.477</td>\n",
       "      <td>42.000</td>\n",
       "      <td>158.000</td>\n",
       "      <td>74.000</td>\n",
       "      <td>2.009</td>\n",
       "    </tr>\n",
       "    <tr>\n",
       "      <th>max</th>\n",
       "      <td>153032.000</td>\n",
       "      <td>4653415.000</td>\n",
       "      <td>57638473.840</td>\n",
       "      <td>19769878.960</td>\n",
       "      <td>664.000</td>\n",
       "      <td>67657.000</td>\n",
       "      <td>95.000</td>\n",
       "      <td>14.464</td>\n",
       "    </tr>\n",
       "  </tbody>\n",
       "</table>\n",
       "</div>"
      ],
      "text/plain": [
       "        Tot_Benes   Tot_Srvcs  Tot_Sbmtd_Chrg  Tot_Mdcr_Pymt_Amt  \\\n",
       "count 4173566.000 4173566.000     4173566.000        4173566.000   \n",
       "mean      325.437    2328.223      309185.221          80763.113   \n",
       "std       574.380   14472.584      762248.494         217910.724   \n",
       "min        11.000      11.000           0.400              0.000   \n",
       "25%        64.000     186.000       36360.000          10827.312   \n",
       "50%       168.000     535.000      120477.745          31513.765   \n",
       "75%       370.000    1548.000      323879.883          81599.477   \n",
       "max    153032.000 4653415.000    57638473.840       19769878.960   \n",
       "\n",
       "       Tot_HCPCS_Cds  Bene_Male_Cnt  Bene_Avg_Age  Bene_Avg_Risk_Scre  \n",
       "count    4173566.000    4173566.000   4173566.000         4173566.000  \n",
       "mean          31.271        146.873        70.728               1.654  \n",
       "std           32.807        245.938         5.986               0.809  \n",
       "min            1.000          0.000         6.000               0.328  \n",
       "25%           10.000         41.000        69.000               1.097  \n",
       "50%           20.000         82.000        72.000               1.433  \n",
       "75%           42.000        158.000        74.000               2.009  \n",
       "max          664.000      67657.000        95.000              14.464  "
      ]
     },
     "metadata": {},
     "output_type": "display_data"
    },
    {
     "name": "stdout",
     "output_type": "stream",
     "text": [
      "Sample :\n"
     ]
    },
    {
     "data": {
      "text/html": [
       "<div>\n",
       "<style scoped>\n",
       "    .dataframe tbody tr th:only-of-type {\n",
       "        vertical-align: middle;\n",
       "    }\n",
       "\n",
       "    .dataframe tbody tr th {\n",
       "        vertical-align: top;\n",
       "    }\n",
       "\n",
       "    .dataframe thead th {\n",
       "        text-align: right;\n",
       "    }\n",
       "</style>\n",
       "<table border=\"1\" class=\"dataframe\">\n",
       "  <thead>\n",
       "    <tr style=\"text-align: right;\">\n",
       "      <th></th>\n",
       "      <th>Tot_Benes</th>\n",
       "      <th>Tot_Srvcs</th>\n",
       "      <th>Tot_Sbmtd_Chrg</th>\n",
       "      <th>Tot_Mdcr_Pymt_Amt</th>\n",
       "      <th>Tot_HCPCS_Cds</th>\n",
       "      <th>Bene_Male_Cnt</th>\n",
       "      <th>Bene_Avg_Age</th>\n",
       "      <th>Bene_Avg_Risk_Scre</th>\n",
       "    </tr>\n",
       "  </thead>\n",
       "  <tbody>\n",
       "    <tr>\n",
       "      <th>count</th>\n",
       "      <td>11223.000</td>\n",
       "      <td>11223.000</td>\n",
       "      <td>11223.000</td>\n",
       "      <td>11223.000</td>\n",
       "      <td>11223.000</td>\n",
       "      <td>11223.000</td>\n",
       "      <td>11223.000</td>\n",
       "      <td>11223.000</td>\n",
       "    </tr>\n",
       "    <tr>\n",
       "      <th>mean</th>\n",
       "      <td>330.700</td>\n",
       "      <td>2634.909</td>\n",
       "      <td>317618.740</td>\n",
       "      <td>82733.843</td>\n",
       "      <td>31.142</td>\n",
       "      <td>148.159</td>\n",
       "      <td>70.722</td>\n",
       "      <td>1.661</td>\n",
       "    </tr>\n",
       "    <tr>\n",
       "      <th>std</th>\n",
       "      <td>589.623</td>\n",
       "      <td>17205.678</td>\n",
       "      <td>903512.493</td>\n",
       "      <td>240539.585</td>\n",
       "      <td>33.090</td>\n",
       "      <td>259.121</td>\n",
       "      <td>6.054</td>\n",
       "      <td>0.819</td>\n",
       "    </tr>\n",
       "    <tr>\n",
       "      <th>min</th>\n",
       "      <td>11.000</td>\n",
       "      <td>11.000</td>\n",
       "      <td>195.420</td>\n",
       "      <td>34.190</td>\n",
       "      <td>1.000</td>\n",
       "      <td>0.000</td>\n",
       "      <td>13.000</td>\n",
       "      <td>0.391</td>\n",
       "    </tr>\n",
       "    <tr>\n",
       "      <th>25%</th>\n",
       "      <td>64.000</td>\n",
       "      <td>185.000</td>\n",
       "      <td>36491.500</td>\n",
       "      <td>10772.950</td>\n",
       "      <td>10.000</td>\n",
       "      <td>39.000</td>\n",
       "      <td>69.000</td>\n",
       "      <td>1.096</td>\n",
       "    </tr>\n",
       "    <tr>\n",
       "      <th>50%</th>\n",
       "      <td>169.000</td>\n",
       "      <td>531.000</td>\n",
       "      <td>122571.000</td>\n",
       "      <td>31748.760</td>\n",
       "      <td>20.000</td>\n",
       "      <td>82.000</td>\n",
       "      <td>72.000</td>\n",
       "      <td>1.441</td>\n",
       "    </tr>\n",
       "    <tr>\n",
       "      <th>75%</th>\n",
       "      <td>366.000</td>\n",
       "      <td>1555.500</td>\n",
       "      <td>319195.935</td>\n",
       "      <td>81273.395</td>\n",
       "      <td>41.000</td>\n",
       "      <td>154.000</td>\n",
       "      <td>74.000</td>\n",
       "      <td>2.028</td>\n",
       "    </tr>\n",
       "    <tr>\n",
       "      <th>max</th>\n",
       "      <td>20616.000</td>\n",
       "      <td>750525.000</td>\n",
       "      <td>43568221.540</td>\n",
       "      <td>8556096.630</td>\n",
       "      <td>290.000</td>\n",
       "      <td>11497.000</td>\n",
       "      <td>89.000</td>\n",
       "      <td>11.138</td>\n",
       "    </tr>\n",
       "  </tbody>\n",
       "</table>\n",
       "</div>"
      ],
      "text/plain": [
       "       Tot_Benes  Tot_Srvcs  Tot_Sbmtd_Chrg  Tot_Mdcr_Pymt_Amt  Tot_HCPCS_Cds  \\\n",
       "count  11223.000  11223.000       11223.000          11223.000      11223.000   \n",
       "mean     330.700   2634.909      317618.740          82733.843         31.142   \n",
       "std      589.623  17205.678      903512.493         240539.585         33.090   \n",
       "min       11.000     11.000         195.420             34.190          1.000   \n",
       "25%       64.000    185.000       36491.500          10772.950         10.000   \n",
       "50%      169.000    531.000      122571.000          31748.760         20.000   \n",
       "75%      366.000   1555.500      319195.935          81273.395         41.000   \n",
       "max    20616.000 750525.000    43568221.540        8556096.630        290.000   \n",
       "\n",
       "       Bene_Male_Cnt  Bene_Avg_Age  Bene_Avg_Risk_Scre  \n",
       "count      11223.000     11223.000           11223.000  \n",
       "mean         148.159        70.722               1.661  \n",
       "std          259.121         6.054               0.819  \n",
       "min            0.000        13.000               0.391  \n",
       "25%           39.000        69.000               1.096  \n",
       "50%           82.000        72.000               1.441  \n",
       "75%          154.000        74.000               2.028  \n",
       "max        11497.000        89.000              11.138  "
      ]
     },
     "metadata": {},
     "output_type": "display_data"
    }
   ],
   "source": [
    "print('Population : ')\n",
    "display(df_neg[num_feat].describe())\n",
    "print('Sample :')\n",
    "display(sp[num_feat].describe())\n",
    "#First table : population\n",
    "#Second table : sample"
   ]
  },
  {
   "cell_type": "markdown",
   "id": "e84cb5c5",
   "metadata": {},
   "source": [
    "__Variables catégorielles :__"
   ]
  },
  {
   "cell_type": "code",
   "execution_count": 13,
   "id": "155a4b13",
   "metadata": {},
   "outputs": [],
   "source": [
    "#speciality\n",
    "type_dict_sp=sp['Rndrng_Prvdr_Type'].value_counts().to_dict() #speciality from sample\n",
    "type_dict_pp=df_neg['Rndrng_Prvdr_Type'].value_counts().to_dict() #speciality from population\n",
    "type_pp=[] #frequency vector\n",
    "type_sp=[] #frequency vector\n",
    "\n",
    "#some \"specialities are not selected during sampling, their frequency is replaced by 0\"\n",
    "for key in type_dict_pp:\n",
    "    type_pp.append(type_dict_pp[key])\n",
    "    if(key in type_dict_sp):\n",
    "        type_sp.append(type_dict_sp[key])\n",
    "    else:\n",
    "        type_sp.append(0)"
   ]
  },
  {
   "cell_type": "code",
   "execution_count": 14,
   "id": "3cc17269",
   "metadata": {},
   "outputs": [],
   "source": [
    "#state\n",
    "state_dict_sp=sp['Rndrng_Prvdr_State_Abrvtn'].value_counts().to_dict()\n",
    "state_dict_pp=df_neg['Rndrng_Prvdr_State_Abrvtn'].value_counts().to_dict()\n",
    "state_pp=[]\n",
    "state_sp=[]\n",
    "for key in state_dict_pp:\n",
    "    state_pp.append(state_dict_pp[key])\n",
    "    if(key in state_dict_sp):\n",
    "        state_sp.append(state_dict_sp[key])\n",
    "    else:\n",
    "        state_sp.append(0)"
   ]
  },
  {
   "cell_type": "code",
   "execution_count": 15,
   "id": "a11f0fa0",
   "metadata": {
    "scrolled": true
   },
   "outputs": [
    {
     "name": "stdout",
     "output_type": "stream",
     "text": [
      "Chi-square test for categorical features :\n",
      "\n",
      "pvalue(year) 0.9999991515918233\n",
      "pvalue(Rndrng_Prvdr_Gndr) 0.9937300957534914\n",
      "pvalue(Rndrng_Prvdr_Type) 1.0\n",
      "pvalue(Rndrng_Prvdr_State_Abrvtn) 1.0\n"
     ]
    }
   ],
   "source": [
    "print('Chi-square test for categorical features :\\n')\n",
    "cat_feat=['year',\"Rndrng_Prvdr_Gndr\"]\n",
    "for f in cat_feat :\n",
    "    sp_cat=list(sp[f].value_counts())/np.sum(list(sp[f].value_counts()))\n",
    "    pop_cat=list(df_neg[f].value_counts()/np.sum(list(df_neg[f].value_counts())))\n",
    "    print('pvalue('+f+')',chisquare(sp_cat, pop_cat).pvalue)\n",
    "print('pvalue(Rndrng_Prvdr_Type)',chisquare(type_sp/np.sum(type_sp), type_pp/np.sum(type_pp)).pvalue)\n",
    "print('pvalue(Rndrng_Prvdr_State_Abrvtn)',chisquare(state_sp/np.sum(state_sp), state_pp/np.sum(state_pp)).pvalue)"
   ]
  },
  {
   "cell_type": "code",
   "execution_count": 16,
   "id": "7f5bd355",
   "metadata": {},
   "outputs": [
    {
     "data": {
      "image/png": "[encoded data removed]",
      "text/plain": [
       "<Figure size 1440x720 with 2 Axes>"
      ]
     },
     "metadata": {},
     "output_type": "display_data"
    }
   ],
   "source": [
    "plt.rcParams[\"figure.figsize\"] = (20,10)\n",
    "fig, axes = plt.subplots(nrows=1, ncols=2)\n",
    "\n",
    "ax5 = df_neg['Rndrng_Prvdr_Gndr'].value_counts().plot(\n",
    "kind = 'pie',autopct='%.2f%%',fontsize = \"22\" ,ax=axes[0],label='')\n",
    "ax5.legend( labels=['Male','Female'], loc='best')\n",
    "ax5.set_title(label='Gender (population)',fontsize=15)\n",
    "\n",
    "ax6 = sp['Rndrng_Prvdr_Gndr'].value_counts().plot(\n",
    "kind = 'pie',autopct='%.2f%%',fontsize = \"22\" ,ax=axes[1],label='')\n",
    "ax6.legend( labels=['Male','Female'], loc='best')\n",
    "ax6.set_title(label='Gender (sample)',fontsize=15)\n",
    "\n",
    "plt.show()"
   ]
  },
  {
   "cell_type": "code",
   "execution_count": 17,
   "id": "c9c81272",
   "metadata": {},
   "outputs": [
    {
     "data": {
      "image/png": "[encoded data removed]",
      "text/plain": [
       "<Figure size 1440x720 with 2 Axes>"
      ]
     },
     "metadata": {},
     "output_type": "display_data"
    }
   ],
   "source": [
    "plt.rcParams[\"figure.figsize\"] = (20,10)\n",
    "fig, axes = plt.subplots(nrows=1, ncols=2)\n",
    "\n",
    "ax5 = df_neg['year'].value_counts().plot(\n",
    "kind = 'pie',autopct='%.2f%%',fontsize = \"22\" ,ax=axes[0],label='')\n",
    "# ax5.legend( labels=['Male','Female'], loc='best')\n",
    "ax5.set_title(label='Years (population)',fontsize=15)\n",
    "\n",
    "ax6 = sp['year'].value_counts().plot(\n",
    "kind = 'pie',autopct='%.2f%%',fontsize = \"22\" ,ax=axes[1],label='')\n",
    "# ax6.legend( labels=['Male','Female'], loc='best')\n",
    "ax6.set_title(label='Years (sample)',fontsize=15)\n",
    "\n",
    "plt.show()"
   ]
  },
  {
   "cell_type": "code",
   "execution_count": 18,
   "id": "5e8acb66",
   "metadata": {},
   "outputs": [
    {
     "name": "stdout",
     "output_type": "stream",
     "text": [
      "Top 10 most common providers type (population):\n"
     ]
    },
    {
     "data": {
      "text/html": [
       "<div>\n",
       "<style scoped>\n",
       "    .dataframe tbody tr th:only-of-type {\n",
       "        vertical-align: middle;\n",
       "    }\n",
       "\n",
       "    .dataframe tbody tr th {\n",
       "        vertical-align: top;\n",
       "    }\n",
       "\n",
       "    .dataframe thead th {\n",
       "        text-align: right;\n",
       "    }\n",
       "</style>\n",
       "<table border=\"1\" class=\"dataframe\">\n",
       "  <thead>\n",
       "    <tr style=\"text-align: right;\">\n",
       "      <th></th>\n",
       "      <th>Rndrng_Prvdr_Type</th>\n",
       "    </tr>\n",
       "  </thead>\n",
       "  <tbody>\n",
       "    <tr>\n",
       "      <th>Nurse Practitioner</th>\n",
       "      <td>11.399</td>\n",
       "    </tr>\n",
       "    <tr>\n",
       "      <th>Internal Medicine</th>\n",
       "      <td>9.214</td>\n",
       "    </tr>\n",
       "    <tr>\n",
       "      <th>Family Practice</th>\n",
       "      <td>8.082</td>\n",
       "    </tr>\n",
       "    <tr>\n",
       "      <th>Physician Assistant</th>\n",
       "      <td>7.147</td>\n",
       "    </tr>\n",
       "    <tr>\n",
       "      <th>Physical Therapist in Private Practice</th>\n",
       "      <td>5.063</td>\n",
       "    </tr>\n",
       "    <tr>\n",
       "      <th>Certified Registered Nurse Anesthetist (CRNA)</th>\n",
       "      <td>4.235</td>\n",
       "    </tr>\n",
       "    <tr>\n",
       "      <th>Emergency Medicine</th>\n",
       "      <td>4.228</td>\n",
       "    </tr>\n",
       "    <tr>\n",
       "      <th>Anesthesiology</th>\n",
       "      <td>3.696</td>\n",
       "    </tr>\n",
       "    <tr>\n",
       "      <th>Chiropractic</th>\n",
       "      <td>3.396</td>\n",
       "    </tr>\n",
       "    <tr>\n",
       "      <th>Diagnostic Radiology</th>\n",
       "      <td>2.911</td>\n",
       "    </tr>\n",
       "  </tbody>\n",
       "</table>\n",
       "</div>"
      ],
      "text/plain": [
       "                                               Rndrng_Prvdr_Type\n",
       "Nurse Practitioner                                        11.399\n",
       "Internal Medicine                                          9.214\n",
       "Family Practice                                            8.082\n",
       "Physician Assistant                                        7.147\n",
       "Physical Therapist in Private Practice                     5.063\n",
       "Certified Registered Nurse Anesthetist (CRNA)              4.235\n",
       "Emergency Medicine                                         4.228\n",
       "Anesthesiology                                             3.696\n",
       "Chiropractic                                               3.396\n",
       "Diagnostic Radiology                                       2.911"
      ]
     },
     "metadata": {},
     "output_type": "display_data"
    },
    {
     "name": "stdout",
     "output_type": "stream",
     "text": [
      "Top 10 most common providers type (sample):\n"
     ]
    },
    {
     "data": {
      "text/html": [
       "<div>\n",
       "<style scoped>\n",
       "    .dataframe tbody tr th:only-of-type {\n",
       "        vertical-align: middle;\n",
       "    }\n",
       "\n",
       "    .dataframe tbody tr th {\n",
       "        vertical-align: top;\n",
       "    }\n",
       "\n",
       "    .dataframe thead th {\n",
       "        text-align: right;\n",
       "    }\n",
       "</style>\n",
       "<table border=\"1\" class=\"dataframe\">\n",
       "  <thead>\n",
       "    <tr style=\"text-align: right;\">\n",
       "      <th></th>\n",
       "      <th>Rndrng_Prvdr_Type</th>\n",
       "    </tr>\n",
       "  </thead>\n",
       "  <tbody>\n",
       "    <tr>\n",
       "      <th>Nurse Practitioner</th>\n",
       "      <td>11.138</td>\n",
       "    </tr>\n",
       "    <tr>\n",
       "      <th>Internal Medicine</th>\n",
       "      <td>9.391</td>\n",
       "    </tr>\n",
       "    <tr>\n",
       "      <th>Family Practice</th>\n",
       "      <td>7.511</td>\n",
       "    </tr>\n",
       "    <tr>\n",
       "      <th>Physician Assistant</th>\n",
       "      <td>7.342</td>\n",
       "    </tr>\n",
       "    <tr>\n",
       "      <th>Physical Therapist in Private Practice</th>\n",
       "      <td>5.025</td>\n",
       "    </tr>\n",
       "    <tr>\n",
       "      <th>Emergency Medicine</th>\n",
       "      <td>4.348</td>\n",
       "    </tr>\n",
       "    <tr>\n",
       "      <th>Certified Registered Nurse Anesthetist (CRNA)</th>\n",
       "      <td>4.170</td>\n",
       "    </tr>\n",
       "    <tr>\n",
       "      <th>Anesthesiology</th>\n",
       "      <td>3.787</td>\n",
       "    </tr>\n",
       "    <tr>\n",
       "      <th>Chiropractic</th>\n",
       "      <td>3.591</td>\n",
       "    </tr>\n",
       "    <tr>\n",
       "      <th>Diagnostic Radiology</th>\n",
       "      <td>3.021</td>\n",
       "    </tr>\n",
       "  </tbody>\n",
       "</table>\n",
       "</div>"
      ],
      "text/plain": [
       "                                               Rndrng_Prvdr_Type\n",
       "Nurse Practitioner                                        11.138\n",
       "Internal Medicine                                          9.391\n",
       "Family Practice                                            7.511\n",
       "Physician Assistant                                        7.342\n",
       "Physical Therapist in Private Practice                     5.025\n",
       "Emergency Medicine                                         4.348\n",
       "Certified Registered Nurse Anesthetist (CRNA)              4.170\n",
       "Anesthesiology                                             3.787\n",
       "Chiropractic                                               3.591\n",
       "Diagnostic Radiology                                       3.021"
      ]
     },
     "metadata": {},
     "output_type": "display_data"
    }
   ],
   "source": [
    "print('Top 10 most common providers type (population):')\n",
    "display((df_neg['Rndrng_Prvdr_Type'].value_counts()*100/df_neg.shape[0]).to_frame().head(10))\n",
    "print('Top 10 most common providers type (sample):')\n",
    "display((sp['Rndrng_Prvdr_Type'].value_counts().to_frame()*100/sp.shape[0]).head(10))"
   ]
  },
  {
   "cell_type": "code",
   "execution_count": 19,
   "id": "0e681057",
   "metadata": {},
   "outputs": [],
   "source": [
    "#Final Dataset ==> Concatenating sample with fraudulent providers\n",
    "df_final=pd.concat([sp,df_pos])"
   ]
  },
  {
   "cell_type": "code",
   "execution_count": 20,
   "id": "8cfca60b",
   "metadata": {},
   "outputs": [
    {
     "name": "stdout",
     "output_type": "stream",
     "text": [
      "the final dataset contains 12470 rows\n"
     ]
    }
   ],
   "source": [
    "print('the final dataset contains '+str(df_final.shape[0])+' rows')"
   ]
  },
  {
   "cell_type": "code",
   "execution_count": 21,
   "id": "74036704",
   "metadata": {},
   "outputs": [
    {
     "data": {
      "image/png": "[encoded data removed]",
      "text/plain": [
       "<Figure size 1440x720 with 2 Axes>"
      ]
     },
     "metadata": {
      "needs_background": "light"
     },
     "output_type": "display_data"
    }
   ],
   "source": [
    "plt.rcParams[\"figure.figsize\"] = (20,10)\n",
    "fig, axes = plt.subplots(nrows=1, ncols=2)\n",
    "\n",
    "ax7 = df_final['Fraud'].value_counts().plot(\n",
    "kind = 'pie',autopct='%.2f%%',\n",
    "rot = 0 ,fontsize = \"22\" ,ax=axes[0])\n",
    "ax7.legend( labels=['Non_Fraud','Fraud'], loc='best')\n",
    "\n",
    "plt.suptitle('Fraud Rate (Final data) \\n',horizontalalignment=\"center\", fontstyle = \"normal\", \n",
    "             fontsize = \"22\", fontfamily = \"sans-serif\")\n",
    "\n",
    "ax77=df_final['Fraud'].value_counts(ascending=True).plot(kind='bar',ax=axes[1],fontsize=15,width=0.78)\n",
    "# ax9.set_title(label='Fraud By Gender',fontsize=15)\n",
    "for p in ax77.patches:                 \n",
    "    ax77.annotate(np.round(p.get_height(),decimals=2),(p.get_x()+p.get_width()/2., p.get_height()),ha='center', va='center',\n",
    "                fontsize=15)\n",
    "ax77.get_yaxis().set_major_formatter(matplotlib.ticker.FuncFormatter(lambda x, p: format(int(x), ',')))\n",
    "plt.show()"
   ]
  },
  {
   "cell_type": "code",
   "execution_count": 22,
   "id": "3d1b5253",
   "metadata": {},
   "outputs": [],
   "source": [
    "#saving final dataframe as CSV\n",
    "df_final.to_csv(\"data\\processed\\Sampled_Medicare_Data.csv\",index=False) "
   ]
  },
  {
   "cell_type": "markdown",
   "id": "dd81a1a8",
   "metadata": {},
   "source": [
    "### 3.1. Univariate analysis"
   ]
  },
  {
   "cell_type": "markdown",
   "id": "d81292ce",
   "metadata": {},
   "source": [
    "#### 3.1.1 Numerical features"
   ]
  },
  {
   "cell_type": "code",
   "execution_count": 23,
   "id": "8c841981",
   "metadata": {},
   "outputs": [
    {
     "data": {
      "text/plain": [
       "['Tot_Benes',\n",
       " 'Tot_Srvcs',\n",
       " 'Tot_Sbmtd_Chrg',\n",
       " 'Tot_Mdcr_Pymt_Amt',\n",
       " 'Tot_HCPCS_Cds',\n",
       " 'Bene_Male_Cnt',\n",
       " 'Bene_Avg_Age',\n",
       " 'Bene_Avg_Risk_Scre']"
      ]
     },
     "execution_count": 23,
     "metadata": {},
     "output_type": "execute_result"
    }
   ],
   "source": [
    "num_feat"
   ]
  },
  {
   "cell_type": "code",
   "execution_count": 24,
   "id": "572568a3",
   "metadata": {},
   "outputs": [
    {
     "data": {
      "text/html": [
       "<div>\n",
       "<style scoped>\n",
       "    .dataframe tbody tr th:only-of-type {\n",
       "        vertical-align: middle;\n",
       "    }\n",
       "\n",
       "    .dataframe tbody tr th {\n",
       "        vertical-align: top;\n",
       "    }\n",
       "\n",
       "    .dataframe thead th {\n",
       "        text-align: right;\n",
       "    }\n",
       "</style>\n",
       "<table border=\"1\" class=\"dataframe\">\n",
       "  <thead>\n",
       "    <tr style=\"text-align: right;\">\n",
       "      <th></th>\n",
       "      <th>Tot_Benes</th>\n",
       "      <th>Tot_Srvcs</th>\n",
       "      <th>Tot_Sbmtd_Chrg</th>\n",
       "      <th>Tot_Mdcr_Pymt_Amt</th>\n",
       "      <th>Tot_HCPCS_Cds</th>\n",
       "      <th>Bene_Male_Cnt</th>\n",
       "      <th>Bene_Avg_Age</th>\n",
       "      <th>Bene_Avg_Risk_Scre</th>\n",
       "    </tr>\n",
       "  </thead>\n",
       "  <tbody>\n",
       "    <tr>\n",
       "      <th>count</th>\n",
       "      <td>12470.000</td>\n",
       "      <td>12470.000</td>\n",
       "      <td>12470.000</td>\n",
       "      <td>12470.000</td>\n",
       "      <td>12470.000</td>\n",
       "      <td>12470.000</td>\n",
       "      <td>12470.000</td>\n",
       "      <td>12470.000</td>\n",
       "    </tr>\n",
       "    <tr>\n",
       "      <th>mean</th>\n",
       "      <td>324.570</td>\n",
       "      <td>2686.296</td>\n",
       "      <td>325777.965</td>\n",
       "      <td>87036.529</td>\n",
       "      <td>30.872</td>\n",
       "      <td>146.067</td>\n",
       "      <td>70.486</td>\n",
       "      <td>1.658</td>\n",
       "    </tr>\n",
       "    <tr>\n",
       "      <th>std</th>\n",
       "      <td>570.652</td>\n",
       "      <td>16681.180</td>\n",
       "      <td>916770.661</td>\n",
       "      <td>244864.665</td>\n",
       "      <td>32.442</td>\n",
       "      <td>251.762</td>\n",
       "      <td>6.195</td>\n",
       "      <td>0.820</td>\n",
       "    </tr>\n",
       "    <tr>\n",
       "      <th>min</th>\n",
       "      <td>11.000</td>\n",
       "      <td>11.000</td>\n",
       "      <td>131.800</td>\n",
       "      <td>0.000</td>\n",
       "      <td>1.000</td>\n",
       "      <td>0.000</td>\n",
       "      <td>13.000</td>\n",
       "      <td>0.391</td>\n",
       "    </tr>\n",
       "    <tr>\n",
       "      <th>25%</th>\n",
       "      <td>64.000</td>\n",
       "      <td>191.000</td>\n",
       "      <td>36631.885</td>\n",
       "      <td>10995.017</td>\n",
       "      <td>10.000</td>\n",
       "      <td>39.000</td>\n",
       "      <td>69.000</td>\n",
       "      <td>1.100</td>\n",
       "    </tr>\n",
       "    <tr>\n",
       "      <th>50%</th>\n",
       "      <td>168.000</td>\n",
       "      <td>559.000</td>\n",
       "      <td>123006.000</td>\n",
       "      <td>32796.065</td>\n",
       "      <td>20.000</td>\n",
       "      <td>82.000</td>\n",
       "      <td>72.000</td>\n",
       "      <td>1.441</td>\n",
       "    </tr>\n",
       "    <tr>\n",
       "      <th>75%</th>\n",
       "      <td>362.750</td>\n",
       "      <td>1645.000</td>\n",
       "      <td>325702.125</td>\n",
       "      <td>85417.542</td>\n",
       "      <td>41.000</td>\n",
       "      <td>154.000</td>\n",
       "      <td>74.000</td>\n",
       "      <td>2.014</td>\n",
       "    </tr>\n",
       "    <tr>\n",
       "      <th>max</th>\n",
       "      <td>20616.000</td>\n",
       "      <td>750525.000</td>\n",
       "      <td>43568221.540</td>\n",
       "      <td>8556096.630</td>\n",
       "      <td>290.000</td>\n",
       "      <td>11497.000</td>\n",
       "      <td>89.000</td>\n",
       "      <td>11.138</td>\n",
       "    </tr>\n",
       "  </tbody>\n",
       "</table>\n",
       "</div>"
      ],
      "text/plain": [
       "       Tot_Benes  Tot_Srvcs  Tot_Sbmtd_Chrg  Tot_Mdcr_Pymt_Amt  Tot_HCPCS_Cds  \\\n",
       "count  12470.000  12470.000       12470.000          12470.000      12470.000   \n",
       "mean     324.570   2686.296      325777.965          87036.529         30.872   \n",
       "std      570.652  16681.180      916770.661         244864.665         32.442   \n",
       "min       11.000     11.000         131.800              0.000          1.000   \n",
       "25%       64.000    191.000       36631.885          10995.017         10.000   \n",
       "50%      168.000    559.000      123006.000          32796.065         20.000   \n",
       "75%      362.750   1645.000      325702.125          85417.542         41.000   \n",
       "max    20616.000 750525.000    43568221.540        8556096.630        290.000   \n",
       "\n",
       "       Bene_Male_Cnt  Bene_Avg_Age  Bene_Avg_Risk_Scre  \n",
       "count      12470.000     12470.000           12470.000  \n",
       "mean         146.067        70.486               1.658  \n",
       "std          251.762         6.195               0.820  \n",
       "min            0.000        13.000               0.391  \n",
       "25%           39.000        69.000               1.100  \n",
       "50%           82.000        72.000               1.441  \n",
       "75%          154.000        74.000               2.014  \n",
       "max        11497.000        89.000              11.138  "
      ]
     },
     "execution_count": 24,
     "metadata": {},
     "output_type": "execute_result"
    }
   ],
   "source": [
    "df_final[num_feat].describe()"
   ]
  },
  {
   "cell_type": "code",
   "execution_count": 25,
   "id": "d18f5657",
   "metadata": {},
   "outputs": [
    {
     "data": {
      "text/html": [
       "<div>\n",
       "<style scoped>\n",
       "    .dataframe tbody tr th:only-of-type {\n",
       "        vertical-align: middle;\n",
       "    }\n",
       "\n",
       "    .dataframe tbody tr th {\n",
       "        vertical-align: top;\n",
       "    }\n",
       "\n",
       "    .dataframe thead th {\n",
       "        text-align: right;\n",
       "    }\n",
       "</style>\n",
       "<table border=\"1\" class=\"dataframe\">\n",
       "  <thead>\n",
       "    <tr style=\"text-align: right;\">\n",
       "      <th></th>\n",
       "      <th>Tot_Benes</th>\n",
       "      <th>Tot_Srvcs</th>\n",
       "      <th>Tot_Sbmtd_Chrg</th>\n",
       "      <th>Tot_Mdcr_Pymt_Amt</th>\n",
       "      <th>Tot_HCPCS_Cds</th>\n",
       "      <th>Bene_Male_Cnt</th>\n",
       "      <th>Bene_Avg_Age</th>\n",
       "      <th>Bene_Avg_Risk_Scre</th>\n",
       "    </tr>\n",
       "  </thead>\n",
       "  <tbody>\n",
       "    <tr>\n",
       "      <th>0.050</th>\n",
       "      <td>18.000</td>\n",
       "      <td>41.000</td>\n",
       "      <td>6486.566</td>\n",
       "      <td>2078.668</td>\n",
       "      <td>2.000</td>\n",
       "      <td>13.000</td>\n",
       "      <td>58.000</td>\n",
       "      <td>0.829</td>\n",
       "    </tr>\n",
       "    <tr>\n",
       "      <th>0.250</th>\n",
       "      <td>64.000</td>\n",
       "      <td>191.000</td>\n",
       "      <td>36631.885</td>\n",
       "      <td>10995.017</td>\n",
       "      <td>10.000</td>\n",
       "      <td>39.000</td>\n",
       "      <td>69.000</td>\n",
       "      <td>1.100</td>\n",
       "    </tr>\n",
       "    <tr>\n",
       "      <th>0.500</th>\n",
       "      <td>168.000</td>\n",
       "      <td>559.000</td>\n",
       "      <td>123006.000</td>\n",
       "      <td>32796.065</td>\n",
       "      <td>20.000</td>\n",
       "      <td>82.000</td>\n",
       "      <td>72.000</td>\n",
       "      <td>1.441</td>\n",
       "    </tr>\n",
       "    <tr>\n",
       "      <th>0.750</th>\n",
       "      <td>362.750</td>\n",
       "      <td>1645.000</td>\n",
       "      <td>325702.125</td>\n",
       "      <td>85417.542</td>\n",
       "      <td>41.000</td>\n",
       "      <td>154.000</td>\n",
       "      <td>74.000</td>\n",
       "      <td>2.014</td>\n",
       "    </tr>\n",
       "    <tr>\n",
       "      <th>0.950</th>\n",
       "      <td>1103.550</td>\n",
       "      <td>7051.000</td>\n",
       "      <td>1121563.087</td>\n",
       "      <td>285603.178</td>\n",
       "      <td>92.000</td>\n",
       "      <td>490.000</td>\n",
       "      <td>78.000</td>\n",
       "      <td>3.086</td>\n",
       "    </tr>\n",
       "    <tr>\n",
       "      <th>0.990</th>\n",
       "      <td>2837.620</td>\n",
       "      <td>30561.910</td>\n",
       "      <td>2929443.210</td>\n",
       "      <td>879170.770</td>\n",
       "      <td>164.000</td>\n",
       "      <td>1201.000</td>\n",
       "      <td>82.000</td>\n",
       "      <td>4.425</td>\n",
       "    </tr>\n",
       "    <tr>\n",
       "      <th>1.000</th>\n",
       "      <td>20616.000</td>\n",
       "      <td>750525.000</td>\n",
       "      <td>43568221.540</td>\n",
       "      <td>8556096.630</td>\n",
       "      <td>290.000</td>\n",
       "      <td>11497.000</td>\n",
       "      <td>89.000</td>\n",
       "      <td>11.138</td>\n",
       "    </tr>\n",
       "  </tbody>\n",
       "</table>\n",
       "</div>"
      ],
      "text/plain": [
       "       Tot_Benes  Tot_Srvcs  Tot_Sbmtd_Chrg  Tot_Mdcr_Pymt_Amt  Tot_HCPCS_Cds  \\\n",
       "0.050     18.000     41.000        6486.566           2078.668          2.000   \n",
       "0.250     64.000    191.000       36631.885          10995.017         10.000   \n",
       "0.500    168.000    559.000      123006.000          32796.065         20.000   \n",
       "0.750    362.750   1645.000      325702.125          85417.542         41.000   \n",
       "0.950   1103.550   7051.000     1121563.087         285603.178         92.000   \n",
       "0.990   2837.620  30561.910     2929443.210         879170.770        164.000   \n",
       "1.000  20616.000 750525.000    43568221.540        8556096.630        290.000   \n",
       "\n",
       "       Bene_Male_Cnt  Bene_Avg_Age  Bene_Avg_Risk_Scre  \n",
       "0.050         13.000        58.000               0.829  \n",
       "0.250         39.000        69.000               1.100  \n",
       "0.500         82.000        72.000               1.441  \n",
       "0.750        154.000        74.000               2.014  \n",
       "0.950        490.000        78.000               3.086  \n",
       "0.990       1201.000        82.000               4.425  \n",
       "1.000      11497.000        89.000              11.138  "
      ]
     },
     "execution_count": 25,
     "metadata": {},
     "output_type": "execute_result"
    }
   ],
   "source": [
    "df_final[num_feat].quantile([0.05, 0.25, 0.5, 0.75, 0.95,0.99,1])"
   ]
  },
  {
   "cell_type": "markdown",
   "id": "fc57a59c",
   "metadata": {},
   "source": [
    "__OUTLIERS PRESENCE !!!!!__"
   ]
  },
  {
   "cell_type": "code",
   "execution_count": 26,
   "id": "d9ebf825",
   "metadata": {},
   "outputs": [
    {
     "name": "stderr",
     "output_type": "stream",
     "text": [
      "C:\\Users\\Mohamed\\AppData\\Local\\Temp\\ipykernel_7028\\3383125702.py:11: FutureWarning: Automatic reindexing on DataFrame vs Series comparisons is deprecated and will raise ValueError in a future version. Do `left, right = left.align(right, axis=1, copy=False)` before e.g. `left == right`\n",
      "  IQR_outliers = df_final[((df_final < (Q1 - 1.5 * IQR)) |(df_final > (Q3 + 1.5 * IQR))).any(axis=1)]\n"
     ]
    }
   ],
   "source": [
    "# calculate Q1 and Q3\n",
    "df_out=df_final[[f for f in df_cms.columns if f!='Rndrng_NPI' and f!='Fraud' and f!='year']]\n",
    "\n",
    "Q1 = df_out.quantile(0.25)\n",
    "Q3 = df_out.quantile(0.75)\n",
    "\n",
    "# calculate the IQR\n",
    "IQR = Q3 - Q1\n",
    "\n",
    "# filter the dataset with the IQR\n",
    "IQR_outliers = df_final[((df_final < (Q1 - 1.5 * IQR)) |(df_final > (Q3 + 1.5 * IQR))).any(axis=1)]"
   ]
  },
  {
   "cell_type": "code",
   "execution_count": 27,
   "id": "d781b0cb",
   "metadata": {},
   "outputs": [
    {
     "name": "stderr",
     "output_type": "stream",
     "text": [
      "C:\\Users\\Mohamed\\AppData\\Local\\Temp\\ipykernel_7028\\3926277016.py:2: FutureWarning: Automatic reindexing on DataFrame vs Series comparisons is deprecated and will raise ValueError in a future version. Do `left, right = left.align(right, axis=1, copy=False)` before e.g. `left == right`\n",
      "  df_cms_clean=df_final[~(df_final > (Q3 + 1.5 * IQR)).any(axis=1)]\n"
     ]
    }
   ],
   "source": [
    "#Remove all outliers\n",
    "df_cms_clean=df_final[~(df_final > (Q3 + 1.5 * IQR)).any(axis=1)] "
   ]
  },
  {
   "cell_type": "code",
   "execution_count": 28,
   "id": "3841cb18",
   "metadata": {},
   "outputs": [
    {
     "name": "stdout",
     "output_type": "stream",
     "text": [
      "There are 3824 outliers prensents in the dataset\n",
      "Outliers percentage :30.665597433841217%\n"
     ]
    }
   ],
   "source": [
    "print('There are '+str(IQR_outliers.shape[0])+' outliers prensents in the dataset')\n",
    "print('Outliers percentage :'+str( IQR_outliers.shape[0]*100/df_final.shape[0]) +'%')"
   ]
  },
  {
   "cell_type": "code",
   "execution_count": 29,
   "id": "d2620d46",
   "metadata": {},
   "outputs": [
    {
     "name": "stderr",
     "output_type": "stream",
     "text": [
      "C:\\Users\\Mohamed\\AppData\\Local\\Temp\\ipykernel_7028\\2620083206.py:11: UserWarning: Boolean Series key will be reindexed to match DataFrame index.\n",
      "  IQR_outliers = df_final[((df_final[f] < (q1 - 1.5 * iqr)) |(df_cms[f] > (q3 + 1.5 * iqr)))]\n"
     ]
    }
   ],
   "source": [
    "outliers=dict()\n",
    "for f in num_feat:\n",
    "    df_out=df_cms[f]\n",
    "    q1 = df_out.quantile(0.25)\n",
    "    q3 = df_out.quantile(0.75)\n",
    "\n",
    "    # calculate the IQR\n",
    "    iqr = q3 - q1\n",
    "\n",
    "    # filter the dataset with the IQR\n",
    "    IQR_outliers = df_final[((df_final[f] < (q1 - 1.5 * iqr)) |(df_cms[f] > (q3 + 1.5 * iqr)))]\n",
    "    outliers[f]=IQR_outliers.shape[0]"
   ]
  },
  {
   "cell_type": "code",
   "execution_count": 30,
   "id": "7701c40c",
   "metadata": {},
   "outputs": [
    {
     "data": {
      "text/html": [
       "<div>\n",
       "<style scoped>\n",
       "    .dataframe tbody tr th:only-of-type {\n",
       "        vertical-align: middle;\n",
       "    }\n",
       "\n",
       "    .dataframe tbody tr th {\n",
       "        vertical-align: top;\n",
       "    }\n",
       "\n",
       "    .dataframe thead th {\n",
       "        text-align: right;\n",
       "    }\n",
       "</style>\n",
       "<table border=\"1\" class=\"dataframe\">\n",
       "  <thead>\n",
       "    <tr style=\"text-align: right;\">\n",
       "      <th></th>\n",
       "      <th>Outliers</th>\n",
       "      <th>Percentage</th>\n",
       "    </tr>\n",
       "  </thead>\n",
       "  <tbody>\n",
       "    <tr>\n",
       "      <th>Tot_Srvcs</th>\n",
       "      <td>1474</td>\n",
       "      <td>11.820</td>\n",
       "    </tr>\n",
       "    <tr>\n",
       "      <th>Tot_Sbmtd_Chrg</th>\n",
       "      <td>1207</td>\n",
       "      <td>9.679</td>\n",
       "    </tr>\n",
       "    <tr>\n",
       "      <th>Tot_Mdcr_Pymt_Amt</th>\n",
       "      <td>1201</td>\n",
       "      <td>9.631</td>\n",
       "    </tr>\n",
       "    <tr>\n",
       "      <th>Bene_Avg_Age</th>\n",
       "      <td>1131</td>\n",
       "      <td>9.070</td>\n",
       "    </tr>\n",
       "    <tr>\n",
       "      <th>Bene_Male_Cnt</th>\n",
       "      <td>1083</td>\n",
       "      <td>8.685</td>\n",
       "    </tr>\n",
       "    <tr>\n",
       "      <th>Tot_Benes</th>\n",
       "      <td>953</td>\n",
       "      <td>7.642</td>\n",
       "    </tr>\n",
       "    <tr>\n",
       "      <th>Tot_HCPCS_Cds</th>\n",
       "      <td>655</td>\n",
       "      <td>5.253</td>\n",
       "    </tr>\n",
       "    <tr>\n",
       "      <th>Bene_Avg_Risk_Scre</th>\n",
       "      <td>393</td>\n",
       "      <td>3.152</td>\n",
       "    </tr>\n",
       "  </tbody>\n",
       "</table>\n",
       "</div>"
      ],
      "text/plain": [
       "                    Outliers  Percentage\n",
       "Tot_Srvcs               1474      11.820\n",
       "Tot_Sbmtd_Chrg          1207       9.679\n",
       "Tot_Mdcr_Pymt_Amt       1201       9.631\n",
       "Bene_Avg_Age            1131       9.070\n",
       "Bene_Male_Cnt           1083       8.685\n",
       "Tot_Benes                953       7.642\n",
       "Tot_HCPCS_Cds            655       5.253\n",
       "Bene_Avg_Risk_Scre       393       3.152"
      ]
     },
     "execution_count": 30,
     "metadata": {},
     "output_type": "execute_result"
    }
   ],
   "source": [
    "df_outl=pd.DataFrame.from_dict(outliers,orient='index',columns=['Outliers'])\n",
    "df_outl['Percentage']=df_outl['Outliers']/df_final.shape[0]*100\n",
    "df_outl.sort_values(by=['Percentage'],ascending=False)"
   ]
  },
  {
   "cell_type": "code",
   "execution_count": 31,
   "id": "68192aa7",
   "metadata": {},
   "outputs": [
    {
     "data": {
      "image/png": "[encoded data removed]",
      "text/plain": [
       "<Figure size 1080x1080 with 8 Axes>"
      ]
     },
     "metadata": {
      "needs_background": "light"
     },
     "output_type": "display_data"
    }
   ],
   "source": [
    "#BOX PLOTS\n",
    "\n",
    "plt.rcParams[\"figure.figsize\"] = (15,15)\n",
    "fig, axes = plt.subplots(nrows=4, ncols=2)\n",
    "plt.suptitle('Box Plots',horizontalalignment=\"center\", fontstyle = \"normal\", \n",
    "             fontsize = \"18\", fontfamily = \"sans-serif\")\n",
    "\n",
    "ax= sns.boxplot(x=df_final[\"Tot_Benes\"],ax=axes[0,0])\n",
    "ax2=sns.boxplot(x=df_final[\"Tot_Srvcs\"],ax=axes[0,1])\n",
    "\n",
    "ax.get_yaxis().set_major_formatter(matplotlib.ticker.FuncFormatter(lambda x, p: format(int(x), ',')))\n",
    "ax2.get_yaxis().set_major_formatter(matplotlib.ticker.FuncFormatter(lambda x, p: format(int(x), ',')))\n",
    "\n",
    "\n",
    "ax33= sns.boxplot(x=df_final[\"Tot_Sbmtd_Chrg\"],ax=axes[1,0])\n",
    "ax32=sns.boxplot(x=df_final[\"Tot_Mdcr_Pymt_Amt\"],ax=axes[1,1])\n",
    "\n",
    "ax33.get_yaxis().set_major_formatter(matplotlib.ticker.FuncFormatter(lambda x, p: format(int(x), ',')))\n",
    "ax32.get_yaxis().set_major_formatter(matplotlib.ticker.FuncFormatter(lambda x, p: format(int(x), ',')))\n",
    "\n",
    "ax33= sns.boxplot(x=df_final[\"Tot_HCPCS_Cds\"],ax=axes[2,0])\n",
    "ax32=sns.boxplot(x=df_final[\"Bene_Male_Cnt\"],ax=axes[2,1])\n",
    "\n",
    "ax33.get_yaxis().set_major_formatter(matplotlib.ticker.FuncFormatter(lambda x, p: format(int(x), ',')))\n",
    "ax32.get_yaxis().set_major_formatter(matplotlib.ticker.FuncFormatter(lambda x, p: format(int(x), ',')))\n",
    "\n",
    "ax33= sns.boxplot(x=df_final[\"Bene_Avg_Risk_Scre\"],ax=axes[3,0])\n",
    "ax32=sns.boxplot(x=df_final[\"Bene_Avg_Age\"],ax=axes[3,1])\n",
    "\n",
    "ax33.get_yaxis().set_major_formatter(matplotlib.ticker.FuncFormatter(lambda x, p: format(int(x), ',')))\n",
    "ax32.get_yaxis().set_major_formatter(matplotlib.ticker.FuncFormatter(lambda x, p: format(int(x), ',')))"
   ]
  },
  {
   "cell_type": "code",
   "execution_count": 32,
   "id": "77aadccf",
   "metadata": {},
   "outputs": [
    {
     "name": "stdout",
     "output_type": "stream",
     "text": [
      "Number of bins using sturge's rule : 15.0\n"
     ]
    }
   ],
   "source": [
    "nb_bins = 1+np.ceil(np.log2(df_final.shape[0]))\n",
    "print(\"Number of bins using sturge's rule :\",nb_bins) \n",
    "nb_bins=int(nb_bins)"
   ]
  },
  {
   "cell_type": "code",
   "execution_count": 33,
   "id": "dd2a28bc",
   "metadata": {},
   "outputs": [
    {
     "data": {
      "image/png": "[encoded data removed]",
      "text/plain": [
       "<Figure size 1296x720 with 2 Axes>"
      ]
     },
     "metadata": {
      "needs_background": "light"
     },
     "output_type": "display_data"
    }
   ],
   "source": [
    "#outliers effect\n",
    "plt.rcParams[\"figure.figsize\"] = (18,10)\n",
    "fig, axes = plt.subplots(nrows=1, ncols=2)\n",
    "\n",
    "plt.suptitle('Outliers Effects\\n',horizontalalignment=\"center\", fontstyle = \"normal\", \n",
    "             fontsize = \"22\", fontfamily = \"sans-serif\")\n",
    "\n",
    "ax=df_final['Tot_Benes'].plot(kind='hist', title='Total beneficiaries (full data)',bins=nb_bins, ax=axes[0],\n",
    "                              edgecolor='black',linewidth=1.2)\n",
    "\n",
    "ax2=df_final['Tot_Benes'].plot(kind='hist', title='Total beneficiaries (95% of the data)',bins=nb_bins,range=[0,1103.55] ,\n",
    "                               ax=axes[1],edgecolor='black' ,linewidth=1.2)\n",
    "\n",
    "\n",
    "\n",
    "plt.show()"
   ]
  },
  {
   "cell_type": "code",
   "execution_count": 34,
   "id": "1f50307c",
   "metadata": {},
   "outputs": [
    {
     "data": {
      "text/html": [
       "<div>\n",
       "<style scoped>\n",
       "    .dataframe tbody tr th:only-of-type {\n",
       "        vertical-align: middle;\n",
       "    }\n",
       "\n",
       "    .dataframe tbody tr th {\n",
       "        vertical-align: top;\n",
       "    }\n",
       "\n",
       "    .dataframe thead th {\n",
       "        text-align: right;\n",
       "    }\n",
       "</style>\n",
       "<table border=\"1\" class=\"dataframe\">\n",
       "  <thead>\n",
       "    <tr style=\"text-align: right;\">\n",
       "      <th></th>\n",
       "      <th>Tot_Benes</th>\n",
       "      <th>Tot_Srvcs</th>\n",
       "      <th>Tot_Sbmtd_Chrg</th>\n",
       "      <th>Tot_Mdcr_Pymt_Amt</th>\n",
       "      <th>Tot_HCPCS_Cds</th>\n",
       "      <th>Bene_Male_Cnt</th>\n",
       "      <th>Bene_Avg_Age</th>\n",
       "      <th>Bene_Avg_Risk_Scre</th>\n",
       "    </tr>\n",
       "  </thead>\n",
       "  <tbody>\n",
       "    <tr>\n",
       "      <th>0.050</th>\n",
       "      <td>18.000</td>\n",
       "      <td>41.000</td>\n",
       "      <td>6486.566</td>\n",
       "      <td>2078.668</td>\n",
       "      <td>2.000</td>\n",
       "      <td>13.000</td>\n",
       "      <td>58.000</td>\n",
       "      <td>0.829</td>\n",
       "    </tr>\n",
       "    <tr>\n",
       "      <th>0.250</th>\n",
       "      <td>64.000</td>\n",
       "      <td>191.000</td>\n",
       "      <td>36631.885</td>\n",
       "      <td>10995.017</td>\n",
       "      <td>10.000</td>\n",
       "      <td>39.000</td>\n",
       "      <td>69.000</td>\n",
       "      <td>1.100</td>\n",
       "    </tr>\n",
       "    <tr>\n",
       "      <th>0.500</th>\n",
       "      <td>168.000</td>\n",
       "      <td>559.000</td>\n",
       "      <td>123006.000</td>\n",
       "      <td>32796.065</td>\n",
       "      <td>20.000</td>\n",
       "      <td>82.000</td>\n",
       "      <td>72.000</td>\n",
       "      <td>1.441</td>\n",
       "    </tr>\n",
       "    <tr>\n",
       "      <th>0.750</th>\n",
       "      <td>362.750</td>\n",
       "      <td>1645.000</td>\n",
       "      <td>325702.125</td>\n",
       "      <td>85417.542</td>\n",
       "      <td>41.000</td>\n",
       "      <td>154.000</td>\n",
       "      <td>74.000</td>\n",
       "      <td>2.014</td>\n",
       "    </tr>\n",
       "    <tr>\n",
       "      <th>0.950</th>\n",
       "      <td>1103.550</td>\n",
       "      <td>7051.000</td>\n",
       "      <td>1121563.087</td>\n",
       "      <td>285603.178</td>\n",
       "      <td>92.000</td>\n",
       "      <td>490.000</td>\n",
       "      <td>78.000</td>\n",
       "      <td>3.086</td>\n",
       "    </tr>\n",
       "    <tr>\n",
       "      <th>0.990</th>\n",
       "      <td>2837.620</td>\n",
       "      <td>30561.910</td>\n",
       "      <td>2929443.210</td>\n",
       "      <td>879170.770</td>\n",
       "      <td>164.000</td>\n",
       "      <td>1201.000</td>\n",
       "      <td>82.000</td>\n",
       "      <td>4.425</td>\n",
       "    </tr>\n",
       "    <tr>\n",
       "      <th>1.000</th>\n",
       "      <td>20616.000</td>\n",
       "      <td>750525.000</td>\n",
       "      <td>43568221.540</td>\n",
       "      <td>8556096.630</td>\n",
       "      <td>290.000</td>\n",
       "      <td>11497.000</td>\n",
       "      <td>89.000</td>\n",
       "      <td>11.138</td>\n",
       "    </tr>\n",
       "  </tbody>\n",
       "</table>\n",
       "</div>"
      ],
      "text/plain": [
       "       Tot_Benes  Tot_Srvcs  Tot_Sbmtd_Chrg  Tot_Mdcr_Pymt_Amt  Tot_HCPCS_Cds  \\\n",
       "0.050     18.000     41.000        6486.566           2078.668          2.000   \n",
       "0.250     64.000    191.000       36631.885          10995.017         10.000   \n",
       "0.500    168.000    559.000      123006.000          32796.065         20.000   \n",
       "0.750    362.750   1645.000      325702.125          85417.542         41.000   \n",
       "0.950   1103.550   7051.000     1121563.087         285603.178         92.000   \n",
       "0.990   2837.620  30561.910     2929443.210         879170.770        164.000   \n",
       "1.000  20616.000 750525.000    43568221.540        8556096.630        290.000   \n",
       "\n",
       "       Bene_Male_Cnt  Bene_Avg_Age  Bene_Avg_Risk_Scre  \n",
       "0.050         13.000        58.000               0.829  \n",
       "0.250         39.000        69.000               1.100  \n",
       "0.500         82.000        72.000               1.441  \n",
       "0.750        154.000        74.000               2.014  \n",
       "0.950        490.000        78.000               3.086  \n",
       "0.990       1201.000        82.000               4.425  \n",
       "1.000      11497.000        89.000              11.138  "
      ]
     },
     "execution_count": 34,
     "metadata": {},
     "output_type": "execute_result"
    }
   ],
   "source": [
    "df_final[num_feat].quantile([0.05, 0.25, 0.5, 0.75, 0.95,0.99,1])"
   ]
  },
  {
   "cell_type": "code",
   "execution_count": 35,
   "id": "0646ba97",
   "metadata": {},
   "outputs": [
    {
     "data": {
      "image/png": "[encoded data removed]",
      "text/plain": [
       "<Figure size 1296x1296 with 8 Axes>"
      ]
     },
     "metadata": {
      "needs_background": "light"
     },
     "output_type": "display_data"
    }
   ],
   "source": [
    "#histograms using 95% of the data\n",
    "\n",
    "plt.rcParams[\"figure.figsize\"] = (18,18)\n",
    "fig, axes = plt.subplots(nrows=4, ncols=2)\n",
    "plt.suptitle('Numerical features histograms',horizontalalignment=\"center\", fontstyle = \"normal\", \n",
    "             fontsize = \"18\", fontfamily = \"sans-serif\")\n",
    "\n",
    "ax=df_final['Tot_Srvcs'].plot(kind='hist', title='Total services',bins=nb_bins, ax=axes[0,0],edgecolor='black',\n",
    "                            range=[0,7051],linewidth=1.2)\n",
    "\n",
    "ax2=df_final['Tot_Benes'].plot(kind='hist', title='Total beneficiaries ',bins=nb_bins,range=[0,1103.55] ,\n",
    "                               ax=axes[0,1],edgecolor='black' ,linewidth=1.2)\n",
    "\n",
    "ax.get_yaxis().set_major_formatter(matplotlib.ticker.FuncFormatter(lambda x, p: format(int(x), ',')))\n",
    "ax2.get_yaxis().set_major_formatter(matplotlib.ticker.FuncFormatter(lambda x, p: format(int(x), ',')))\n",
    "\n",
    "ax=df_final['Tot_Sbmtd_Chrg'].plot(kind='hist', title='Total submitted charges',bins=nb_bins, ax=axes[1,0],edgecolor='black',\n",
    "                            range=[0,1121563.087],linewidth=1.2)\n",
    "\n",
    "ax2=df_final['Tot_Mdcr_Pymt_Amt'].plot(kind='hist', title='Total payed by Medicare ',bins=nb_bins,range=[0,285603.178] ,\n",
    "                               ax=axes[1,1],edgecolor='black' ,linewidth=1.2)\n",
    "\n",
    "ax33.get_yaxis().set_major_formatter(matplotlib.ticker.FuncFormatter(lambda x, p: format(int(x), ',')))\n",
    "ax32.get_yaxis().set_major_formatter(matplotlib.ticker.FuncFormatter(lambda x, p: format(int(x), ',')))\n",
    "\n",
    "ax=df_final['Tot_HCPCS_Cds'].plot(kind='hist', title='Total HCPCS',bins=nb_bins, ax=axes[2,0],edgecolor='black',\n",
    "                            range=[0,92],linewidth=1.2)\n",
    "\n",
    "ax2=df_final['Bene_Male_Cnt'].plot(kind='hist', title='Total Male count ',bins=nb_bins,range=[0,490.000] ,\n",
    "                               ax=axes[2,1],edgecolor='black' ,linewidth=1.2)\n",
    "\n",
    "ax33.get_yaxis().set_major_formatter(matplotlib.ticker.FuncFormatter(lambda x, p: format(int(x), ',')))\n",
    "ax32.get_yaxis().set_major_formatter(matplotlib.ticker.FuncFormatter(lambda x, p: format(int(x), ',')))\n",
    "\n",
    "ax=df_final['Bene_Avg_Age'].plot(kind='hist', title='Average age',bins=nb_bins, ax=axes[3,1],edgecolor='black',\n",
    "                            linewidth=1.2)\n",
    "\n",
    "ax2=df_final['Bene_Avg_Risk_Scre'].plot(kind='hist', title='Average risk score',bins=nb_bins ,\n",
    "                               ax=axes[3,0],edgecolor='black' ,range=[0,3.5],linewidth=1.2)\n",
    "\n",
    "ax33.get_yaxis().set_major_formatter(matplotlib.ticker.FuncFormatter(lambda x, p: format(int(x), ',')))\n",
    "ax32.get_yaxis().set_major_formatter(matplotlib.ticker.FuncFormatter(lambda x, p: format(int(x), ',')))"
   ]
  },
  {
   "cell_type": "markdown",
   "id": "b417c476",
   "metadata": {},
   "source": [
    "#### 3.1.2 Categorical feautres"
   ]
  },
  {
   "cell_type": "code",
   "execution_count": 36,
   "id": "e5836605",
   "metadata": {},
   "outputs": [
    {
     "data": {
      "text/plain": [
       "['Rndrng_Prvdr_Type',\n",
       " 'Rndrng_Prvdr_State_Abrvtn',\n",
       " 'Rndrng_Prvdr_Gndr',\n",
       " 'year',\n",
       " 'Fraud']"
      ]
     },
     "execution_count": 36,
     "metadata": {},
     "output_type": "execute_result"
    }
   ],
   "source": [
    "cat_feat=[f for f in df_final.columns if f not in num_feat and f != 'Rndrng_NPI' ]\n",
    "cat_feat"
   ]
  },
  {
   "cell_type": "code",
   "execution_count": 37,
   "id": "d9bb01e9",
   "metadata": {},
   "outputs": [
    {
     "data": {
      "image/png": "[encoded data removed]",
      "text/plain": [
       "<Figure size 1440x720 with 1 Axes>"
      ]
     },
     "metadata": {},
     "output_type": "display_data"
    }
   ],
   "source": [
    "#Gender distribution\n",
    "plt.rcParams[\"figure.figsize\"] = (20,10)\n",
    "fig, axes = plt.subplots(nrows=1, ncols=1)\n",
    "\n",
    "ax5 = df_final['Rndrng_Prvdr_Gndr'].value_counts().plot(\n",
    "kind = 'pie',autopct='%.2f%%',fontsize = \"22\" ,ax=axes,label='')\n",
    "ax5.legend( labels=['Male','Female'], loc='best')\n",
    "ax5.set_title(label='Gender',fontsize=15)\n",
    "\n",
    "\n",
    "plt.show()"
   ]
  },
  {
   "cell_type": "code",
   "execution_count": 38,
   "id": "9a4ff6cc",
   "metadata": {},
   "outputs": [
    {
     "data": {
      "image/png": "[encoded data removed]",
      "text/plain": [
       "<Figure size 1440x720 with 1 Axes>"
      ]
     },
     "metadata": {
      "needs_background": "light"
     },
     "output_type": "display_data"
    }
   ],
   "source": [
    "#years distribution\n",
    "\n",
    "plt.rcParams[\"figure.figsize\"] = (20,10)\n",
    "fig, axes = plt.subplots(nrows=1, ncols=1)\n",
    "\n",
    "ax6=df_final['year'].value_counts().plot(kind='bar',ax=axes,fontsize=15,width=0.78)\n",
    "ax6.set_title(label='Year',fontsize=15)\n",
    "for p in ax6.patches:                 \n",
    "    ax6.annotate(np.round(p.get_height(),decimals=2),(p.get_x()+p.get_width()/2., p.get_height()),ha='center', va='center',\n",
    "                fontsize=13)\n",
    "    \n",
    "ax6.get_yaxis().set_major_formatter(matplotlib.ticker.FuncFormatter(lambda x, p: format(int(x), ',')))\n",
    "\n",
    "plt.show()"
   ]
  },
  {
   "cell_type": "code",
   "execution_count": 39,
   "id": "b5916454",
   "metadata": {},
   "outputs": [
    {
     "data": {
      "image/png": "[encoded data removed]",
      "text/plain": [
       "<Figure size 1440x720 with 2 Axes>"
      ]
     },
     "metadata": {
      "needs_background": "light"
     },
     "output_type": "display_data"
    }
   ],
   "source": [
    "#Fraud rate\n",
    "\n",
    "plt.rcParams[\"figure.figsize\"] = (20,10)\n",
    "fig, axes = plt.subplots(nrows=1, ncols=2)\n",
    "\n",
    "ax7 = df_final['Fraud'].value_counts().plot(\n",
    "kind = 'pie',autopct='%.2f%%',\n",
    "rot = 0 ,fontsize = \"22\" ,ax=axes[0])\n",
    "ax7.legend( labels=['Non_Fraud','Fraud'], loc='best')\n",
    "# plt.title('Fraud Rate  \\n',\n",
    "# horizontalalignment=\"center\", fontstyle = \"normal\", \n",
    "# fontsize = \"22\", fontfamily = \"sans-serif\")\n",
    "\n",
    "\n",
    "plt.suptitle('Fraud Rate \\n',horizontalalignment=\"center\", fontstyle = \"normal\", \n",
    "             fontsize = \"22\", fontfamily = \"sans-serif\")\n",
    "\n",
    "ax77=df_final['Fraud'].value_counts(ascending=True).plot(kind='bar',ax=axes[1],fontsize=15,width=0.78)\n",
    "# ax9.set_title(label='Fraud By Gender',fontsize=15)\n",
    "for p in ax77.patches:                 \n",
    "    ax77.annotate(np.round(p.get_height(),decimals=2),(p.get_x()+p.get_width()/2., p.get_height()),ha='center', va='center',\n",
    "                fontsize=15)\n",
    "ax77.get_yaxis().set_major_formatter(matplotlib.ticker.FuncFormatter(lambda x, p: format(int(x), ',')))\n",
    "plt.show()"
   ]
  },
  {
   "cell_type": "code",
   "execution_count": 40,
   "id": "a22e6b01",
   "metadata": {},
   "outputs": [
    {
     "name": "stdout",
     "output_type": "stream",
     "text": [
      "80 unique type values\n",
      "57 unique type values\n"
     ]
    }
   ],
   "source": [
    "print(df_final['Rndrng_Prvdr_Type'].nunique() ,'unique type values')#can't visualize this feature becaue 95 is too high\n",
    "print(df_final['Rndrng_Prvdr_State_Abrvtn'].nunique() ,'unique type values')#can't visualize this feature becaue 57 is too high"
   ]
  },
  {
   "cell_type": "code",
   "execution_count": 41,
   "id": "863d3781",
   "metadata": {},
   "outputs": [
    {
     "name": "stdout",
     "output_type": "stream",
     "text": [
      "Top 10 most common providers type :\n"
     ]
    },
    {
     "data": {
      "text/html": [
       "<div>\n",
       "<style scoped>\n",
       "    .dataframe tbody tr th:only-of-type {\n",
       "        vertical-align: middle;\n",
       "    }\n",
       "\n",
       "    .dataframe tbody tr th {\n",
       "        vertical-align: top;\n",
       "    }\n",
       "\n",
       "    .dataframe thead th {\n",
       "        text-align: right;\n",
       "    }\n",
       "</style>\n",
       "<table border=\"1\" class=\"dataframe\">\n",
       "  <thead>\n",
       "    <tr style=\"text-align: right;\">\n",
       "      <th></th>\n",
       "      <th>Rndrng_Prvdr_Type</th>\n",
       "    </tr>\n",
       "  </thead>\n",
       "  <tbody>\n",
       "    <tr>\n",
       "      <th>Nurse Practitioner</th>\n",
       "      <td>10.609</td>\n",
       "    </tr>\n",
       "    <tr>\n",
       "      <th>Internal Medicine</th>\n",
       "      <td>10.192</td>\n",
       "    </tr>\n",
       "    <tr>\n",
       "      <th>Family Practice</th>\n",
       "      <td>8.308</td>\n",
       "    </tr>\n",
       "    <tr>\n",
       "      <th>Physician Assistant</th>\n",
       "      <td>6.832</td>\n",
       "    </tr>\n",
       "    <tr>\n",
       "      <th>Physical Therapist in Private Practice</th>\n",
       "      <td>4.667</td>\n",
       "    </tr>\n",
       "    <tr>\n",
       "      <th>Emergency Medicine</th>\n",
       "      <td>4.330</td>\n",
       "    </tr>\n",
       "    <tr>\n",
       "      <th>Certified Registered Nurse Anesthetist (CRNA)</th>\n",
       "      <td>3.841</td>\n",
       "    </tr>\n",
       "    <tr>\n",
       "      <th>Anesthesiology</th>\n",
       "      <td>3.801</td>\n",
       "    </tr>\n",
       "    <tr>\n",
       "      <th>Chiropractic</th>\n",
       "      <td>3.761</td>\n",
       "    </tr>\n",
       "    <tr>\n",
       "      <th>Obstetrics &amp; Gynecology</th>\n",
       "      <td>3.031</td>\n",
       "    </tr>\n",
       "  </tbody>\n",
       "</table>\n",
       "</div>"
      ],
      "text/plain": [
       "                                               Rndrng_Prvdr_Type\n",
       "Nurse Practitioner                                        10.609\n",
       "Internal Medicine                                         10.192\n",
       "Family Practice                                            8.308\n",
       "Physician Assistant                                        6.832\n",
       "Physical Therapist in Private Practice                     4.667\n",
       "Emergency Medicine                                         4.330\n",
       "Certified Registered Nurse Anesthetist (CRNA)              3.841\n",
       "Anesthesiology                                             3.801\n",
       "Chiropractic                                               3.761\n",
       "Obstetrics & Gynecology                                    3.031"
      ]
     },
     "execution_count": 41,
     "metadata": {},
     "output_type": "execute_result"
    }
   ],
   "source": [
    "print('Top 10 most common providers type :')\n",
    "(df_final['Rndrng_Prvdr_Type'].value_counts().to_frame()*100/df_final.shape[0]).head(10)"
   ]
  },
  {
   "cell_type": "code",
   "execution_count": 42,
   "id": "ceaae154",
   "metadata": {},
   "outputs": [
    {
     "name": "stdout",
     "output_type": "stream",
     "text": [
      "Top 10 most common providers type :\n"
     ]
    },
    {
     "data": {
      "text/html": [
       "<div>\n",
       "<style scoped>\n",
       "    .dataframe tbody tr th:only-of-type {\n",
       "        vertical-align: middle;\n",
       "    }\n",
       "\n",
       "    .dataframe tbody tr th {\n",
       "        vertical-align: top;\n",
       "    }\n",
       "\n",
       "    .dataframe thead th {\n",
       "        text-align: right;\n",
       "    }\n",
       "</style>\n",
       "<table border=\"1\" class=\"dataframe\">\n",
       "  <thead>\n",
       "    <tr style=\"text-align: right;\">\n",
       "      <th></th>\n",
       "      <th>Rndrng_Prvdr_State_Abrvtn</th>\n",
       "    </tr>\n",
       "  </thead>\n",
       "  <tbody>\n",
       "    <tr>\n",
       "      <th>CA</th>\n",
       "      <td>8.156</td>\n",
       "    </tr>\n",
       "    <tr>\n",
       "      <th>NY</th>\n",
       "      <td>7.618</td>\n",
       "    </tr>\n",
       "    <tr>\n",
       "      <th>FL</th>\n",
       "      <td>6.664</td>\n",
       "    </tr>\n",
       "    <tr>\n",
       "      <th>TX</th>\n",
       "      <td>6.415</td>\n",
       "    </tr>\n",
       "    <tr>\n",
       "      <th>PA</th>\n",
       "      <td>4.956</td>\n",
       "    </tr>\n",
       "    <tr>\n",
       "      <th>IL</th>\n",
       "      <td>4.018</td>\n",
       "    </tr>\n",
       "    <tr>\n",
       "      <th>OH</th>\n",
       "      <td>3.873</td>\n",
       "    </tr>\n",
       "    <tr>\n",
       "      <th>MI</th>\n",
       "      <td>3.553</td>\n",
       "    </tr>\n",
       "    <tr>\n",
       "      <th>NC</th>\n",
       "      <td>3.272</td>\n",
       "    </tr>\n",
       "    <tr>\n",
       "      <th>NJ</th>\n",
       "      <td>3.103</td>\n",
       "    </tr>\n",
       "  </tbody>\n",
       "</table>\n",
       "</div>"
      ],
      "text/plain": [
       "    Rndrng_Prvdr_State_Abrvtn\n",
       "CA                      8.156\n",
       "NY                      7.618\n",
       "FL                      6.664\n",
       "TX                      6.415\n",
       "PA                      4.956\n",
       "IL                      4.018\n",
       "OH                      3.873\n",
       "MI                      3.553\n",
       "NC                      3.272\n",
       "NJ                      3.103"
      ]
     },
     "execution_count": 42,
     "metadata": {},
     "output_type": "execute_result"
    }
   ],
   "source": [
    "print('Top 10 most common providers type :')\n",
    "(df_final['Rndrng_Prvdr_State_Abrvtn'].value_counts().to_frame()*100/df_final.shape[0]).head(10)"
   ]
  },
  {
   "cell_type": "markdown",
   "id": "82f47f41",
   "metadata": {},
   "source": [
    "__NOTES :__\n",
    "\n",
    "- Data imbalance: only 10% of fraudulent practitioners\n",
    "- Fairly balanced gender distribution\n",
    "- Similar amount of valid data each year\n",
    "- Histograms of most numerical variables is skewed to the right"
   ]
  },
  {
   "cell_type": "markdown",
   "id": "505e1ca7",
   "metadata": {},
   "source": [
    "### 3.2. Bivariative analysis"
   ]
  },
  {
   "cell_type": "code",
   "execution_count": 43,
   "id": "3dd6c473",
   "metadata": {},
   "outputs": [
    {
     "data": {
      "text/html": [
       "<div>\n",
       "<style scoped>\n",
       "    .dataframe tbody tr th:only-of-type {\n",
       "        vertical-align: middle;\n",
       "    }\n",
       "\n",
       "    .dataframe tbody tr th {\n",
       "        vertical-align: top;\n",
       "    }\n",
       "\n",
       "    .dataframe thead th {\n",
       "        text-align: right;\n",
       "    }\n",
       "</style>\n",
       "<table border=\"1\" class=\"dataframe\">\n",
       "  <thead>\n",
       "    <tr style=\"text-align: right;\">\n",
       "      <th></th>\n",
       "      <th>Rndrng_NPI</th>\n",
       "      <th>Rndrng_Prvdr_Type</th>\n",
       "      <th>Rndrng_Prvdr_State_Abrvtn</th>\n",
       "      <th>Rndrng_Prvdr_Gndr</th>\n",
       "      <th>Tot_HCPCS_Cds</th>\n",
       "      <th>Bene_Male_Cnt</th>\n",
       "      <th>Bene_Avg_Age</th>\n",
       "      <th>Tot_Srvcs</th>\n",
       "      <th>Tot_Benes</th>\n",
       "      <th>Bene_Avg_Risk_Scre</th>\n",
       "      <th>Tot_Sbmtd_Chrg</th>\n",
       "      <th>Tot_Mdcr_Pymt_Amt</th>\n",
       "      <th>year</th>\n",
       "      <th>Fraud</th>\n",
       "    </tr>\n",
       "  </thead>\n",
       "  <tbody>\n",
       "    <tr>\n",
       "      <th>12</th>\n",
       "      <td>1003000407</td>\n",
       "      <td>Family Practice</td>\n",
       "      <td>PA</td>\n",
       "      <td>M</td>\n",
       "      <td>23</td>\n",
       "      <td>64.000</td>\n",
       "      <td>79</td>\n",
       "      <td>476.000</td>\n",
       "      <td>160</td>\n",
       "      <td>2.184</td>\n",
       "      <td>91196.000</td>\n",
       "      <td>37485.180</td>\n",
       "      <td>2018</td>\n",
       "      <td>1</td>\n",
       "    </tr>\n",
       "    <tr>\n",
       "      <th>13</th>\n",
       "      <td>1003000407</td>\n",
       "      <td>Family Practice</td>\n",
       "      <td>PA</td>\n",
       "      <td>M</td>\n",
       "      <td>31</td>\n",
       "      <td>167.000</td>\n",
       "      <td>78</td>\n",
       "      <td>1637.000</td>\n",
       "      <td>401</td>\n",
       "      <td>2.000</td>\n",
       "      <td>260033.000</td>\n",
       "      <td>136143.380</td>\n",
       "      <td>2016</td>\n",
       "      <td>1</td>\n",
       "    </tr>\n",
       "    <tr>\n",
       "      <th>14</th>\n",
       "      <td>1003000407</td>\n",
       "      <td>Family Practice</td>\n",
       "      <td>PA</td>\n",
       "      <td>M</td>\n",
       "      <td>29</td>\n",
       "      <td>104.000</td>\n",
       "      <td>79</td>\n",
       "      <td>857.000</td>\n",
       "      <td>260</td>\n",
       "      <td>2.117</td>\n",
       "      <td>132744.000</td>\n",
       "      <td>66084.780</td>\n",
       "      <td>2017</td>\n",
       "      <td>1</td>\n",
       "    </tr>\n",
       "    <tr>\n",
       "      <th>4389</th>\n",
       "      <td>1003066838</td>\n",
       "      <td>Family Practice</td>\n",
       "      <td>WY</td>\n",
       "      <td>M</td>\n",
       "      <td>48</td>\n",
       "      <td>33.000</td>\n",
       "      <td>67</td>\n",
       "      <td>414.000</td>\n",
       "      <td>83</td>\n",
       "      <td>1.322</td>\n",
       "      <td>41931.000</td>\n",
       "      <td>10095.000</td>\n",
       "      <td>2019</td>\n",
       "      <td>1</td>\n",
       "    </tr>\n",
       "    <tr>\n",
       "      <th>4390</th>\n",
       "      <td>1003066838</td>\n",
       "      <td>Family Practice</td>\n",
       "      <td>WY</td>\n",
       "      <td>M</td>\n",
       "      <td>94</td>\n",
       "      <td>105.000</td>\n",
       "      <td>69</td>\n",
       "      <td>2979.000</td>\n",
       "      <td>242</td>\n",
       "      <td>1.175</td>\n",
       "      <td>236078.970</td>\n",
       "      <td>70428.210</td>\n",
       "      <td>2018</td>\n",
       "      <td>1</td>\n",
       "    </tr>\n",
       "  </tbody>\n",
       "</table>\n",
       "</div>"
      ],
      "text/plain": [
       "      Rndrng_NPI Rndrng_Prvdr_Type Rndrng_Prvdr_State_Abrvtn  \\\n",
       "12    1003000407   Family Practice                        PA   \n",
       "13    1003000407   Family Practice                        PA   \n",
       "14    1003000407   Family Practice                        PA   \n",
       "4389  1003066838   Family Practice                        WY   \n",
       "4390  1003066838   Family Practice                        WY   \n",
       "\n",
       "     Rndrng_Prvdr_Gndr  Tot_HCPCS_Cds  Bene_Male_Cnt  Bene_Avg_Age  Tot_Srvcs  \\\n",
       "12                   M             23         64.000            79    476.000   \n",
       "13                   M             31        167.000            78   1637.000   \n",
       "14                   M             29        104.000            79    857.000   \n",
       "4389                 M             48         33.000            67    414.000   \n",
       "4390                 M             94        105.000            69   2979.000   \n",
       "\n",
       "      Tot_Benes  Bene_Avg_Risk_Scre  Tot_Sbmtd_Chrg  Tot_Mdcr_Pymt_Amt  year  \\\n",
       "12          160               2.184       91196.000          37485.180  2018   \n",
       "13          401               2.000      260033.000         136143.380  2016   \n",
       "14          260               2.117      132744.000          66084.780  2017   \n",
       "4389         83               1.322       41931.000          10095.000  2019   \n",
       "4390        242               1.175      236078.970          70428.210  2018   \n",
       "\n",
       "      Fraud  \n",
       "12        1  \n",
       "13        1  \n",
       "14        1  \n",
       "4389      1  \n",
       "4390      1  "
      ]
     },
     "execution_count": 43,
     "metadata": {},
     "output_type": "execute_result"
    }
   ],
   "source": [
    "df_fraud=df_final[df_final['Fraud']==1]\n",
    "df_fraud.head()"
   ]
  },
  {
   "cell_type": "markdown",
   "id": "cc0fe054",
   "metadata": {},
   "source": [
    "#### 3.2.1. Fraud rate by gender"
   ]
  },
  {
   "cell_type": "code",
   "execution_count": 44,
   "id": "a5f5d80c",
   "metadata": {},
   "outputs": [
    {
     "data": {
      "image/png": "[encoded data removed]",
      "text/plain": [
       "<Figure size 1440x720 with 2 Axes>"
      ]
     },
     "metadata": {
      "needs_background": "light"
     },
     "output_type": "display_data"
    }
   ],
   "source": [
    "plt.rcParams[\"figure.figsize\"] = (20,10)\n",
    "fig, axes = plt.subplots(nrows=1, ncols=2)\n",
    "\n",
    "plt.suptitle('Fraud Rate By Gender\\n',horizontalalignment=\"center\", fontstyle = \"normal\", \n",
    "             fontsize = \"22\", fontfamily = \"sans-serif\")\n",
    "\n",
    "ax8 = df_fraud['Rndrng_Prvdr_Gndr'].value_counts().plot(kind = 'pie',autopct='%.2f%%',ax=axes[0]\n",
    "                                                        ,fontsize = \"22\" ,label='')\n",
    "ax8.legend( labels=['Male','Female'], loc='best')\n",
    "\n",
    "ax9=df_fraud['Rndrng_Prvdr_Gndr'].value_counts(ascending=True).plot(kind='bar',ax=axes[1],fontsize=15,width=0.78)\n",
    "for p in ax9.patches:                 \n",
    "    ax9.annotate(np.round(p.get_height(),decimals=2),(p.get_x()+p.get_width()/2., p.get_height()),ha='center', va='center',\n",
    "                fontsize=15)\n",
    "ax9.get_yaxis().set_major_formatter(matplotlib.ticker.FuncFormatter(lambda x, p: format(int(x), ',')))"
   ]
  },
  {
   "cell_type": "markdown",
   "id": "047b5f08",
   "metadata": {},
   "source": [
    "#### 3.2.2. Fraud rate by year"
   ]
  },
  {
   "cell_type": "code",
   "execution_count": 45,
   "id": "cac46d83",
   "metadata": {},
   "outputs": [
    {
     "data": {
      "image/png": "[encoded data removed]",
      "text/plain": [
       "<Figure size 1440x720 with 1 Axes>"
      ]
     },
     "metadata": {
      "needs_background": "light"
     },
     "output_type": "display_data"
    }
   ],
   "source": [
    "ax10=(df_fraud['year'].value_counts(ascending=False)*100/df_fraud.shape[0]).plot(kind='bar',fontsize=15,width=0.78)\n",
    "for p in ax10.patches:                 \n",
    "    ax10.annotate(np.round(p.get_height(),decimals=2),(p.get_x()+p.get_width()/2., p.get_height()),ha='center', va='center',\n",
    "                fontsize=18)\n",
    "ax10.get_yaxis().set_major_formatter(matplotlib.ticker.FuncFormatter(lambda x, p: format(int(x), ',')))\n",
    "\n",
    "plt.title('Fraud Rate % By Year\\n',horizontalalignment=\"center\", fontstyle = \"normal\", \n",
    "             fontsize = \"22\", fontfamily = \"sans-serif\")\n",
    "plt.show()"
   ]
  },
  {
   "cell_type": "markdown",
   "id": "71f97743",
   "metadata": {},
   "source": [
    "#### 3.2.3. Fraud rate by speciality"
   ]
  },
  {
   "cell_type": "code",
   "execution_count": 46,
   "id": "d578c446",
   "metadata": {},
   "outputs": [
    {
     "name": "stdout",
     "output_type": "stream",
     "text": [
      "Top 10 most fraudulent providers type :\n"
     ]
    },
    {
     "data": {
      "text/html": [
       "<div>\n",
       "<style scoped>\n",
       "    .dataframe tbody tr th:only-of-type {\n",
       "        vertical-align: middle;\n",
       "    }\n",
       "\n",
       "    .dataframe tbody tr th {\n",
       "        vertical-align: top;\n",
       "    }\n",
       "\n",
       "    .dataframe thead th {\n",
       "        text-align: right;\n",
       "    }\n",
       "</style>\n",
       "<table border=\"1\" class=\"dataframe\">\n",
       "  <thead>\n",
       "    <tr style=\"text-align: right;\">\n",
       "      <th></th>\n",
       "      <th>Rndrng_Prvdr_Type</th>\n",
       "    </tr>\n",
       "  </thead>\n",
       "  <tbody>\n",
       "    <tr>\n",
       "      <th>Internal Medicine</th>\n",
       "      <td>17.402</td>\n",
       "    </tr>\n",
       "    <tr>\n",
       "      <th>Family Practice</th>\n",
       "      <td>15.477</td>\n",
       "    </tr>\n",
       "    <tr>\n",
       "      <th>Nurse Practitioner</th>\n",
       "      <td>5.854</td>\n",
       "    </tr>\n",
       "    <tr>\n",
       "      <th>Chiropractic</th>\n",
       "      <td>5.293</td>\n",
       "    </tr>\n",
       "    <tr>\n",
       "      <th>Psychiatry</th>\n",
       "      <td>5.052</td>\n",
       "    </tr>\n",
       "    <tr>\n",
       "      <th>Emergency Medicine</th>\n",
       "      <td>4.170</td>\n",
       "    </tr>\n",
       "    <tr>\n",
       "      <th>Podiatry</th>\n",
       "      <td>4.010</td>\n",
       "    </tr>\n",
       "    <tr>\n",
       "      <th>Anesthesiology</th>\n",
       "      <td>3.929</td>\n",
       "    </tr>\n",
       "    <tr>\n",
       "      <th>Obstetrics &amp; Gynecology</th>\n",
       "      <td>3.448</td>\n",
       "    </tr>\n",
       "    <tr>\n",
       "      <th>Physical Medicine and Rehabilitation</th>\n",
       "      <td>3.128</td>\n",
       "    </tr>\n",
       "  </tbody>\n",
       "</table>\n",
       "</div>"
      ],
      "text/plain": [
       "                                      Rndrng_Prvdr_Type\n",
       "Internal Medicine                                17.402\n",
       "Family Practice                                  15.477\n",
       "Nurse Practitioner                                5.854\n",
       "Chiropractic                                      5.293\n",
       "Psychiatry                                        5.052\n",
       "Emergency Medicine                                4.170\n",
       "Podiatry                                          4.010\n",
       "Anesthesiology                                    3.929\n",
       "Obstetrics & Gynecology                           3.448\n",
       "Physical Medicine and Rehabilitation              3.128"
      ]
     },
     "execution_count": 46,
     "metadata": {},
     "output_type": "execute_result"
    }
   ],
   "source": [
    "print('Top 10 most fraudulent providers type :')\n",
    "\n",
    "(df_fraud['Rndrng_Prvdr_Type'].value_counts().to_frame()*100/df_fraud.shape[0]).head(10)"
   ]
  },
  {
   "cell_type": "code",
   "execution_count": 47,
   "id": "9d68a6f3",
   "metadata": {
    "scrolled": true
   },
   "outputs": [
    {
     "name": "stdout",
     "output_type": "stream",
     "text": [
      "Top 10 most fraudulent providers states :\n"
     ]
    },
    {
     "data": {
      "text/html": [
       "<div>\n",
       "<style scoped>\n",
       "    .dataframe tbody tr th:only-of-type {\n",
       "        vertical-align: middle;\n",
       "    }\n",
       "\n",
       "    .dataframe tbody tr th {\n",
       "        vertical-align: top;\n",
       "    }\n",
       "\n",
       "    .dataframe thead th {\n",
       "        text-align: right;\n",
       "    }\n",
       "</style>\n",
       "<table border=\"1\" class=\"dataframe\">\n",
       "  <thead>\n",
       "    <tr style=\"text-align: right;\">\n",
       "      <th></th>\n",
       "      <th>Rndrng_Prvdr_State_Abrvtn</th>\n",
       "    </tr>\n",
       "  </thead>\n",
       "  <tbody>\n",
       "    <tr>\n",
       "      <th>FL</th>\n",
       "      <td>12.430</td>\n",
       "    </tr>\n",
       "    <tr>\n",
       "      <th>NY</th>\n",
       "      <td>10.746</td>\n",
       "    </tr>\n",
       "    <tr>\n",
       "      <th>CA</th>\n",
       "      <td>9.142</td>\n",
       "    </tr>\n",
       "    <tr>\n",
       "      <th>TX</th>\n",
       "      <td>7.137</td>\n",
       "    </tr>\n",
       "    <tr>\n",
       "      <th>IL</th>\n",
       "      <td>6.095</td>\n",
       "    </tr>\n",
       "    <tr>\n",
       "      <th>MI</th>\n",
       "      <td>4.731</td>\n",
       "    </tr>\n",
       "    <tr>\n",
       "      <th>PA</th>\n",
       "      <td>3.849</td>\n",
       "    </tr>\n",
       "    <tr>\n",
       "      <th>GA</th>\n",
       "      <td>3.528</td>\n",
       "    </tr>\n",
       "    <tr>\n",
       "      <th>OH</th>\n",
       "      <td>3.448</td>\n",
       "    </tr>\n",
       "    <tr>\n",
       "      <th>NJ</th>\n",
       "      <td>3.047</td>\n",
       "    </tr>\n",
       "  </tbody>\n",
       "</table>\n",
       "</div>"
      ],
      "text/plain": [
       "    Rndrng_Prvdr_State_Abrvtn\n",
       "FL                     12.430\n",
       "NY                     10.746\n",
       "CA                      9.142\n",
       "TX                      7.137\n",
       "IL                      6.095\n",
       "MI                      4.731\n",
       "PA                      3.849\n",
       "GA                      3.528\n",
       "OH                      3.448\n",
       "NJ                      3.047"
      ]
     },
     "execution_count": 47,
     "metadata": {},
     "output_type": "execute_result"
    }
   ],
   "source": [
    "print('Top 10 most fraudulent providers states :')\n",
    "\n",
    "(df_fraud['Rndrng_Prvdr_State_Abrvtn'].value_counts().to_frame()*100/df_fraud.shape[0]).head(10)"
   ]
  },
  {
   "cell_type": "markdown",
   "id": "cf300df4",
   "metadata": {},
   "source": [
    "__NOTES:__\n",
    "\n",
    "- Fraudulent male practitioners are more present in the data set\n",
    "- Fraud rate decreases over the years\n",
    "- 'Internal Medicine' is the most fraudulent speciality\n",
    "- 'Florida' is the most fraudulent state"
   ]
  }
 ],
 "metadata": {
  "interpreter": {
   "hash": "a7a3b40a93e4bcbea5c0f6a867d5c9303c90b59a833469dc7d680524bbed05c6"
  },
  "kernelspec": {
   "display_name": "Python 3 (ipykernel)",
   "language": "python",
   "name": "python3"
  },
  "language_info": {
   "codemirror_mode": {
    "name": "ipython",
    "version": 3
   },
   "file_extension": ".py",
   "mimetype": "text/x-python",
   "name": "python",
   "nbconvert_exporter": "python",
   "pygments_lexer": "ipython3",
   "version": "3.9.12"
  },
  "nbTranslate": {
   "displayLangs": [
    "*"
   ],
   "hotkey": "alt-t",
   "langInMainMenu": true,
   "sourceLang": "en",
   "targetLang": "fr",
   "useGoogleTranslate": true
  }
 },
 "nbformat": 4,
 "nbformat_minor": 5
}
